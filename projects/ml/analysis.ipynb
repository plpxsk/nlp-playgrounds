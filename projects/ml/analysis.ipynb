{
 "cells": [
  {
   "cell_type": "markdown",
   "id": "539aa834-f558-4157-8419-b6fbe7eb2c12",
   "metadata": {},
   "source": [
    "# Med ML NLP Playgrounds\n",
    "\n",
    "Classify abstracts based on features engineered with `(sci)spacy`\n",
    "\n",
    "Data: 18 abstracts"
   ]
  },
  {
   "cell_type": "markdown",
   "id": "4653b1a0-8148-483a-9eba-14fa243db465",
   "metadata": {},
   "source": [
    "# Load"
   ]
  },
  {
   "cell_type": "code",
   "execution_count": 5,
   "id": "40ebbf34-1428-488a-a92d-69d149c22196",
   "metadata": {},
   "outputs": [],
   "source": [
    "import spacy\n",
    "import pandas as pd\n",
    "\n",
    "from collections import Counter"
   ]
  },
  {
   "cell_type": "code",
   "execution_count": 6,
   "id": "c1a58c6d-d9ad-428c-a7c6-f43e3bc4bfab",
   "metadata": {},
   "outputs": [
    {
     "data": {
      "text/plain": [
       "18"
      ]
     },
     "execution_count": 6,
     "metadata": {},
     "output_type": "execute_result"
    }
   ],
   "source": [
    "def load_data(p):\n",
    "    with open(p) as f:\n",
    "        x = f.read()\n",
    "    x = x.split(\"\\n\\n\")\n",
    "    x = [i.replace(\"\\n\", \" \") for i in x]\n",
    "    return(x)\n",
    "\n",
    "p = \"../../data/abstracts_manual.txt\"\n",
    "abstracts_raw = load_data(p)\n",
    "\n",
    "len(abstracts_raw)"
   ]
  },
  {
   "cell_type": "markdown",
   "id": "3de9fc51-b23c-431f-ba34-59bf746f75aa",
   "metadata": {},
   "source": [
    "# Model"
   ]
  },
  {
   "cell_type": "code",
   "execution_count": 7,
   "id": "073f4e29-aea2-40c8-bc82-e3d775d6d5a7",
   "metadata": {},
   "outputs": [],
   "source": [
    "model = 'en_ner_bionlp13cg_md'\n",
    "nlp = spacy.load(model)"
   ]
  },
  {
   "cell_type": "code",
   "execution_count": 8,
   "id": "6be3c760-0a62-4ac4-84ea-4131d3f0bedd",
   "metadata": {},
   "outputs": [],
   "source": [
    "abstracts = [nlp(x) for x in abstracts_raw]"
   ]
  },
  {
   "cell_type": "markdown",
   "id": "5dd1b0b1-b472-4147-a8c5-34ebf9398d6a",
   "metadata": {},
   "source": [
    "# Create Features"
   ]
  },
  {
   "cell_type": "markdown",
   "id": "58aa86f0-9a59-4856-a290-e8c370a35fc4",
   "metadata": {},
   "source": [
    "## Count medical entities"
   ]
  },
  {
   "cell_type": "code",
   "execution_count": 21,
   "id": "2458b71e-cc17-4f11-83b8-aa3fd5d4040e",
   "metadata": {},
   "outputs": [],
   "source": [
    "def get_special_entities(doc):\n",
    "    \"\"\"https://gist.github.com/DeNeutoy/b20860b40b9fa9d33675893c56afde42#file-app-py-L121\"\"\"\n",
    "    attrs = [\"text\", \"label_\", \"start\", \"end\", \"start_char\", \"end_char\"]\n",
    "    data = [\n",
    "        [str(getattr(ent, attr)) for attr in attrs]\n",
    "        for ent in doc.ents\n",
    "    ]\n",
    "    return(data, attrs)\n",
    "\n",
    "\n",
    "def get_entity_counts(doc):\n",
    "    ents, _ = get_special_entities(doc)\n",
    "    # count the second entries \"label_\"\n",
    "    counts = Counter([x[1] for x in ents])\n",
    "    return(counts)\n",
    "\n",
    "\n",
    "def make_feature_df(doc, expand_features=False):\n",
    "    feature_names = ['data', 'tokens', 'entities_collapsed']\n",
    "    # note: len(x) counts tokens because each x is a `spacy.tokens.token.Token`\n",
    "    features = [(str(x), len(x), get_entity_counts(x)) for x in doc]\n",
    "    df = pd.DataFrame(features, columns=feature_names)\n",
    "    if expand_features:\n",
    "        # expand the 'entities' into columns\n",
    "        df = df.join(pd.DataFrame(df.pop('entities_collapsed').values.tolist()))\n",
    "    return(df)"
   ]
  },
  {
   "cell_type": "code",
   "execution_count": 24,
   "id": "5ba0ff8f-704a-4d9d-ab94-a81cff8ae8cc",
   "metadata": {},
   "outputs": [
    {
     "data": {
      "text/html": [
       "<div>\n",
       "<style scoped>\n",
       "    .dataframe tbody tr th:only-of-type {\n",
       "        vertical-align: middle;\n",
       "    }\n",
       "\n",
       "    .dataframe tbody tr th {\n",
       "        vertical-align: top;\n",
       "    }\n",
       "\n",
       "    .dataframe thead th {\n",
       "        text-align: right;\n",
       "    }\n",
       "</style>\n",
       "<table border=\"1\" class=\"dataframe\">\n",
       "  <thead>\n",
       "    <tr style=\"text-align: right;\">\n",
       "      <th></th>\n",
       "      <th>data</th>\n",
       "      <th>tokens</th>\n",
       "      <th>CANCER</th>\n",
       "      <th>GENE_OR_GENE_PRODUCT</th>\n",
       "      <th>ORGANISM</th>\n",
       "      <th>CELL</th>\n",
       "      <th>ORGAN</th>\n",
       "      <th>TISSUE</th>\n",
       "      <th>SIMPLE_CHEMICAL</th>\n",
       "      <th>ORGANISM_SUBSTANCE</th>\n",
       "      <th>MULTI_TISSUE_STRUCTURE</th>\n",
       "      <th>CELLULAR_COMPONENT</th>\n",
       "      <th>IMMATERIAL_ANATOMICAL_ENTITY</th>\n",
       "      <th>PATHOLOGICAL_FORMATION</th>\n",
       "      <th>ORGANISM_SUBDIVISION</th>\n",
       "    </tr>\n",
       "  </thead>\n",
       "  <tbody>\n",
       "    <tr>\n",
       "      <th>0</th>\n",
       "      <td>Lung cancer is the number one cause of cancer-...</td>\n",
       "      <td>300</td>\n",
       "      <td>15</td>\n",
       "      <td>5.0</td>\n",
       "      <td>1.0</td>\n",
       "      <td>1.0</td>\n",
       "      <td>5.0</td>\n",
       "      <td>1.0</td>\n",
       "      <td>NaN</td>\n",
       "      <td>NaN</td>\n",
       "      <td>NaN</td>\n",
       "      <td>NaN</td>\n",
       "      <td>NaN</td>\n",
       "      <td>NaN</td>\n",
       "      <td>NaN</td>\n",
       "    </tr>\n",
       "    <tr>\n",
       "      <th>1</th>\n",
       "      <td>The immune system plays a dual role in tumor e...</td>\n",
       "      <td>174</td>\n",
       "      <td>8</td>\n",
       "      <td>1.0</td>\n",
       "      <td>2.0</td>\n",
       "      <td>3.0</td>\n",
       "      <td>NaN</td>\n",
       "      <td>NaN</td>\n",
       "      <td>NaN</td>\n",
       "      <td>NaN</td>\n",
       "      <td>NaN</td>\n",
       "      <td>NaN</td>\n",
       "      <td>NaN</td>\n",
       "      <td>NaN</td>\n",
       "      <td>NaN</td>\n",
       "    </tr>\n",
       "    <tr>\n",
       "      <th>2</th>\n",
       "      <td>Lung cancer is among the most common cancers w...</td>\n",
       "      <td>210</td>\n",
       "      <td>6</td>\n",
       "      <td>12.0</td>\n",
       "      <td>1.0</td>\n",
       "      <td>1.0</td>\n",
       "      <td>NaN</td>\n",
       "      <td>1.0</td>\n",
       "      <td>5.0</td>\n",
       "      <td>1.0</td>\n",
       "      <td>NaN</td>\n",
       "      <td>NaN</td>\n",
       "      <td>NaN</td>\n",
       "      <td>NaN</td>\n",
       "      <td>NaN</td>\n",
       "    </tr>\n",
       "    <tr>\n",
       "      <th>3</th>\n",
       "      <td>Most cancers are resistant to anti-PD-1/PD-L1 ...</td>\n",
       "      <td>169</td>\n",
       "      <td>7</td>\n",
       "      <td>8.0</td>\n",
       "      <td>2.0</td>\n",
       "      <td>3.0</td>\n",
       "      <td>NaN</td>\n",
       "      <td>NaN</td>\n",
       "      <td>3.0</td>\n",
       "      <td>NaN</td>\n",
       "      <td>NaN</td>\n",
       "      <td>NaN</td>\n",
       "      <td>NaN</td>\n",
       "      <td>NaN</td>\n",
       "      <td>NaN</td>\n",
       "    </tr>\n",
       "    <tr>\n",
       "      <th>4</th>\n",
       "      <td>Manipulation of the immune response is a game ...</td>\n",
       "      <td>258</td>\n",
       "      <td>8</td>\n",
       "      <td>6.0</td>\n",
       "      <td>1.0</td>\n",
       "      <td>6.0</td>\n",
       "      <td>NaN</td>\n",
       "      <td>NaN</td>\n",
       "      <td>3.0</td>\n",
       "      <td>NaN</td>\n",
       "      <td>NaN</td>\n",
       "      <td>NaN</td>\n",
       "      <td>NaN</td>\n",
       "      <td>NaN</td>\n",
       "      <td>NaN</td>\n",
       "    </tr>\n",
       "  </tbody>\n",
       "</table>\n",
       "</div>"
      ],
      "text/plain": [
       "                                                data  tokens  CANCER  \\\n",
       "0  Lung cancer is the number one cause of cancer-...     300      15   \n",
       "1  The immune system plays a dual role in tumor e...     174       8   \n",
       "2  Lung cancer is among the most common cancers w...     210       6   \n",
       "3  Most cancers are resistant to anti-PD-1/PD-L1 ...     169       7   \n",
       "4  Manipulation of the immune response is a game ...     258       8   \n",
       "\n",
       "   GENE_OR_GENE_PRODUCT  ORGANISM  CELL  ORGAN  TISSUE  SIMPLE_CHEMICAL  \\\n",
       "0                   5.0       1.0   1.0    5.0     1.0              NaN   \n",
       "1                   1.0       2.0   3.0    NaN     NaN              NaN   \n",
       "2                  12.0       1.0   1.0    NaN     1.0              5.0   \n",
       "3                   8.0       2.0   3.0    NaN     NaN              3.0   \n",
       "4                   6.0       1.0   6.0    NaN     NaN              3.0   \n",
       "\n",
       "   ORGANISM_SUBSTANCE  MULTI_TISSUE_STRUCTURE  CELLULAR_COMPONENT  \\\n",
       "0                 NaN                     NaN                 NaN   \n",
       "1                 NaN                     NaN                 NaN   \n",
       "2                 1.0                     NaN                 NaN   \n",
       "3                 NaN                     NaN                 NaN   \n",
       "4                 NaN                     NaN                 NaN   \n",
       "\n",
       "   IMMATERIAL_ANATOMICAL_ENTITY  PATHOLOGICAL_FORMATION  ORGANISM_SUBDIVISION  \n",
       "0                           NaN                     NaN                   NaN  \n",
       "1                           NaN                     NaN                   NaN  \n",
       "2                           NaN                     NaN                   NaN  \n",
       "3                           NaN                     NaN                   NaN  \n",
       "4                           NaN                     NaN                   NaN  "
      ]
     },
     "execution_count": 24,
     "metadata": {},
     "output_type": "execute_result"
    }
   ],
   "source": [
    "df = make_feature_df(abstracts, expand_features=True)\n",
    "\n",
    "df.head()"
   ]
  },
  {
   "cell_type": "markdown",
   "id": "a543f905-dd5a-412e-aced-3e7b7c43c48b",
   "metadata": {},
   "source": [
    "## Todo: add count of Verbs, nouns, etc\n",
    "Also, **normalize** all the counts??\n",
    "\n",
    "See https://spacy.io/usage/spacy-101"
   ]
  },
  {
   "cell_type": "code",
   "execution_count": 65,
   "id": "c80b6e96-0270-460c-a0f7-a42d07059617",
   "metadata": {},
   "outputs": [
    {
     "data": {
      "text/plain": [
       "[Lung cancer,\n",
       " new intervention therapies,\n",
       " Curcumin,\n",
       " a natural occurring polyphenol,\n",
       " (Curcuma longa,\n",
       " It,\n",
       " curcumin,\n",
       " anti-cancer effects,\n",
       " Several in vitro and in vivo studies,\n",
       " these mechanisms,\n",
       " limitations,\n",
       " curcumin bioavailability,\n",
       " potential side effects,\n",
       " clinical trials]"
      ]
     },
     "execution_count": 65,
     "metadata": {},
     "output_type": "execute_result"
    }
   ],
   "source": [
    "x = abstracts[2]\n",
    "\n",
    "list(x.noun_chunks)"
   ]
  },
  {
   "cell_type": "code",
   "execution_count": 66,
   "id": "78ae7047-3291-438f-b08b-a134f67db480",
   "metadata": {},
   "outputs": [
    {
     "data": {
      "text/plain": [
       "(Lung cancer,\n",
       " cancers,\n",
       " lung cancer,\n",
       " lung cancer,\n",
       " Curcumin,\n",
       " polyphenol  ,\n",
       " turmeric,\n",
       " Curcuma longa,\n",
       " curcumin,\n",
       " anti-cancer,\n",
       " lung cancer,\n",
       " cell,\n",
       " STAT3,\n",
       " EGFR,\n",
       " FOXO3a,\n",
       " TGF-β,\n",
       " eIF2α,\n",
       " COX-2,\n",
       " Bcl-2,\n",
       " PI3KAkt/mTOR,\n",
       " ROS,\n",
       " Fas/FasL,\n",
       " Cdc42,\n",
       " E-cadherin,\n",
       " MMPs,\n",
       " adiponectin,\n",
       " curcumin)"
      ]
     },
     "execution_count": 66,
     "metadata": {},
     "output_type": "execute_result"
    }
   ],
   "source": [
    "x.ents"
   ]
  },
  {
   "cell_type": "code",
   "execution_count": 60,
   "id": "94405ca9-1736-4ef2-82e7-d0523c65cfbe",
   "metadata": {},
   "outputs": [
    {
     "data": {
      "text/plain": [
       "generator"
      ]
     },
     "execution_count": 60,
     "metadata": {},
     "output_type": "execute_result"
    }
   ],
   "source": [
    "x.noun_chunks"
   ]
  },
  {
   "cell_type": "code",
   "execution_count": 37,
   "id": "aa14d423-ee14-4e00-9813-2690c7247b9b",
   "metadata": {},
   "outputs": [
    {
     "data": {
      "text/plain": [
       "['effects', 'bioavailability']"
      ]
     },
     "execution_count": 37,
     "metadata": {},
     "output_type": "execute_result"
    }
   ],
   "source": [
    "[token.text for token in abstracts[2] if token.dep_==\"dobj\"]"
   ]
  },
  {
   "cell_type": "code",
   "execution_count": 52,
   "id": "8c1f166b-bb83-4240-be5d-7fe5bdd940d2",
   "metadata": {},
   "outputs": [
    {
     "name": "stdout",
     "output_type": "stream",
     "text": [
      "Recent recent ADJ amod\n",
      "research research NOUN nsubj\n",
      "on on ADP case\n",
      "cancer-associated cancer-associated ADJ amod\n",
      "microbial microbial ADJ amod\n",
      "communities community NOUN nmod\n",
      "has have VERB aux\n",
      "elucidated elucidate VERB ROOT\n",
      "the the DET det\n",
      "interplay interplay NOUN dobj\n"
     ]
    }
   ],
   "source": [
    "for token in abstracts[5][:10]:\n",
    "    print(token.text, token.lemma_, token.pos_, token.dep_)"
   ]
  },
  {
   "cell_type": "code",
   "execution_count": 68,
   "id": "e2544591-2165-4c2e-9fbf-7749875298ab",
   "metadata": {},
   "outputs": [
    {
     "name": "stdout",
     "output_type": "stream",
     "text": [
      "a\n",
      "a\n",
      "a\n",
      "a\n",
      "a\n"
     ]
    }
   ],
   "source": [
    "for token in x:\n",
    "    if token.lemma_ == 'cancer':\n",
    "        print('a')"
   ]
  },
  {
   "cell_type": "markdown",
   "id": "5b460910-0a2e-485b-8c11-79a171f2a217",
   "metadata": {},
   "source": [
    "## Dependency of given word\n",
    "\n",
    "Find occurences of a word such as \"cancer\", lemmatize it, and find and counts its dep_"
   ]
  },
  {
   "cell_type": "code",
   "execution_count": 48,
   "id": "78db79c0-519b-4496-9cfd-4ca06c762a16",
   "metadata": {},
   "outputs": [
    {
     "name": "stdout",
     "output_type": "stream",
     "text": [
      "a\n"
     ]
    }
   ],
   "source": [
    "for token in abstracts[5]:\n",
    "    if str(token.text) == 'cancer':\n",
    "        print(\"a\")"
   ]
  },
  {
   "cell_type": "code",
   "execution_count": 49,
   "id": "41a064e1-aa45-4de7-b2e5-a9fda50ac99e",
   "metadata": {},
   "outputs": [
    {
     "data": {
      "text/plain": [
       "Recent research on cancer-associated microbial communities has elucidated the interplay between bacteria, immune cells, and tumor cells; the bacterial pathways involved in the induction of carcinogenesis; and their clinical significance. Although accumulating evidence shows that a dysbiotic condition is associated with lung carcinogenesis, the underlying mechanisms remain unclear. Microorganisms possibly trigger tumor initiation and progression, presumably via  the production of bacterial toxins and other pro-inflammatory factors. The purpose of this review is to discuss the basic role of the airway microbiome in carcinogenesis and the underlying molecular mechanisms, with the aim of developing anticancer strategies involving the airway microbiota. In addition, the mechanisms via which the microbiome acts as a modulator of immunotherapies in lung cancer are summarized."
      ]
     },
     "execution_count": 49,
     "metadata": {},
     "output_type": "execute_result"
    }
   ],
   "source": [
    "abstracts[5]"
   ]
  },
  {
   "cell_type": "code",
   "execution_count": null,
   "id": "6fcb38fd-7bec-42b5-98e4-72ea62edf852",
   "metadata": {},
   "outputs": [],
   "source": []
  }
 ],
 "metadata": {
  "kernelspec": {
   "display_name": "Scispacy (playgrounds)",
   "language": "python",
   "name": "scispacy"
  },
  "language_info": {
   "codemirror_mode": {
    "name": "ipython",
    "version": 3
   },
   "file_extension": ".py",
   "mimetype": "text/x-python",
   "name": "python",
   "nbconvert_exporter": "python",
   "pygments_lexer": "ipython3",
   "version": "3.8.9"
  }
 },
 "nbformat": 4,
 "nbformat_minor": 5
}
