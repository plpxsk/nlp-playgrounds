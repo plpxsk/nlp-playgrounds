{
 "cells": [
  {
   "cell_type": "markdown",
   "id": "539aa834-f558-4157-8419-b6fbe7eb2c12",
   "metadata": {},
   "source": [
    "# Med ML NLP Playgrounds\n",
    "\n",
    "Classify abstracts based on features engineered with `(sci)spacy`\n",
    "\n",
    "Data: 18 abstracts"
   ]
  },
  {
   "cell_type": "markdown",
   "id": "4653b1a0-8148-483a-9eba-14fa243db465",
   "metadata": {},
   "source": [
    "# Load"
   ]
  },
  {
   "cell_type": "code",
   "execution_count": 15,
   "id": "40ebbf34-1428-488a-a92d-69d149c22196",
   "metadata": {},
   "outputs": [],
   "source": [
    "import spacy\n",
    "import pandas as pd\n",
    "\n",
    "from collections import Counter"
   ]
  },
  {
   "cell_type": "code",
   "execution_count": 43,
   "id": "c1a58c6d-d9ad-428c-a7c6-f43e3bc4bfab",
   "metadata": {},
   "outputs": [
    {
     "data": {
      "text/plain": [
       "18"
      ]
     },
     "execution_count": 43,
     "metadata": {},
     "output_type": "execute_result"
    }
   ],
   "source": [
    "def load_data(p):\n",
    "    with open(p) as f:\n",
    "        x = f.read()\n",
    "    x = x.split(\"\\n\\n\")\n",
    "    x = [i.replace(\"\\n\", \" \") for i in x]\n",
    "    return(x)\n",
    "\n",
    "p = \"../../data/abstracts_manual.txt\"\n",
    "abstracts_raw = load_data(p)\n",
    "\n",
    "len(abstracts_raw)"
   ]
  },
  {
   "cell_type": "markdown",
   "id": "3de9fc51-b23c-431f-ba34-59bf746f75aa",
   "metadata": {},
   "source": [
    "# Model"
   ]
  },
  {
   "cell_type": "code",
   "execution_count": 44,
   "id": "073f4e29-aea2-40c8-bc82-e3d775d6d5a7",
   "metadata": {},
   "outputs": [],
   "source": [
    "model = 'en_ner_bionlp13cg_md'\n",
    "nlp = spacy.load(model)"
   ]
  },
  {
   "cell_type": "code",
   "execution_count": 45,
   "id": "6be3c760-0a62-4ac4-84ea-4131d3f0bedd",
   "metadata": {},
   "outputs": [],
   "source": [
    "abstracts = [nlp(x) for x in abstracts_raw]"
   ]
  },
  {
   "cell_type": "markdown",
   "id": "5dd1b0b1-b472-4147-a8c5-34ebf9398d6a",
   "metadata": {},
   "source": [
    "# Create Features"
   ]
  },
  {
   "cell_type": "markdown",
   "id": "58aa86f0-9a59-4856-a290-e8c370a35fc4",
   "metadata": {},
   "source": [
    "## Count medical entities"
   ]
  },
  {
   "cell_type": "code",
   "execution_count": 63,
   "id": "2458b71e-cc17-4f11-83b8-aa3fd5d4040e",
   "metadata": {},
   "outputs": [],
   "source": [
    "def get_special_entities(doc):\n",
    "    \"\"\"https://gist.github.com/DeNeutoy/b20860b40b9fa9d33675893c56afde42#file-app-py-L121\"\"\"\n",
    "    attrs = [\"text\", \"label_\", \"start\", \"end\", \"start_char\", \"end_char\"]\n",
    "    data = [\n",
    "        [str(getattr(ent, attr)) for attr in attrs]\n",
    "        for ent in doc.ents\n",
    "    ]\n",
    "    return(data, attrs)\n",
    "\n",
    "\n",
    "def get_entity_counts(doc):\n",
    "    ents, _ = get_special_entities(doc)\n",
    "    # count the second entries \"label_\"\n",
    "    counts = Counter([x[1] for x in ents])\n",
    "    return(counts)\n",
    "\n",
    "def make_feature_df(doc, expand_features=False):\n",
    "    counts = [(str(x), len(x), get_entity_counts(x)) for x in doc]\n",
    "    df = pd.DataFrame(counts, columns=['data', 'length', 'entities'])\n",
    "    if expand_features:\n",
    "        # expand the 'entities' into columns\n",
    "        df = df.join(pd.DataFrame(df.pop('entities').values.tolist()))\n",
    "    return(df)"
   ]
  },
  {
   "cell_type": "code",
   "execution_count": 65,
   "id": "5ba0ff8f-704a-4d9d-ab94-a81cff8ae8cc",
   "metadata": {},
   "outputs": [
    {
     "data": {
      "text/html": [
       "<div>\n",
       "<style scoped>\n",
       "    .dataframe tbody tr th:only-of-type {\n",
       "        vertical-align: middle;\n",
       "    }\n",
       "\n",
       "    .dataframe tbody tr th {\n",
       "        vertical-align: top;\n",
       "    }\n",
       "\n",
       "    .dataframe thead th {\n",
       "        text-align: right;\n",
       "    }\n",
       "</style>\n",
       "<table border=\"1\" class=\"dataframe\">\n",
       "  <thead>\n",
       "    <tr style=\"text-align: right;\">\n",
       "      <th></th>\n",
       "      <th>data</th>\n",
       "      <th>length</th>\n",
       "      <th>CANCER</th>\n",
       "      <th>GENE_OR_GENE_PRODUCT</th>\n",
       "      <th>ORGANISM</th>\n",
       "      <th>CELL</th>\n",
       "      <th>ORGAN</th>\n",
       "      <th>TISSUE</th>\n",
       "      <th>SIMPLE_CHEMICAL</th>\n",
       "      <th>ORGANISM_SUBSTANCE</th>\n",
       "      <th>MULTI_TISSUE_STRUCTURE</th>\n",
       "      <th>CELLULAR_COMPONENT</th>\n",
       "      <th>IMMATERIAL_ANATOMICAL_ENTITY</th>\n",
       "      <th>PATHOLOGICAL_FORMATION</th>\n",
       "      <th>ORGANISM_SUBDIVISION</th>\n",
       "    </tr>\n",
       "  </thead>\n",
       "  <tbody>\n",
       "    <tr>\n",
       "      <th>0</th>\n",
       "      <td>Lung cancer is the number one cause of cancer-...</td>\n",
       "      <td>300</td>\n",
       "      <td>15</td>\n",
       "      <td>5.0</td>\n",
       "      <td>1.0</td>\n",
       "      <td>1.0</td>\n",
       "      <td>5.0</td>\n",
       "      <td>1.0</td>\n",
       "      <td>NaN</td>\n",
       "      <td>NaN</td>\n",
       "      <td>NaN</td>\n",
       "      <td>NaN</td>\n",
       "      <td>NaN</td>\n",
       "      <td>NaN</td>\n",
       "      <td>NaN</td>\n",
       "    </tr>\n",
       "    <tr>\n",
       "      <th>1</th>\n",
       "      <td>The immune system plays a dual role in tumor e...</td>\n",
       "      <td>174</td>\n",
       "      <td>8</td>\n",
       "      <td>1.0</td>\n",
       "      <td>2.0</td>\n",
       "      <td>3.0</td>\n",
       "      <td>NaN</td>\n",
       "      <td>NaN</td>\n",
       "      <td>NaN</td>\n",
       "      <td>NaN</td>\n",
       "      <td>NaN</td>\n",
       "      <td>NaN</td>\n",
       "      <td>NaN</td>\n",
       "      <td>NaN</td>\n",
       "      <td>NaN</td>\n",
       "    </tr>\n",
       "    <tr>\n",
       "      <th>2</th>\n",
       "      <td>Lung cancer is among the most common cancers w...</td>\n",
       "      <td>210</td>\n",
       "      <td>6</td>\n",
       "      <td>12.0</td>\n",
       "      <td>1.0</td>\n",
       "      <td>1.0</td>\n",
       "      <td>NaN</td>\n",
       "      <td>1.0</td>\n",
       "      <td>5.0</td>\n",
       "      <td>1.0</td>\n",
       "      <td>NaN</td>\n",
       "      <td>NaN</td>\n",
       "      <td>NaN</td>\n",
       "      <td>NaN</td>\n",
       "      <td>NaN</td>\n",
       "    </tr>\n",
       "    <tr>\n",
       "      <th>3</th>\n",
       "      <td>Most cancers are resistant to anti-PD-1/PD-L1 ...</td>\n",
       "      <td>169</td>\n",
       "      <td>7</td>\n",
       "      <td>8.0</td>\n",
       "      <td>2.0</td>\n",
       "      <td>3.0</td>\n",
       "      <td>NaN</td>\n",
       "      <td>NaN</td>\n",
       "      <td>3.0</td>\n",
       "      <td>NaN</td>\n",
       "      <td>NaN</td>\n",
       "      <td>NaN</td>\n",
       "      <td>NaN</td>\n",
       "      <td>NaN</td>\n",
       "      <td>NaN</td>\n",
       "    </tr>\n",
       "    <tr>\n",
       "      <th>4</th>\n",
       "      <td>Manipulation of the immune response is a game ...</td>\n",
       "      <td>258</td>\n",
       "      <td>8</td>\n",
       "      <td>6.0</td>\n",
       "      <td>1.0</td>\n",
       "      <td>6.0</td>\n",
       "      <td>NaN</td>\n",
       "      <td>NaN</td>\n",
       "      <td>3.0</td>\n",
       "      <td>NaN</td>\n",
       "      <td>NaN</td>\n",
       "      <td>NaN</td>\n",
       "      <td>NaN</td>\n",
       "      <td>NaN</td>\n",
       "      <td>NaN</td>\n",
       "    </tr>\n",
       "  </tbody>\n",
       "</table>\n",
       "</div>"
      ],
      "text/plain": [
       "                                                data  length  CANCER  \\\n",
       "0  Lung cancer is the number one cause of cancer-...     300      15   \n",
       "1  The immune system plays a dual role in tumor e...     174       8   \n",
       "2  Lung cancer is among the most common cancers w...     210       6   \n",
       "3  Most cancers are resistant to anti-PD-1/PD-L1 ...     169       7   \n",
       "4  Manipulation of the immune response is a game ...     258       8   \n",
       "\n",
       "   GENE_OR_GENE_PRODUCT  ORGANISM  CELL  ORGAN  TISSUE  SIMPLE_CHEMICAL  \\\n",
       "0                   5.0       1.0   1.0    5.0     1.0              NaN   \n",
       "1                   1.0       2.0   3.0    NaN     NaN              NaN   \n",
       "2                  12.0       1.0   1.0    NaN     1.0              5.0   \n",
       "3                   8.0       2.0   3.0    NaN     NaN              3.0   \n",
       "4                   6.0       1.0   6.0    NaN     NaN              3.0   \n",
       "\n",
       "   ORGANISM_SUBSTANCE  MULTI_TISSUE_STRUCTURE  CELLULAR_COMPONENT  \\\n",
       "0                 NaN                     NaN                 NaN   \n",
       "1                 NaN                     NaN                 NaN   \n",
       "2                 1.0                     NaN                 NaN   \n",
       "3                 NaN                     NaN                 NaN   \n",
       "4                 NaN                     NaN                 NaN   \n",
       "\n",
       "   IMMATERIAL_ANATOMICAL_ENTITY  PATHOLOGICAL_FORMATION  ORGANISM_SUBDIVISION  \n",
       "0                           NaN                     NaN                   NaN  \n",
       "1                           NaN                     NaN                   NaN  \n",
       "2                           NaN                     NaN                   NaN  \n",
       "3                           NaN                     NaN                   NaN  \n",
       "4                           NaN                     NaN                   NaN  "
      ]
     },
     "execution_count": 65,
     "metadata": {},
     "output_type": "execute_result"
    }
   ],
   "source": [
    "df = make_feature_df(abstracts, expand_features=True)\n",
    "\n",
    "df.head()"
   ]
  },
  {
   "cell_type": "markdown",
   "id": "98ace984-9eca-46a7-a118-f0c90075a8eb",
   "metadata": {},
   "source": [
    "## Todo: for length, use tokens"
   ]
  },
  {
   "cell_type": "code",
   "execution_count": 72,
   "id": "1a2be174-2696-47b1-87b1-5340105b051a",
   "metadata": {},
   "outputs": [
    {
     "data": {
      "text/plain": [
       "174"
      ]
     },
     "execution_count": 72,
     "metadata": {},
     "output_type": "execute_result"
    }
   ],
   "source": [
    "len([token for token in abstracts[1]])"
   ]
  },
  {
   "cell_type": "markdown",
   "id": "a543f905-dd5a-412e-aced-3e7b7c43c48b",
   "metadata": {},
   "source": [
    "## Todo: add count of Verbs, nounds, etc\n",
    "Also, **normalize** all the counts??"
   ]
  },
  {
   "cell_type": "code",
   "execution_count": null,
   "id": "8c1f166b-bb83-4240-be5d-7fe5bdd940d2",
   "metadata": {},
   "outputs": [],
   "source": []
  }
 ],
 "metadata": {
  "kernelspec": {
   "display_name": "Scispacy (playgrounds)",
   "language": "python",
   "name": "scispacy"
  },
  "language_info": {
   "codemirror_mode": {
    "name": "ipython",
    "version": 3
   },
   "file_extension": ".py",
   "mimetype": "text/x-python",
   "name": "python",
   "nbconvert_exporter": "python",
   "pygments_lexer": "ipython3",
   "version": "3.8.9"
  }
 },
 "nbformat": 4,
 "nbformat_minor": 5
}
