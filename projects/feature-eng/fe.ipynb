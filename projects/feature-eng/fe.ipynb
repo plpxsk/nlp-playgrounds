{
 "cells": [
  {
   "cell_type": "markdown",
   "id": "539aa834-f558-4157-8419-b6fbe7eb2c12",
   "metadata": {},
   "source": [
    "# Engineering Features for Medical NLP\n",
    "\n",
    "Various options, suited for medical NLP\n",
    "\n",
    "Data: 18 abstracts"
   ]
  },
  {
   "cell_type": "markdown",
   "id": "4653b1a0-8148-483a-9eba-14fa243db465",
   "metadata": {},
   "source": [
    "# Load"
   ]
  },
  {
   "cell_type": "code",
   "execution_count": 1,
   "id": "40ebbf34-1428-488a-a92d-69d149c22196",
   "metadata": {},
   "outputs": [],
   "source": [
    "import spacy\n",
    "import pandas as pd\n",
    "\n",
    "from collections import Counter"
   ]
  },
  {
   "cell_type": "code",
   "execution_count": 2,
   "id": "c1a58c6d-d9ad-428c-a7c6-f43e3bc4bfab",
   "metadata": {},
   "outputs": [
    {
     "data": {
      "text/plain": [
       "18"
      ]
     },
     "execution_count": 2,
     "metadata": {},
     "output_type": "execute_result"
    }
   ],
   "source": [
    "def load_data(p):\n",
    "    with open(p) as f:\n",
    "        x = f.read()\n",
    "    x = x.split(\"\\n\\n\")\n",
    "    x = [i.replace(\"\\n\", \" \") for i in x]\n",
    "    return(x)\n",
    "\n",
    "p = \"../../data/abstracts_manual.txt\"\n",
    "abstracts_raw = load_data(p)\n",
    "\n",
    "len(abstracts_raw)"
   ]
  },
  {
   "cell_type": "markdown",
   "id": "3de9fc51-b23c-431f-ba34-59bf746f75aa",
   "metadata": {},
   "source": [
    "# Models"
   ]
  },
  {
   "cell_type": "markdown",
   "id": "cd889d96-5c6c-45bd-bd53-717679085414",
   "metadata": {},
   "source": [
    "### Select model"
   ]
  },
  {
   "cell_type": "code",
   "execution_count": 3,
   "id": "073f4e29-aea2-40c8-bc82-e3d775d6d5a7",
   "metadata": {},
   "outputs": [],
   "source": [
    "# bionlp13cg model has nice special entities\n",
    "model = 'en_ner_bionlp13cg_md'\n",
    "nlp = spacy.load(model)"
   ]
  },
  {
   "cell_type": "markdown",
   "id": "6c97373b-91a2-4d8a-9b37-cd6c5bf2a3aa",
   "metadata": {},
   "source": [
    "### Process data with selected model"
   ]
  },
  {
   "cell_type": "code",
   "execution_count": 4,
   "id": "87f08fd9-afcd-47a5-b913-34affeeb17b7",
   "metadata": {},
   "outputs": [],
   "source": [
    "abstracts = [nlp(x) for x in abstracts_raw]"
   ]
  },
  {
   "cell_type": "markdown",
   "id": "42a6402e-7d4f-46fd-b923-e91d6b59f2c5",
   "metadata": {},
   "source": [
    "# Medical Entities\n",
    "Special entities (vary depending on model. Use a medical model)"
   ]
  },
  {
   "cell_type": "code",
   "execution_count": 5,
   "id": "dfc09849-477c-4e9c-a72b-4b7e0822b8b4",
   "metadata": {},
   "outputs": [
    {
     "name": "stdout",
     "output_type": "stream",
     "text": [
      "(Lung cancer, cancers, lung cancer, lung cancer, Curcumin, polyphenol  , turmeric, Curcuma longa, curcumin, anti-cancer, lung cancer, cell, STAT3, EGFR, FOXO3a, TGF-β, eIF2α, COX-2, Bcl-2, PI3KAkt/mTOR, ROS, Fas/FasL, Cdc42, E-cadherin, MMPs, adiponectin, curcumin)\n"
     ]
    }
   ],
   "source": [
    "x = abstracts[2]\n",
    "\n",
    "print(x.ents)"
   ]
  },
  {
   "cell_type": "code",
   "execution_count": 6,
   "id": "1cdf143d-2354-4f39-be95-b9c49e1d79f4",
   "metadata": {},
   "outputs": [
    {
     "name": "stdout",
     "output_type": "stream",
     "text": [
      "(tumors, cancer cells, DNA, lethal, cellular DNA, DDRs, cells, DNA, cell, DNA, DDRs, tumor  , DDR, tumor, DDR, DDR, DDR, DNA-PKcs, DNA-dependent protein kinase, ATM/ATR, MRN, MRE11-RAD50-NBS1, PARP, poly[ADP-ribose] polymerase, MDC1, Wee1, LIG4 (, ligase IV, CDK1, BRCA1, BRCA1 C, CHK1, HIF-1 (, hypoxia-inducible factor-1)\n"
     ]
    }
   ],
   "source": [
    "x = abstracts[10]\n",
    "\n",
    "print(x.ents)"
   ]
  },
  {
   "cell_type": "markdown",
   "id": "7df4a95d-b627-48d6-8be8-ddbef4b645d1",
   "metadata": {},
   "source": [
    "### With metadata"
   ]
  },
  {
   "cell_type": "code",
   "execution_count": 7,
   "id": "1b60bdb3-4bf7-4721-9e44-3c1a5be8396b",
   "metadata": {},
   "outputs": [],
   "source": [
    "def get_special_entities(doc):\n",
    "    \"\"\"https://gist.github.com/DeNeutoy/b20860b40b9fa9d33675893c56afde42#file-app-py-L121\"\"\"\n",
    "    attrs = [\"text\", \"label_\", \"start\", \"end\", \"start_char\", \"end_char\"]\n",
    "    data = [\n",
    "        [str(getattr(ent, attr)) for attr in attrs]\n",
    "        for ent in doc.ents\n",
    "    ]\n",
    "    return(data, attrs)"
   ]
  },
  {
   "cell_type": "code",
   "execution_count": 8,
   "id": "d1fad07d-5b36-42f7-b129-10aab88e83e2",
   "metadata": {},
   "outputs": [
    {
     "data": {
      "text/plain": [
       "[['Lung cancer', 'CANCER', '0', '2', '0', '11'],\n",
       " ['cancers', 'CANCER', '7', '8', '37', '44'],\n",
       " ['lung cancer', 'CANCER', '25', '27', '158', '169'],\n",
       " ['lung cancer', 'CANCER', '66', '68', '399', '410'],\n",
       " ['Curcumin', 'SIMPLE_CHEMICAL', '70', '71', '420', '428'],\n",
       " ['polyphenol  ', 'ORGANISM_SUBSTANCE', '75', '77', '450', '462'],\n",
       " ['turmeric', 'TISSUE', '79', '80', '475', '483'],\n",
       " ['Curcuma longa', 'ORGANISM', '81', '83', '485', '498'],\n",
       " ['curcumin', 'SIMPLE_CHEMICAL', '101', '102', '597', '605'],\n",
       " ['anti-cancer', 'CANCER', '103', '104', '619', '630'],\n",
       " ['lung cancer', 'CANCER', '106', '108', '642', '653'],\n",
       " ['cell', 'CELL', '115', '116', '706', '710'],\n",
       " ['STAT3', 'GENE_OR_GENE_PRODUCT', '156', '157', '961', '966'],\n",
       " ['EGFR', 'GENE_OR_GENE_PRODUCT', '158', '159', '968', '972'],\n",
       " ['FOXO3a', 'GENE_OR_GENE_PRODUCT', '160', '161', '974', '980'],\n",
       " ['TGF-β', 'GENE_OR_GENE_PRODUCT', '162', '163', '982', '987'],\n",
       " ['eIF2α', 'SIMPLE_CHEMICAL', '164', '165', '989', '994'],\n",
       " ['COX-2', 'GENE_OR_GENE_PRODUCT', '166', '167', '996', '1001'],\n",
       " ['Bcl-2', 'GENE_OR_GENE_PRODUCT', '168', '169', '1003', '1008'],\n",
       " ['PI3KAkt/mTOR', 'GENE_OR_GENE_PRODUCT', '170', '171', '1010', '1022'],\n",
       " ['ROS', 'SIMPLE_CHEMICAL', '172', '173', '1024', '1027'],\n",
       " ['Fas/FasL', 'GENE_OR_GENE_PRODUCT', '174', '175', '1029', '1037'],\n",
       " ['Cdc42', 'GENE_OR_GENE_PRODUCT', '176', '177', '1039', '1044'],\n",
       " ['E-cadherin', 'GENE_OR_GENE_PRODUCT', '178', '179', '1046', '1056'],\n",
       " ['MMPs', 'GENE_OR_GENE_PRODUCT', '180', '181', '1058', '1062'],\n",
       " ['adiponectin', 'GENE_OR_GENE_PRODUCT', '183', '184', '1068', '1079'],\n",
       " ['curcumin', 'SIMPLE_CHEMICAL', '194', '195', '1131', '1139']]"
      ]
     },
     "execution_count": 8,
     "metadata": {},
     "output_type": "execute_result"
    }
   ],
   "source": [
    "x = abstracts[2]\n",
    "\n",
    "ents, attrs = get_special_entities(x)\n",
    "\n",
    "ents"
   ]
  },
  {
   "cell_type": "code",
   "execution_count": 9,
   "id": "2021f686-74dc-4db3-a003-457078b4d591",
   "metadata": {},
   "outputs": [
    {
     "data": {
      "text/html": [
       "<div>\n",
       "<style scoped>\n",
       "    .dataframe tbody tr th:only-of-type {\n",
       "        vertical-align: middle;\n",
       "    }\n",
       "\n",
       "    .dataframe tbody tr th {\n",
       "        vertical-align: top;\n",
       "    }\n",
       "\n",
       "    .dataframe thead th {\n",
       "        text-align: right;\n",
       "    }\n",
       "</style>\n",
       "<table border=\"1\" class=\"dataframe\">\n",
       "  <thead>\n",
       "    <tr style=\"text-align: right;\">\n",
       "      <th></th>\n",
       "      <th>text</th>\n",
       "      <th>label_</th>\n",
       "      <th>start</th>\n",
       "      <th>end</th>\n",
       "      <th>start_char</th>\n",
       "      <th>end_char</th>\n",
       "    </tr>\n",
       "  </thead>\n",
       "  <tbody>\n",
       "    <tr>\n",
       "      <th>0</th>\n",
       "      <td>Lung cancer</td>\n",
       "      <td>CANCER</td>\n",
       "      <td>0</td>\n",
       "      <td>2</td>\n",
       "      <td>0</td>\n",
       "      <td>11</td>\n",
       "    </tr>\n",
       "    <tr>\n",
       "      <th>1</th>\n",
       "      <td>cancers</td>\n",
       "      <td>CANCER</td>\n",
       "      <td>7</td>\n",
       "      <td>8</td>\n",
       "      <td>37</td>\n",
       "      <td>44</td>\n",
       "    </tr>\n",
       "    <tr>\n",
       "      <th>2</th>\n",
       "      <td>lung cancer</td>\n",
       "      <td>CANCER</td>\n",
       "      <td>25</td>\n",
       "      <td>27</td>\n",
       "      <td>158</td>\n",
       "      <td>169</td>\n",
       "    </tr>\n",
       "    <tr>\n",
       "      <th>3</th>\n",
       "      <td>lung cancer</td>\n",
       "      <td>CANCER</td>\n",
       "      <td>66</td>\n",
       "      <td>68</td>\n",
       "      <td>399</td>\n",
       "      <td>410</td>\n",
       "    </tr>\n",
       "    <tr>\n",
       "      <th>4</th>\n",
       "      <td>Curcumin</td>\n",
       "      <td>SIMPLE_CHEMICAL</td>\n",
       "      <td>70</td>\n",
       "      <td>71</td>\n",
       "      <td>420</td>\n",
       "      <td>428</td>\n",
       "    </tr>\n",
       "    <tr>\n",
       "      <th>5</th>\n",
       "      <td>polyphenol</td>\n",
       "      <td>ORGANISM_SUBSTANCE</td>\n",
       "      <td>75</td>\n",
       "      <td>77</td>\n",
       "      <td>450</td>\n",
       "      <td>462</td>\n",
       "    </tr>\n",
       "    <tr>\n",
       "      <th>6</th>\n",
       "      <td>turmeric</td>\n",
       "      <td>TISSUE</td>\n",
       "      <td>79</td>\n",
       "      <td>80</td>\n",
       "      <td>475</td>\n",
       "      <td>483</td>\n",
       "    </tr>\n",
       "    <tr>\n",
       "      <th>7</th>\n",
       "      <td>Curcuma longa</td>\n",
       "      <td>ORGANISM</td>\n",
       "      <td>81</td>\n",
       "      <td>83</td>\n",
       "      <td>485</td>\n",
       "      <td>498</td>\n",
       "    </tr>\n",
       "    <tr>\n",
       "      <th>8</th>\n",
       "      <td>curcumin</td>\n",
       "      <td>SIMPLE_CHEMICAL</td>\n",
       "      <td>101</td>\n",
       "      <td>102</td>\n",
       "      <td>597</td>\n",
       "      <td>605</td>\n",
       "    </tr>\n",
       "    <tr>\n",
       "      <th>9</th>\n",
       "      <td>anti-cancer</td>\n",
       "      <td>CANCER</td>\n",
       "      <td>103</td>\n",
       "      <td>104</td>\n",
       "      <td>619</td>\n",
       "      <td>630</td>\n",
       "    </tr>\n",
       "    <tr>\n",
       "      <th>10</th>\n",
       "      <td>lung cancer</td>\n",
       "      <td>CANCER</td>\n",
       "      <td>106</td>\n",
       "      <td>108</td>\n",
       "      <td>642</td>\n",
       "      <td>653</td>\n",
       "    </tr>\n",
       "    <tr>\n",
       "      <th>11</th>\n",
       "      <td>cell</td>\n",
       "      <td>CELL</td>\n",
       "      <td>115</td>\n",
       "      <td>116</td>\n",
       "      <td>706</td>\n",
       "      <td>710</td>\n",
       "    </tr>\n",
       "    <tr>\n",
       "      <th>12</th>\n",
       "      <td>STAT3</td>\n",
       "      <td>GENE_OR_GENE_PRODUCT</td>\n",
       "      <td>156</td>\n",
       "      <td>157</td>\n",
       "      <td>961</td>\n",
       "      <td>966</td>\n",
       "    </tr>\n",
       "    <tr>\n",
       "      <th>13</th>\n",
       "      <td>EGFR</td>\n",
       "      <td>GENE_OR_GENE_PRODUCT</td>\n",
       "      <td>158</td>\n",
       "      <td>159</td>\n",
       "      <td>968</td>\n",
       "      <td>972</td>\n",
       "    </tr>\n",
       "    <tr>\n",
       "      <th>14</th>\n",
       "      <td>FOXO3a</td>\n",
       "      <td>GENE_OR_GENE_PRODUCT</td>\n",
       "      <td>160</td>\n",
       "      <td>161</td>\n",
       "      <td>974</td>\n",
       "      <td>980</td>\n",
       "    </tr>\n",
       "    <tr>\n",
       "      <th>15</th>\n",
       "      <td>TGF-β</td>\n",
       "      <td>GENE_OR_GENE_PRODUCT</td>\n",
       "      <td>162</td>\n",
       "      <td>163</td>\n",
       "      <td>982</td>\n",
       "      <td>987</td>\n",
       "    </tr>\n",
       "    <tr>\n",
       "      <th>16</th>\n",
       "      <td>eIF2α</td>\n",
       "      <td>SIMPLE_CHEMICAL</td>\n",
       "      <td>164</td>\n",
       "      <td>165</td>\n",
       "      <td>989</td>\n",
       "      <td>994</td>\n",
       "    </tr>\n",
       "    <tr>\n",
       "      <th>17</th>\n",
       "      <td>COX-2</td>\n",
       "      <td>GENE_OR_GENE_PRODUCT</td>\n",
       "      <td>166</td>\n",
       "      <td>167</td>\n",
       "      <td>996</td>\n",
       "      <td>1001</td>\n",
       "    </tr>\n",
       "    <tr>\n",
       "      <th>18</th>\n",
       "      <td>Bcl-2</td>\n",
       "      <td>GENE_OR_GENE_PRODUCT</td>\n",
       "      <td>168</td>\n",
       "      <td>169</td>\n",
       "      <td>1003</td>\n",
       "      <td>1008</td>\n",
       "    </tr>\n",
       "    <tr>\n",
       "      <th>19</th>\n",
       "      <td>PI3KAkt/mTOR</td>\n",
       "      <td>GENE_OR_GENE_PRODUCT</td>\n",
       "      <td>170</td>\n",
       "      <td>171</td>\n",
       "      <td>1010</td>\n",
       "      <td>1022</td>\n",
       "    </tr>\n",
       "    <tr>\n",
       "      <th>20</th>\n",
       "      <td>ROS</td>\n",
       "      <td>SIMPLE_CHEMICAL</td>\n",
       "      <td>172</td>\n",
       "      <td>173</td>\n",
       "      <td>1024</td>\n",
       "      <td>1027</td>\n",
       "    </tr>\n",
       "    <tr>\n",
       "      <th>21</th>\n",
       "      <td>Fas/FasL</td>\n",
       "      <td>GENE_OR_GENE_PRODUCT</td>\n",
       "      <td>174</td>\n",
       "      <td>175</td>\n",
       "      <td>1029</td>\n",
       "      <td>1037</td>\n",
       "    </tr>\n",
       "    <tr>\n",
       "      <th>22</th>\n",
       "      <td>Cdc42</td>\n",
       "      <td>GENE_OR_GENE_PRODUCT</td>\n",
       "      <td>176</td>\n",
       "      <td>177</td>\n",
       "      <td>1039</td>\n",
       "      <td>1044</td>\n",
       "    </tr>\n",
       "    <tr>\n",
       "      <th>23</th>\n",
       "      <td>E-cadherin</td>\n",
       "      <td>GENE_OR_GENE_PRODUCT</td>\n",
       "      <td>178</td>\n",
       "      <td>179</td>\n",
       "      <td>1046</td>\n",
       "      <td>1056</td>\n",
       "    </tr>\n",
       "    <tr>\n",
       "      <th>24</th>\n",
       "      <td>MMPs</td>\n",
       "      <td>GENE_OR_GENE_PRODUCT</td>\n",
       "      <td>180</td>\n",
       "      <td>181</td>\n",
       "      <td>1058</td>\n",
       "      <td>1062</td>\n",
       "    </tr>\n",
       "    <tr>\n",
       "      <th>25</th>\n",
       "      <td>adiponectin</td>\n",
       "      <td>GENE_OR_GENE_PRODUCT</td>\n",
       "      <td>183</td>\n",
       "      <td>184</td>\n",
       "      <td>1068</td>\n",
       "      <td>1079</td>\n",
       "    </tr>\n",
       "    <tr>\n",
       "      <th>26</th>\n",
       "      <td>curcumin</td>\n",
       "      <td>SIMPLE_CHEMICAL</td>\n",
       "      <td>194</td>\n",
       "      <td>195</td>\n",
       "      <td>1131</td>\n",
       "      <td>1139</td>\n",
       "    </tr>\n",
       "  </tbody>\n",
       "</table>\n",
       "</div>"
      ],
      "text/plain": [
       "             text                label_ start  end start_char end_char\n",
       "0     Lung cancer                CANCER     0    2          0       11\n",
       "1         cancers                CANCER     7    8         37       44\n",
       "2     lung cancer                CANCER    25   27        158      169\n",
       "3     lung cancer                CANCER    66   68        399      410\n",
       "4        Curcumin       SIMPLE_CHEMICAL    70   71        420      428\n",
       "5    polyphenol      ORGANISM_SUBSTANCE    75   77        450      462\n",
       "6        turmeric                TISSUE    79   80        475      483\n",
       "7   Curcuma longa              ORGANISM    81   83        485      498\n",
       "8        curcumin       SIMPLE_CHEMICAL   101  102        597      605\n",
       "9     anti-cancer                CANCER   103  104        619      630\n",
       "10    lung cancer                CANCER   106  108        642      653\n",
       "11           cell                  CELL   115  116        706      710\n",
       "12          STAT3  GENE_OR_GENE_PRODUCT   156  157        961      966\n",
       "13           EGFR  GENE_OR_GENE_PRODUCT   158  159        968      972\n",
       "14         FOXO3a  GENE_OR_GENE_PRODUCT   160  161        974      980\n",
       "15          TGF-β  GENE_OR_GENE_PRODUCT   162  163        982      987\n",
       "16          eIF2α       SIMPLE_CHEMICAL   164  165        989      994\n",
       "17          COX-2  GENE_OR_GENE_PRODUCT   166  167        996     1001\n",
       "18          Bcl-2  GENE_OR_GENE_PRODUCT   168  169       1003     1008\n",
       "19   PI3KAkt/mTOR  GENE_OR_GENE_PRODUCT   170  171       1010     1022\n",
       "20            ROS       SIMPLE_CHEMICAL   172  173       1024     1027\n",
       "21       Fas/FasL  GENE_OR_GENE_PRODUCT   174  175       1029     1037\n",
       "22          Cdc42  GENE_OR_GENE_PRODUCT   176  177       1039     1044\n",
       "23     E-cadherin  GENE_OR_GENE_PRODUCT   178  179       1046     1056\n",
       "24           MMPs  GENE_OR_GENE_PRODUCT   180  181       1058     1062\n",
       "25    adiponectin  GENE_OR_GENE_PRODUCT   183  184       1068     1079\n",
       "26       curcumin       SIMPLE_CHEMICAL   194  195       1131     1139"
      ]
     },
     "execution_count": 9,
     "metadata": {},
     "output_type": "execute_result"
    }
   ],
   "source": [
    "# output fits into dataframe\n",
    "pd.DataFrame(ents, columns=attrs)"
   ]
  },
  {
   "cell_type": "markdown",
   "id": "83ce3af4-475c-4b37-b88f-e3189657f932",
   "metadata": {},
   "source": [
    "### Count them"
   ]
  },
  {
   "cell_type": "code",
   "execution_count": 10,
   "id": "7d63925d-6654-4964-8f0a-5b4c2e797d04",
   "metadata": {},
   "outputs": [],
   "source": [
    "def get_entity_counts(doc):\n",
    "    ents, _ = get_special_entities(doc)\n",
    "    # count the second entries \"label_\"\n",
    "    counts = Counter([x[1] for x in ents])\n",
    "    return(counts)"
   ]
  },
  {
   "cell_type": "code",
   "execution_count": 11,
   "id": "dcedc6ac-1ded-41de-85a8-9108692dc749",
   "metadata": {},
   "outputs": [
    {
     "data": {
      "text/plain": [
       "Counter({'CANCER': 6,\n",
       "         'SIMPLE_CHEMICAL': 5,\n",
       "         'ORGANISM_SUBSTANCE': 1,\n",
       "         'TISSUE': 1,\n",
       "         'ORGANISM': 1,\n",
       "         'CELL': 1,\n",
       "         'GENE_OR_GENE_PRODUCT': 12})"
      ]
     },
     "execution_count": 11,
     "metadata": {},
     "output_type": "execute_result"
    }
   ],
   "source": [
    "get_entity_counts(x)"
   ]
  },
  {
   "cell_type": "markdown",
   "id": "1d328f64-330f-4f48-8dd2-caacec9281c3",
   "metadata": {},
   "source": [
    "# Noun Chunks"
   ]
  },
  {
   "cell_type": "code",
   "execution_count": 12,
   "id": "5e951318-bf6f-4ff3-ab85-7ee2370abc8e",
   "metadata": {},
   "outputs": [
    {
     "name": "stdout",
     "output_type": "stream",
     "text": [
      "[Lung cancer, new intervention therapies, Curcumin, a natural occurring polyphenol, (Curcuma longa, It, curcumin, anti-cancer effects, Several in vitro and in vivo studies, these mechanisms, limitations, curcumin bioavailability, potential side effects, clinical trials]\n"
     ]
    }
   ],
   "source": [
    "x = abstracts[2]\n",
    "\n",
    "# it's a generator\n",
    "print(list(x.noun_chunks))"
   ]
  },
  {
   "cell_type": "code",
   "execution_count": 13,
   "id": "7d16833b-ca9b-40ec-8b13-c38095e30f0a",
   "metadata": {},
   "outputs": [
    {
     "name": "stdout",
     "output_type": "stream",
     "text": [
      "[Radiotherapy, a wide range, the radioresistance, Efforts, sensitizing, targets, radiosensitizers, the outcomes, DNA double-strand breaks, a series, (DDRs, these protective DDRs, tumor  radioresistance, Targeting DDR signaling pathways, an attractive strategy, tumor radioresistance, some important advances, breakthroughs, the DDR signal pathways, we, an update, We, recent advances, current clinical trials, clinical application, key DDR proteins, catalytic subunit, the MRN (MRE11-RAD50-NBS1) complex, the PARP (poly[ADP-ribose] polymerase) family, MDC1, Wee1, LIG4, (ligase, CDK1, BRCA1, (BRCA1 C terminal, CHK1, HIF-1, (hypoxia-inducible factor-1, Challenges]\n"
     ]
    }
   ],
   "source": [
    "x = abstracts[10]\n",
    "\n",
    "# it's a generator\n",
    "print(list(x.noun_chunks))"
   ]
  },
  {
   "cell_type": "markdown",
   "id": "5f9e0a21-6ce0-4395-bd0b-78b38243fd39",
   "metadata": {},
   "source": [
    "# Lemmatization"
   ]
  },
  {
   "cell_type": "code",
   "execution_count": 14,
   "id": "02dcd3ba-5ae7-46fa-b785-49fe6a97f33e",
   "metadata": {},
   "outputs": [
    {
     "name": "stdout",
     "output_type": "stream",
     "text": [
      "toxicities toxicity NOUN nmod\n",
      ", , PUNCT punct\n",
      "have have VERB aux\n",
      "been be VERB auxpass\n",
      "considered consider VERB ROOT\n",
      "in in ADP case\n",
      "lung lung NOUN compound\n",
      "cancer cancer NOUN compound\n",
      "therapy therapy NOUN nmod\n",
      ". . PUNCT punct\n",
      "Curcumin curcumin NOUN nsubjpass\n",
      ", , PUNCT punct\n",
      "a a DET det\n",
      "natural natural ADJ amod\n",
      "occurring occur VERB amod\n",
      "polyphenol polyphenol NOUN appos\n",
      "    SPACE nummod\n",
      "derived derive VERB acl\n",
      "from from ADP case\n",
      "turmeric turmeric NOUN nmod\n"
     ]
    }
   ],
   "source": [
    "x = abstracts[2]\n",
    "\n",
    "for token in x[60:80]:\n",
    "    print(token.text, token.lemma_, token.pos_, token.dep_)"
   ]
  },
  {
   "cell_type": "markdown",
   "id": "6ac2623b-7e85-48dd-b0f8-963527cfd818",
   "metadata": {},
   "source": [
    "### Count occurences of lemmatized words\n",
    "\n",
    "Lemmatize? noun chunks??"
   ]
  },
  {
   "cell_type": "code",
   "execution_count": 43,
   "id": "2acf95a9-998b-4a9a-ba7f-fd6b498d580b",
   "metadata": {},
   "outputs": [],
   "source": []
  },
  {
   "cell_type": "code",
   "execution_count": 46,
   "id": "5e603e14-603b-40b5-b3c9-b5f80a4fd80e",
   "metadata": {},
   "outputs": [
    {
     "data": {
      "text/plain": [
       "'be'"
      ]
     },
     "execution_count": 46,
     "metadata": {},
     "output_type": "execute_result"
    }
   ],
   "source": [
    "# find all instances of \"is\"\n",
    "# is, was, be, been, are, ...\n",
    "word = 'is'\n",
    "\n",
    "# what is its lemma?\n",
    "selected_lemma = nlp(word)[0].lemma_\n",
    "\n",
    "selected_lemma"
   ]
  },
  {
   "cell_type": "code",
   "execution_count": 50,
   "id": "11c0990c-1946-40f4-8259-a9e593ad8e18",
   "metadata": {},
   "outputs": [
    {
     "name": "stdout",
     "output_type": "stream",
     "text": [
      "0\n",
      "is\n",
      "is\n",
      "are\n",
      "be\n",
      "1\n",
      "are\n",
      "are\n",
      "is\n",
      "is\n",
      "2\n",
      "is\n",
      "been\n",
      "been\n",
      "been\n",
      "are\n",
      "were\n",
      "3\n",
      "are\n",
      "is\n",
      "4\n",
      "is\n",
      "are\n",
      "be\n",
      "been\n",
      "are\n",
      "is\n",
      "is\n"
     ]
    }
   ],
   "source": [
    "# now, find it...\n",
    "for i, abstract in enumerate(abstracts[:5]):\n",
    "    print(i)\n",
    "    for token in abstract:\n",
    "        if token.lemma_ == selected_lemma:\n",
    "            print(token.text)"
   ]
  },
  {
   "cell_type": "markdown",
   "id": "b532fa98-8672-483c-8c17-a0faa7fc68ac",
   "metadata": {},
   "source": [
    "# Dependency\n",
    "\n",
    "Nominal subject, direct object, etc etc\n",
    "\n",
    "All: https://emorynlp.github.io/nlp4j/components/dependency-parsing.html"
   ]
  },
  {
   "cell_type": "code",
   "execution_count": 100,
   "id": "4d6aeceb-1da2-4a9b-b714-64e0c81ccf81",
   "metadata": {},
   "outputs": [
    {
     "name": "stdout",
     "output_type": "stream",
     "text": [
      "['cancer', 'breakthroughs', 'they', 'patient', 'surveys', 'advent', 'we', 'review', 'which', ' ', 'directions']\n",
      "['system', 'it', 'inhibitors', 'understanding', 'we']\n",
      "['cancer', 'curcumin', 'studies', 'limitations']\n",
      "['cancers', 'we', 'deletion', 'restoration', 'PDLIM2', 'cells', 'We', 'findings']\n",
      "['Manipulation', 'that', 'antibodies', 'signals', 'MoAbs', 'understanding', 'relevance', 'challenge', 'review']\n",
      "['research', 'evidence', 'mechanisms', 'Microorganisms', 'purpose', 'microbiome']\n",
      "['evolution', 'it', 'therapies', 'studies', 'PD-L1', 'who', 'studies', 'review', 'we', 'that']\n",
      "['cancer', 'prognosis', 'breakthrough', 'experiments', 'knowledge', 'data', 'opportunities', 'therapies', 'exploration', 'heterogeneities', 'mechanisms', 'that', 'review', ' ']\n",
      "['cancer', 'diagnosis', 'characteristics', 'paper', 'efficacy', 'candidates', 'Cancers', 'analysis', 'which', 'paper', 'which']\n",
      "['relationship', 'we', 'We', 'loss', 'Delivery', 'findings']\n",
      "['Radiotherapy', 'radioresistance', 'Efforts', 'breaks', 'DDRs', 'pathways', 'we', 'We']\n",
      "['alterations', 'Patients', 'recurrence', 'transformation', 'that', 'reports', 'LUAD', 'trans-differentiation', 'basis', 'EMT', 'EMT', 'it', 'review']\n",
      "['cancer', 'they', 'review', 'hallmarks', 'Hallmarks', 'targeting', 'which', 'researchers']\n",
      "['we', 'that', 'that', 'we', 'approaches']\n",
      "['smoke', 'pollution', 'smoke', 'Smohaze']\n",
      "['inhibition', 'ones', 'which', 'review', 'We', 'we', 'review']\n",
      "['Hypoxia', 'we', 'genes', 'm6A', 'We', 'deficiency', 'depletion', 'we', 'expression', 'studies', 'findings']\n",
      "['cancer', 'drawback', 'that', 'Mutations', 'we', 'mutant', 'we', 'We', 'Results', 'We', 'gene', 'lines', 'we', 'mice', 'potential', 'models']\n"
     ]
    }
   ],
   "source": [
    "# nsubj = nominal subject\n",
    "kind = \"nsubj\"\n",
    "\n",
    "for x in abstracts:\n",
    "    print([token.text for token in x if token.dep_==kind])"
   ]
  },
  {
   "cell_type": "code",
   "execution_count": 101,
   "id": "a513576c-4310-4112-813c-971a42535a1b",
   "metadata": {},
   "outputs": [
    {
     "name": "stdout",
     "output_type": "stream",
     "text": [
      "['burden', 'subset', 'shift', 'therapies', 'potential', 'landscape', 'targets', 'light', 'opportunities', 'landscape', 'state', 'outcomes', 'biology', 'evidence', 'investigations', 'insights', 'fruit']\n",
      "['role', 'cells', 'progression', ' ', 'paradigm', 'activity', 'utility', 'cancer', 'knowledge', 'overview']\n",
      "['effects', 'bioavailability']\n",
      "['PDLIM2', 'development', 'resistance', 'activity', 'NF-κB/RelA', 'expression', 'genes', 'induction', 'rationale', 'therapies']\n",
      "['growth', 'activation', 'advantages', 'mechanisms', 'interest', 'response', 'understanding', 'responses']\n",
      "['interplay', 'tumor', 'production', 'role', 'strategies', 'microbiota']\n",
      "['outcomes', 'outcomes', 'irrespective', 'inhibitors', 'correlations', 'patients', 'markers', 'characteristics', 'alteration', 'activity']\n",
      "['approach', 'survival', 'limitations', 'heterogeneity', 'inroads', 'burden', 'those', 'repair', 'need', 'discoveries', 'chemo-sensitive', 'samples', 'techniques', 'aspiration', 'disease']\n",
      "['survival', 'qualification', 'usefulness', 'antigenicity', 'response', 'examination', 'results', 'us']\n",
      "[' ', 'concept', 'combination', 'lethality', 'responses', 'MK2', 'survival', 'mechanism', 'checkpoints', 'nanocarriers', 'exploration', 'treatment']\n",
      "['range', 'sensitizing', 'targets', 'radiosensitizers', 'outcomes', 'series', 'radioresistance', 'radioresistance', 'pathways', 'update', 'advances', 'proteins']\n",
      "['response', 'routes', 'modes', 'epithelial', 'needs', 'investigation', 'cell', 'contribution', 'basis', 'type']\n",
      "['society', 'tumorigenesis', 'hallmarks', 'cells', 'activation', 'metastasis', 'metabolic', 'role', 'RNAs', 'detection']\n",
      "['risk', 'conditions', 'issues', 'strategies', 'approaches', 'inconsistency', 'chemoprevention', 'promise']\n",
      "['pollution', 'deaths', 'particles', 'carcinogens', 'diseases', 'effects', 'initiation', 'escape', 'smohaze', 'approaches', 'carcinogenesis', 'cancer']\n",
      "['interest', 'family', 'role', 'findings', 'data', 'information', 'data']\n",
      "['proliferation', 'efficiency', 'progression', 'cells', 'axis', 'role']\n",
      "['complexity', 'line', 'potential', 'mice', 'mice', 'formation', 'potential', 'months', 'adenocarcinomas', 'weeks', 'window', 'agents', 'inhibitors']\n"
     ]
    }
   ],
   "source": [
    "# dobj = direct object\n",
    "kind = \"dobj\"\n",
    "\n",
    "for x in abstracts:\n",
    "    print([token.text for token in x if token.dep_==kind])"
   ]
  },
  {
   "cell_type": "code",
   "execution_count": null,
   "id": "c4ec1795-c4d1-48bf-a379-18e73df2c79e",
   "metadata": {},
   "outputs": [],
   "source": []
  },
  {
   "cell_type": "code",
   "execution_count": null,
   "id": "5030f31f-2cda-4b4c-bd63-70f9da81d427",
   "metadata": {},
   "outputs": [],
   "source": []
  },
  {
   "cell_type": "code",
   "execution_count": null,
   "id": "10039af7-5e2c-4993-9421-e4f948ae1501",
   "metadata": {},
   "outputs": [],
   "source": []
  },
  {
   "cell_type": "code",
   "execution_count": null,
   "id": "53cae2ea-01a1-4b0e-9c53-267ccd879aa1",
   "metadata": {},
   "outputs": [],
   "source": []
  },
  {
   "cell_type": "markdown",
   "id": "5dd1b0b1-b472-4147-a8c5-34ebf9398d6a",
   "metadata": {},
   "source": [
    "# Helper: Create data frame"
   ]
  },
  {
   "cell_type": "code",
   "execution_count": 51,
   "id": "633e82b1-dbcf-4ebd-95be-20b5cfc8f225",
   "metadata": {},
   "outputs": [],
   "source": [
    "def make_feature_df(doc, expand_features=False):\n",
    "    feature_names = ['data', 'tokens', 'entities_collapsed']\n",
    "    # note: len(x) counts tokens because each x is a `spacy.tokens.token.Token`\n",
    "    features = [(str(x), len(x), get_entity_counts(x)) for x in doc]\n",
    "    df = pd.DataFrame(features, columns=feature_names)\n",
    "    if expand_features:\n",
    "        # expand the 'entities' into columns\n",
    "        df = df.join(pd.DataFrame(df.pop('entities_collapsed').values.tolist()))\n",
    "    return(df)"
   ]
  },
  {
   "cell_type": "code",
   "execution_count": 52,
   "id": "5ba0ff8f-704a-4d9d-ab94-a81cff8ae8cc",
   "metadata": {},
   "outputs": [
    {
     "data": {
      "text/html": [
       "<div>\n",
       "<style scoped>\n",
       "    .dataframe tbody tr th:only-of-type {\n",
       "        vertical-align: middle;\n",
       "    }\n",
       "\n",
       "    .dataframe tbody tr th {\n",
       "        vertical-align: top;\n",
       "    }\n",
       "\n",
       "    .dataframe thead th {\n",
       "        text-align: right;\n",
       "    }\n",
       "</style>\n",
       "<table border=\"1\" class=\"dataframe\">\n",
       "  <thead>\n",
       "    <tr style=\"text-align: right;\">\n",
       "      <th></th>\n",
       "      <th>data</th>\n",
       "      <th>tokens</th>\n",
       "      <th>entities_collapsed</th>\n",
       "    </tr>\n",
       "  </thead>\n",
       "  <tbody>\n",
       "    <tr>\n",
       "      <th>0</th>\n",
       "      <td>Lung cancer is the number one cause of cancer-...</td>\n",
       "      <td>300</td>\n",
       "      <td>{'CANCER': 15, 'GENE_OR_GENE_PRODUCT': 5, 'ORG...</td>\n",
       "    </tr>\n",
       "    <tr>\n",
       "      <th>1</th>\n",
       "      <td>The immune system plays a dual role in tumor e...</td>\n",
       "      <td>174</td>\n",
       "      <td>{'CANCER': 8, 'CELL': 3, 'GENE_OR_GENE_PRODUCT...</td>\n",
       "    </tr>\n",
       "    <tr>\n",
       "      <th>2</th>\n",
       "      <td>Lung cancer is among the most common cancers w...</td>\n",
       "      <td>210</td>\n",
       "      <td>{'CANCER': 6, 'SIMPLE_CHEMICAL': 5, 'ORGANISM_...</td>\n",
       "    </tr>\n",
       "    <tr>\n",
       "      <th>3</th>\n",
       "      <td>Most cancers are resistant to anti-PD-1/PD-L1 ...</td>\n",
       "      <td>169</td>\n",
       "      <td>{'CANCER': 7, 'GENE_OR_GENE_PRODUCT': 8, 'ORGA...</td>\n",
       "    </tr>\n",
       "    <tr>\n",
       "      <th>4</th>\n",
       "      <td>Manipulation of the immune response is a game ...</td>\n",
       "      <td>258</td>\n",
       "      <td>{'CANCER': 8, 'GENE_OR_GENE_PRODUCT': 6, 'CELL...</td>\n",
       "    </tr>\n",
       "  </tbody>\n",
       "</table>\n",
       "</div>"
      ],
      "text/plain": [
       "                                                data  tokens  \\\n",
       "0  Lung cancer is the number one cause of cancer-...     300   \n",
       "1  The immune system plays a dual role in tumor e...     174   \n",
       "2  Lung cancer is among the most common cancers w...     210   \n",
       "3  Most cancers are resistant to anti-PD-1/PD-L1 ...     169   \n",
       "4  Manipulation of the immune response is a game ...     258   \n",
       "\n",
       "                                  entities_collapsed  \n",
       "0  {'CANCER': 15, 'GENE_OR_GENE_PRODUCT': 5, 'ORG...  \n",
       "1  {'CANCER': 8, 'CELL': 3, 'GENE_OR_GENE_PRODUCT...  \n",
       "2  {'CANCER': 6, 'SIMPLE_CHEMICAL': 5, 'ORGANISM_...  \n",
       "3  {'CANCER': 7, 'GENE_OR_GENE_PRODUCT': 8, 'ORGA...  \n",
       "4  {'CANCER': 8, 'GENE_OR_GENE_PRODUCT': 6, 'CELL...  "
      ]
     },
     "execution_count": 52,
     "metadata": {},
     "output_type": "execute_result"
    }
   ],
   "source": [
    "df = make_feature_df(abstracts, expand_features=False)\n",
    "\n",
    "df.head()"
   ]
  },
  {
   "cell_type": "code",
   "execution_count": 53,
   "id": "629dd91e-f397-401f-a549-ae77dc746fcc",
   "metadata": {},
   "outputs": [
    {
     "data": {
      "text/html": [
       "<div>\n",
       "<style scoped>\n",
       "    .dataframe tbody tr th:only-of-type {\n",
       "        vertical-align: middle;\n",
       "    }\n",
       "\n",
       "    .dataframe tbody tr th {\n",
       "        vertical-align: top;\n",
       "    }\n",
       "\n",
       "    .dataframe thead th {\n",
       "        text-align: right;\n",
       "    }\n",
       "</style>\n",
       "<table border=\"1\" class=\"dataframe\">\n",
       "  <thead>\n",
       "    <tr style=\"text-align: right;\">\n",
       "      <th></th>\n",
       "      <th>data</th>\n",
       "      <th>tokens</th>\n",
       "      <th>CANCER</th>\n",
       "      <th>GENE_OR_GENE_PRODUCT</th>\n",
       "      <th>ORGANISM</th>\n",
       "      <th>CELL</th>\n",
       "      <th>ORGAN</th>\n",
       "      <th>TISSUE</th>\n",
       "      <th>SIMPLE_CHEMICAL</th>\n",
       "      <th>ORGANISM_SUBSTANCE</th>\n",
       "      <th>MULTI_TISSUE_STRUCTURE</th>\n",
       "      <th>CELLULAR_COMPONENT</th>\n",
       "      <th>IMMATERIAL_ANATOMICAL_ENTITY</th>\n",
       "      <th>PATHOLOGICAL_FORMATION</th>\n",
       "      <th>ORGANISM_SUBDIVISION</th>\n",
       "    </tr>\n",
       "  </thead>\n",
       "  <tbody>\n",
       "    <tr>\n",
       "      <th>0</th>\n",
       "      <td>Lung cancer is the number one cause of cancer-...</td>\n",
       "      <td>300</td>\n",
       "      <td>15</td>\n",
       "      <td>5.0</td>\n",
       "      <td>1.0</td>\n",
       "      <td>1.0</td>\n",
       "      <td>5.0</td>\n",
       "      <td>1.0</td>\n",
       "      <td>NaN</td>\n",
       "      <td>NaN</td>\n",
       "      <td>NaN</td>\n",
       "      <td>NaN</td>\n",
       "      <td>NaN</td>\n",
       "      <td>NaN</td>\n",
       "      <td>NaN</td>\n",
       "    </tr>\n",
       "    <tr>\n",
       "      <th>1</th>\n",
       "      <td>The immune system plays a dual role in tumor e...</td>\n",
       "      <td>174</td>\n",
       "      <td>8</td>\n",
       "      <td>1.0</td>\n",
       "      <td>2.0</td>\n",
       "      <td>3.0</td>\n",
       "      <td>NaN</td>\n",
       "      <td>NaN</td>\n",
       "      <td>NaN</td>\n",
       "      <td>NaN</td>\n",
       "      <td>NaN</td>\n",
       "      <td>NaN</td>\n",
       "      <td>NaN</td>\n",
       "      <td>NaN</td>\n",
       "      <td>NaN</td>\n",
       "    </tr>\n",
       "    <tr>\n",
       "      <th>2</th>\n",
       "      <td>Lung cancer is among the most common cancers w...</td>\n",
       "      <td>210</td>\n",
       "      <td>6</td>\n",
       "      <td>12.0</td>\n",
       "      <td>1.0</td>\n",
       "      <td>1.0</td>\n",
       "      <td>NaN</td>\n",
       "      <td>1.0</td>\n",
       "      <td>5.0</td>\n",
       "      <td>1.0</td>\n",
       "      <td>NaN</td>\n",
       "      <td>NaN</td>\n",
       "      <td>NaN</td>\n",
       "      <td>NaN</td>\n",
       "      <td>NaN</td>\n",
       "    </tr>\n",
       "    <tr>\n",
       "      <th>3</th>\n",
       "      <td>Most cancers are resistant to anti-PD-1/PD-L1 ...</td>\n",
       "      <td>169</td>\n",
       "      <td>7</td>\n",
       "      <td>8.0</td>\n",
       "      <td>2.0</td>\n",
       "      <td>3.0</td>\n",
       "      <td>NaN</td>\n",
       "      <td>NaN</td>\n",
       "      <td>3.0</td>\n",
       "      <td>NaN</td>\n",
       "      <td>NaN</td>\n",
       "      <td>NaN</td>\n",
       "      <td>NaN</td>\n",
       "      <td>NaN</td>\n",
       "      <td>NaN</td>\n",
       "    </tr>\n",
       "    <tr>\n",
       "      <th>4</th>\n",
       "      <td>Manipulation of the immune response is a game ...</td>\n",
       "      <td>258</td>\n",
       "      <td>8</td>\n",
       "      <td>6.0</td>\n",
       "      <td>1.0</td>\n",
       "      <td>6.0</td>\n",
       "      <td>NaN</td>\n",
       "      <td>NaN</td>\n",
       "      <td>3.0</td>\n",
       "      <td>NaN</td>\n",
       "      <td>NaN</td>\n",
       "      <td>NaN</td>\n",
       "      <td>NaN</td>\n",
       "      <td>NaN</td>\n",
       "      <td>NaN</td>\n",
       "    </tr>\n",
       "  </tbody>\n",
       "</table>\n",
       "</div>"
      ],
      "text/plain": [
       "                                                data  tokens  CANCER  \\\n",
       "0  Lung cancer is the number one cause of cancer-...     300      15   \n",
       "1  The immune system plays a dual role in tumor e...     174       8   \n",
       "2  Lung cancer is among the most common cancers w...     210       6   \n",
       "3  Most cancers are resistant to anti-PD-1/PD-L1 ...     169       7   \n",
       "4  Manipulation of the immune response is a game ...     258       8   \n",
       "\n",
       "   GENE_OR_GENE_PRODUCT  ORGANISM  CELL  ORGAN  TISSUE  SIMPLE_CHEMICAL  \\\n",
       "0                   5.0       1.0   1.0    5.0     1.0              NaN   \n",
       "1                   1.0       2.0   3.0    NaN     NaN              NaN   \n",
       "2                  12.0       1.0   1.0    NaN     1.0              5.0   \n",
       "3                   8.0       2.0   3.0    NaN     NaN              3.0   \n",
       "4                   6.0       1.0   6.0    NaN     NaN              3.0   \n",
       "\n",
       "   ORGANISM_SUBSTANCE  MULTI_TISSUE_STRUCTURE  CELLULAR_COMPONENT  \\\n",
       "0                 NaN                     NaN                 NaN   \n",
       "1                 NaN                     NaN                 NaN   \n",
       "2                 1.0                     NaN                 NaN   \n",
       "3                 NaN                     NaN                 NaN   \n",
       "4                 NaN                     NaN                 NaN   \n",
       "\n",
       "   IMMATERIAL_ANATOMICAL_ENTITY  PATHOLOGICAL_FORMATION  ORGANISM_SUBDIVISION  \n",
       "0                           NaN                     NaN                   NaN  \n",
       "1                           NaN                     NaN                   NaN  \n",
       "2                           NaN                     NaN                   NaN  \n",
       "3                           NaN                     NaN                   NaN  \n",
       "4                           NaN                     NaN                   NaN  "
      ]
     },
     "execution_count": 53,
     "metadata": {},
     "output_type": "execute_result"
    }
   ],
   "source": [
    "df = make_feature_df(abstracts, expand_features=True)\n",
    "\n",
    "df.head()"
   ]
  }
 ],
 "metadata": {
  "kernelspec": {
   "display_name": "Scispacy (playgrounds)",
   "language": "python",
   "name": "scispacy"
  },
  "language_info": {
   "codemirror_mode": {
    "name": "ipython",
    "version": 3
   },
   "file_extension": ".py",
   "mimetype": "text/x-python",
   "name": "python",
   "nbconvert_exporter": "python",
   "pygments_lexer": "ipython3",
   "version": "3.8.9"
  }
 },
 "nbformat": 4,
 "nbformat_minor": 5
}
