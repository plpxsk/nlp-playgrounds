{
 "cells": [
  {
   "cell_type": "markdown",
   "id": "2bd415cc-dde1-43e2-b2d3-c15929b7e697",
   "metadata": {},
   "source": [
    "# Models and Available Entities\n",
    "\n",
    "Different models can recognize different kinds of special \"entities\"\n",
    "\n",
    "https://allenai.github.io/scispacy/\n",
    "\n",
    "https://spacy.io/usage/models"
   ]
  },
  {
   "cell_type": "code",
   "execution_count": 1,
   "id": "1c102257-b1cd-4751-96f6-537c886cf555",
   "metadata": {},
   "outputs": [],
   "source": [
    "import spacy"
   ]
  },
  {
   "cell_type": "code",
   "execution_count": 2,
   "id": "8d56001e-fad7-44d5-8f6e-4e9413ace836",
   "metadata": {},
   "outputs": [
    {
     "name": "stdout",
     "output_type": "stream",
     "text": [
      "Model: en_core_web_sm\n",
      "Pipes: ['tok2vec', 'tagger', 'parser', 'ner', 'attribute_ruler', 'lemmatizer']\n",
      "Available special entities: ['CARDINAL', 'DATE', 'EVENT', 'FAC', 'GPE', 'LANGUAGE', 'LAW', 'LOC', 'MONEY', 'NORP', 'ORDINAL', 'ORG', 'PERCENT', 'PERSON', 'PRODUCT', 'QUANTITY', 'TIME', 'WORK_OF_ART']\n",
      "\n",
      "\n",
      "Model: en_core_web_md\n",
      "Pipes: ['tok2vec', 'tagger', 'parser', 'ner', 'attribute_ruler', 'lemmatizer']\n",
      "Available special entities: ['CARDINAL', 'DATE', 'EVENT', 'FAC', 'GPE', 'LANGUAGE', 'LAW', 'LOC', 'MONEY', 'NORP', 'ORDINAL', 'ORG', 'PERCENT', 'PERSON', 'PRODUCT', 'QUANTITY', 'TIME', 'WORK_OF_ART']\n",
      "\n",
      "\n",
      "Model: en_core_sci_sm\n",
      "Pipes: ['tok2vec', 'tagger', 'attribute_ruler', 'lemmatizer', 'parser', 'ner']\n",
      "Available special entities: ['ENTITY']\n",
      "\n",
      "\n",
      "Model: en_ner_bc5cdr_md\n",
      "Pipes: ['tok2vec', 'tagger', 'attribute_ruler', 'lemmatizer', 'parser', 'ner']\n",
      "Available special entities: ['CHEMICAL', 'DISEASE']\n",
      "\n",
      "\n",
      "Model: en_ner_bionlp13cg_md\n",
      "Pipes: ['tok2vec', 'tagger', 'attribute_ruler', 'lemmatizer', 'parser', 'ner']\n",
      "Available special entities: ['AMINO_ACID', 'ANATOMICAL_SYSTEM', 'CANCER', 'CELL', 'CELLULAR_COMPONENT', 'DEVELOPING_ANATOMICAL_STRUCTURE', 'GENE_OR_GENE_PRODUCT', 'IMMATERIAL_ANATOMICAL_ENTITY', 'MULTI_TISSUE_STRUCTURE', 'ORGAN', 'ORGANISM', 'ORGANISM_SUBDIVISION', 'ORGANISM_SUBSTANCE', 'PATHOLOGICAL_FORMATION', 'SIMPLE_CHEMICAL', 'TISSUE']\n",
      "\n",
      "\n"
     ]
    }
   ],
   "source": [
    "# scispacy and standard spacy models\n",
    "models = [\n",
    "    'en_core_web_sm', 'en_core_web_md', # spacy\n",
    "    'en_core_sci_sm', 'en_ner_bc5cdr_md', 'en_ner_bionlp13cg_md' # scispacy\n",
    "]\n",
    "\n",
    "for model in models:\n",
    "    nlp = spacy.load(model)\n",
    "    print(f\"Model: {model}\")\n",
    "    print(f\"Pipes: {nlp.pipe_names}\")\n",
    "    print(f\"Available special entities: {nlp.pipe_labels['ner']}\")\n",
    "    print(\"\\n\")"
   ]
  }
 ],
 "metadata": {
  "kernelspec": {
   "display_name": "Scispacy (playgrounds)",
   "language": "python",
   "name": "scispacy"
  },
  "language_info": {
   "codemirror_mode": {
    "name": "ipython",
    "version": 3
   },
   "file_extension": ".py",
   "mimetype": "text/x-python",
   "name": "python",
   "nbconvert_exporter": "python",
   "pygments_lexer": "ipython3",
   "version": "3.8.9"
  }
 },
 "nbformat": 4,
 "nbformat_minor": 5
}
