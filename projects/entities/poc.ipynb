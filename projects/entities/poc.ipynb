{
 "cells": [
  {
   "cell_type": "markdown",
   "id": "88e41c8a-b1d8-495e-b75b-f2a3ef103093",
   "metadata": {},
   "source": [
    "# Entities etc \n",
    "\n",
    "With `scispacy`"
   ]
  },
  {
   "cell_type": "code",
   "execution_count": 10,
   "id": "81768153-84a5-442c-b9ea-251336f3f817",
   "metadata": {},
   "outputs": [],
   "source": [
    "import spacy\n",
    "import pandas as pd"
   ]
  },
  {
   "cell_type": "markdown",
   "id": "1c6b7a83-ed42-44ba-ac07-8189a11a2d2d",
   "metadata": {},
   "source": [
    "# Data"
   ]
  },
  {
   "cell_type": "code",
   "execution_count": 11,
   "id": "88278e85-7759-4fa6-b32a-9b4c81e2043f",
   "metadata": {},
   "outputs": [],
   "source": [
    "def get_abstracts():\n",
    "    with open(\"abstracts_manual.txt\") as f:\n",
    "        x = f.read()\n",
    "    x = x.split(\"\\n\\n\")\n",
    "    x = [i.replace(\"\\n\", \" \") for i in x]\n",
    "    return(x)"
   ]
  },
  {
   "cell_type": "code",
   "execution_count": 12,
   "id": "eb9b2724-d14b-4a78-bbfc-5dc1341aef7a",
   "metadata": {},
   "outputs": [
    {
     "data": {
      "text/plain": [
       "18"
      ]
     },
     "execution_count": 12,
     "metadata": {},
     "output_type": "execute_result"
    }
   ],
   "source": [
    "abstracts = get_abstracts()\n",
    "\n",
    "len(abstracts)"
   ]
  },
  {
   "cell_type": "code",
   "execution_count": 13,
   "id": "b8c066c6-cfc8-4aa3-835c-e21826f12222",
   "metadata": {},
   "outputs": [],
   "source": [
    "# create single doc for this analysis\n",
    "text = \"\".join(abstracts)\n",
    "text = text"
   ]
  },
  {
   "cell_type": "code",
   "execution_count": 14,
   "id": "575bfcf7-cad8-42e9-9565-25a49a02f764",
   "metadata": {},
   "outputs": [],
   "source": [
    "text2 = \"Spinal and bulbar muscular atrophy (SBMA) is an \\\n",
    "           inherited motor neuron disease caused by the expansion \\\n",
    "           of a polyglutamine tract within the androgen receptor (AR). \\\n",
    "           SBMA can be caused by this easily.\""
   ]
  },
  {
   "cell_type": "markdown",
   "id": "607496d4-60aa-48fe-91cd-e04728683b1d",
   "metadata": {},
   "source": [
    "# ! Available labels"
   ]
  },
  {
   "cell_type": "code",
   "execution_count": 15,
   "id": "a076e703-e318-41a8-9016-a9d64b173df1",
   "metadata": {},
   "outputs": [],
   "source": [
    "nlp = spacy.load(\"en_ner_bionlp13cg_md\")"
   ]
  },
  {
   "cell_type": "code",
   "execution_count": 16,
   "id": "d24d2fec-4673-44da-a559-060d8f00f678",
   "metadata": {},
   "outputs": [
    {
     "data": {
      "text/plain": [
       "['tok2vec', 'tagger', 'attribute_ruler', 'lemmatizer', 'parser', 'ner']"
      ]
     },
     "execution_count": 16,
     "metadata": {},
     "output_type": "execute_result"
    }
   ],
   "source": [
    "# 1. show available pipes\n",
    "nlp.pipe_names"
   ]
  },
  {
   "cell_type": "code",
   "execution_count": 17,
   "id": "10fd1f4f-3d03-4c48-acce-f5c650cf87a0",
   "metadata": {},
   "outputs": [
    {
     "data": {
      "text/plain": [
       "('AMINO_ACID',\n",
       " 'ANATOMICAL_SYSTEM',\n",
       " 'CANCER',\n",
       " 'CELL',\n",
       " 'CELLULAR_COMPONENT',\n",
       " 'DEVELOPING_ANATOMICAL_STRUCTURE',\n",
       " 'GENE_OR_GENE_PRODUCT',\n",
       " 'IMMATERIAL_ANATOMICAL_ENTITY',\n",
       " 'MULTI_TISSUE_STRUCTURE',\n",
       " 'ORGAN',\n",
       " 'ORGANISM',\n",
       " 'ORGANISM_SUBDIVISION',\n",
       " 'ORGANISM_SUBSTANCE',\n",
       " 'PATHOLOGICAL_FORMATION',\n",
       " 'SIMPLE_CHEMICAL',\n",
       " 'TISSUE')"
      ]
     },
     "execution_count": 17,
     "metadata": {},
     "output_type": "execute_result"
    }
   ],
   "source": [
    "# 2. show available labels\n",
    "nlp.get_pipe('ner').labels"
   ]
  },
  {
   "cell_type": "markdown",
   "id": "76e78439-4796-4baf-a860-bc3a0ad0fae2",
   "metadata": {},
   "source": [
    "# Abbreviations"
   ]
  },
  {
   "cell_type": "code",
   "execution_count": 20,
   "id": "0ca9076f-bcd8-490b-9d0d-c72a73719a36",
   "metadata": {},
   "outputs": [],
   "source": [
    "from scispacy.abbreviation import AbbreviationDetector"
   ]
  },
  {
   "cell_type": "code",
   "execution_count": 21,
   "id": "67385ce6-02b6-43fe-8a39-3d2b08370ddc",
   "metadata": {},
   "outputs": [],
   "source": [
    "nlp = spacy.load(\"en_core_sci_sm\")\n",
    "\n",
    "# Add the abbreviation pipe to the spacy pipeline.\n",
    "nlp.add_pipe(\"abbreviation_detector\")\n",
    "\n",
    "doc = nlp(text)"
   ]
  },
  {
   "cell_type": "code",
   "execution_count": 22,
   "id": "18a9e9c6-dfc8-40a9-9ca6-b2e6c00927af",
   "metadata": {},
   "outputs": [
    {
     "name": "stdout",
     "output_type": "stream",
     "text": [
      "Abbreviation \t Definition\n",
      "PD-1 \t (365, 366) programmed cell death 1\n",
      "NSCLC \t (396, 397) non-small cell lung cancer\n",
      "NSCLC \t (2580, 2581) non-small cell lung cancer\n",
      "NSCLC \t (3720, 3721) non-small cell lung cancer\n",
      "NSCLC \t (1326, 1327) non-small cell lung cancer\n",
      "NSCLC \t (2587, 2588) non-small cell lung cancer\n",
      "NSCLC \t (383, 384) non-small cell lung cancer\n",
      "NSCLC \t (3729, 3730) non-small cell lung cancer\n",
      "NSCLC \t (939, 940) non-small cell lung cancer\n",
      "NSCLC \t (1268, 1269) non-small cell lung cancer\n",
      "NSCLC \t (1301, 1302) non-small cell lung cancer\n",
      "NSCLC \t (414, 415) non-small cell lung cancer\n",
      "MoAbs \t (894, 895) Monoclonal antibodies\n",
      "MoAbs \t (917, 918) Monoclonal antibodies\n",
      "Treg \t (1031, 1032) T regulatory cells\n",
      "ICIs \t (1911, 1912) immune checkpoint inhibitors\n",
      "ICIs \t (1063, 1064) immune checkpoint inhibitors\n",
      "ICIs \t (1413, 1414) immune checkpoint inhibitors\n",
      "ICIs \t (1944, 1945) immune checkpoint inhibitors\n",
      "ICIs \t (1289, 1290) immune checkpoint inhibitors\n"
     ]
    }
   ],
   "source": [
    "TOP = 20\n",
    "\n",
    "print(\"Abbreviation\", \"\\t\", \"Definition\")\n",
    "for abrv in doc._.abbreviations[:TOP]:\n",
    "    print(f\"{abrv} \\t ({abrv.start}, {abrv.end}) {abrv._.long_form}\")"
   ]
  },
  {
   "cell_type": "code",
   "execution_count": 23,
   "id": "b12ce698-d3a1-42de-bea5-97ed8b5277df",
   "metadata": {},
   "outputs": [],
   "source": [
    "# print only unique abbrevs\n",
    "# need str() method\n",
    "abbrevs = dict()\n",
    "\n",
    "for abrv in doc._.abbreviations:\n",
    "    abbrevs[str(abrv)] = str(abrv._.long_form)"
   ]
  },
  {
   "cell_type": "code",
   "execution_count": 24,
   "id": "ba0df0b7-11e4-4598-a065-827d52525f43",
   "metadata": {},
   "outputs": [
    {
     "data": {
      "text/plain": [
       "ADC                                          adenocarcinomas\n",
       "ATM/ATR       ataxia–telangiectasia mutated and Rad3-related\n",
       "BALF                            bronchoalveolar lavage fluid\n",
       "DDR                                      DNA damage response\n",
       "DDRs                                    DNA damage responses\n",
       "DNA-PKcs     DNA-dependent protein kinase, catalytic subunit\n",
       "EGFR                   epidermal growth factor receptor gene\n",
       "EGFR TKIs                    EGFR tyrosine kinase inhibitors\n",
       "EMT                     epithelial to mesenchymal transition\n",
       "GEMMs                    genetically engineered mouse models\n",
       "ICIs                            immune checkpoint inhibitors\n",
       "MoAbs                                  Monoclonal antibodies\n",
       "NSCLC                             non-small cell lung cancer\n",
       "PD-1                                 programmed cell death 1\n",
       "PDXs                              patient derived xenografts\n",
       "SCC                                  squamous cell carcinoma\n",
       "SCLC                                  Small cell lung cancer\n",
       "TMB                                  Tumor mutational burden\n",
       "Treg                                      T regulatory cells\n",
       "WGS                                  Whole genome sequencing\n",
       "circRNAs                                       circular RNAs\n",
       "lncRNAs                                 long non-coding RNAs\n",
       "miRNAs                                             microRNAs\n",
       "dtype: object"
      ]
     },
     "execution_count": 24,
     "metadata": {},
     "output_type": "execute_result"
    }
   ],
   "source": [
    "pd.Series(abbrevs).sort_index()"
   ]
  },
  {
   "cell_type": "markdown",
   "id": "5b436cb8-eff0-4ea3-b9bc-7763806e3226",
   "metadata": {},
   "source": [
    "# Entity Linker (NEED DOWNLOAD)\n",
    "\n",
    "https://github.com/allenai/scispacy#example-usage-1"
   ]
  },
  {
   "cell_type": "code",
   "execution_count": 25,
   "id": "25fccb7d-b9f6-4889-bef0-87bac9090a3c",
   "metadata": {},
   "outputs": [],
   "source": [
    "#from scispacy.linking import EntityLinker"
   ]
  },
  {
   "cell_type": "markdown",
   "id": "e7dfe0d7-e342-4ca2-823a-4a268c84589c",
   "metadata": {},
   "source": [
    "# Genes and other special entities"
   ]
  },
  {
   "cell_type": "code",
   "execution_count": 68,
   "id": "131b22cf-d680-4750-9fe5-883733d1484c",
   "metadata": {},
   "outputs": [],
   "source": [
    "nlp = spacy.load(\"en_ner_bionlp13cg_md\")\n",
    "\n",
    "doc = nlp(text)"
   ]
  },
  {
   "cell_type": "code",
   "execution_count": 89,
   "id": "3574b221-5d75-413b-874c-1c119522e566",
   "metadata": {},
   "outputs": [
    {
     "data": {
      "text/plain": [
       "(advanced-stage, 'CANCER')"
      ]
     },
     "execution_count": 89,
     "metadata": {},
     "output_type": "execute_result"
    }
   ],
   "source": [
    "# single\n",
    "x = doc.ents[2]\n",
    "\n",
    "x, x.label_"
   ]
  },
  {
   "cell_type": "code",
   "execution_count": 93,
   "id": "4ea9ce03-3c28-4990-9c02-3a1ffb583861",
   "metadata": {},
   "outputs": [],
   "source": [
    "# all special entities\n",
    "\n",
    "attrs = [\"text\", \"label_\", \"start\", \"end\", \"start_char\", \"end_char\"]\n",
    "data = [\n",
    "    [str(getattr(ent, attr)) for attr in attrs]\n",
    "    for ent in doc.ents\n",
    "]\n",
    "df = pd.DataFrame(data, columns=attrs)"
   ]
  },
  {
   "cell_type": "code",
   "execution_count": 94,
   "id": "47206442-a323-4c10-aac8-1f1ef912d2d1",
   "metadata": {},
   "outputs": [
    {
     "data": {
      "text/html": [
       "<div>\n",
       "<style scoped>\n",
       "    .dataframe tbody tr th:only-of-type {\n",
       "        vertical-align: middle;\n",
       "    }\n",
       "\n",
       "    .dataframe tbody tr th {\n",
       "        vertical-align: top;\n",
       "    }\n",
       "\n",
       "    .dataframe thead th {\n",
       "        text-align: right;\n",
       "    }\n",
       "</style>\n",
       "<table border=\"1\" class=\"dataframe\">\n",
       "  <thead>\n",
       "    <tr style=\"text-align: right;\">\n",
       "      <th></th>\n",
       "      <th>text</th>\n",
       "      <th>label_</th>\n",
       "      <th>start</th>\n",
       "      <th>end</th>\n",
       "      <th>start_char</th>\n",
       "      <th>end_char</th>\n",
       "    </tr>\n",
       "  </thead>\n",
       "  <tbody>\n",
       "    <tr>\n",
       "      <th>0</th>\n",
       "      <td>Lung cancer</td>\n",
       "      <td>CANCER</td>\n",
       "      <td>0</td>\n",
       "      <td>2</td>\n",
       "      <td>0</td>\n",
       "      <td>11</td>\n",
       "    </tr>\n",
       "    <tr>\n",
       "      <th>1</th>\n",
       "      <td>malignancy</td>\n",
       "      <td>CANCER</td>\n",
       "      <td>12</td>\n",
       "      <td>13</td>\n",
       "      <td>66</td>\n",
       "      <td>76</td>\n",
       "    </tr>\n",
       "    <tr>\n",
       "      <th>2</th>\n",
       "      <td>advanced-stage</td>\n",
       "      <td>CANCER</td>\n",
       "      <td>25</td>\n",
       "      <td>26</td>\n",
       "      <td>154</td>\n",
       "      <td>168</td>\n",
       "    </tr>\n",
       "    <tr>\n",
       "      <th>3</th>\n",
       "      <td>lung cancer patients</td>\n",
       "      <td>CANCER</td>\n",
       "      <td>50</td>\n",
       "      <td>53</td>\n",
       "      <td>319</td>\n",
       "      <td>339</td>\n",
       "    </tr>\n",
       "    <tr>\n",
       "      <th>4</th>\n",
       "      <td>undauntedly</td>\n",
       "      <td>GENE_OR_GENE_PRODUCT</td>\n",
       "      <td>60</td>\n",
       "      <td>61</td>\n",
       "      <td>372</td>\n",
       "      <td>383</td>\n",
       "    </tr>\n",
       "    <tr>\n",
       "      <th>...</th>\n",
       "      <td>...</td>\n",
       "      <td>...</td>\n",
       "      <td>...</td>\n",
       "      <td>...</td>\n",
       "      <td>...</td>\n",
       "      <td>...</td>\n",
       "    </tr>\n",
       "    <tr>\n",
       "      <th>409</th>\n",
       "      <td>273H</td>\n",
       "      <td>GENE_OR_GENE_PRODUCT</td>\n",
       "      <td>4085</td>\n",
       "      <td>4086</td>\n",
       "      <td>25469</td>\n",
       "      <td>25473</td>\n",
       "    </tr>\n",
       "    <tr>\n",
       "      <th>410</th>\n",
       "      <td>human lung cancer</td>\n",
       "      <td>ORGANISM</td>\n",
       "      <td>4089</td>\n",
       "      <td>4092</td>\n",
       "      <td>25479</td>\n",
       "      <td>25496</td>\n",
       "    </tr>\n",
       "    <tr>\n",
       "      <th>411</th>\n",
       "      <td>mice</td>\n",
       "      <td>ORGANISM</td>\n",
       "      <td>4102</td>\n",
       "      <td>4103</td>\n",
       "      <td>25552</td>\n",
       "      <td>25556</td>\n",
       "    </tr>\n",
       "    <tr>\n",
       "      <th>412</th>\n",
       "      <td>mouse</td>\n",
       "      <td>ORGANISM</td>\n",
       "      <td>4105</td>\n",
       "      <td>4106</td>\n",
       "      <td>25562</td>\n",
       "      <td>25567</td>\n",
       "    </tr>\n",
       "    <tr>\n",
       "      <th>413</th>\n",
       "      <td>lung cancer</td>\n",
       "      <td>CANCER</td>\n",
       "      <td>4125</td>\n",
       "      <td>4127</td>\n",
       "      <td>25692</td>\n",
       "      <td>25703</td>\n",
       "    </tr>\n",
       "  </tbody>\n",
       "</table>\n",
       "<p>414 rows × 6 columns</p>\n",
       "</div>"
      ],
      "text/plain": [
       "                     text                label_ start   end start_char  \\\n",
       "0             Lung cancer                CANCER     0     2          0   \n",
       "1              malignancy                CANCER    12    13         66   \n",
       "2          advanced-stage                CANCER    25    26        154   \n",
       "3    lung cancer patients                CANCER    50    53        319   \n",
       "4             undauntedly  GENE_OR_GENE_PRODUCT    60    61        372   \n",
       "..                    ...                   ...   ...   ...        ...   \n",
       "409                  273H  GENE_OR_GENE_PRODUCT  4085  4086      25469   \n",
       "410     human lung cancer              ORGANISM  4089  4092      25479   \n",
       "411                  mice              ORGANISM  4102  4103      25552   \n",
       "412                 mouse              ORGANISM  4105  4106      25562   \n",
       "413           lung cancer                CANCER  4125  4127      25692   \n",
       "\n",
       "    end_char  \n",
       "0         11  \n",
       "1         76  \n",
       "2        168  \n",
       "3        339  \n",
       "4        383  \n",
       "..       ...  \n",
       "409    25473  \n",
       "410    25496  \n",
       "411    25556  \n",
       "412    25567  \n",
       "413    25703  \n",
       "\n",
       "[414 rows x 6 columns]"
      ]
     },
     "execution_count": 94,
     "metadata": {},
     "output_type": "execute_result"
    }
   ],
   "source": [
    "df"
   ]
  },
  {
   "cell_type": "code",
   "execution_count": 98,
   "id": "dc4e84d6-57b6-431c-bb20-1391c5256133",
   "metadata": {},
   "outputs": [
    {
     "data": {
      "text/html": [
       "<div>\n",
       "<style scoped>\n",
       "    .dataframe tbody tr th:only-of-type {\n",
       "        vertical-align: middle;\n",
       "    }\n",
       "\n",
       "    .dataframe tbody tr th {\n",
       "        vertical-align: top;\n",
       "    }\n",
       "\n",
       "    .dataframe thead th {\n",
       "        text-align: right;\n",
       "    }\n",
       "</style>\n",
       "<table border=\"1\" class=\"dataframe\">\n",
       "  <thead>\n",
       "    <tr style=\"text-align: right;\">\n",
       "      <th></th>\n",
       "      <th>text</th>\n",
       "      <th>label_</th>\n",
       "      <th>start</th>\n",
       "      <th>end</th>\n",
       "      <th>start_char</th>\n",
       "      <th>end_char</th>\n",
       "    </tr>\n",
       "  </thead>\n",
       "  <tbody>\n",
       "    <tr>\n",
       "      <th>0</th>\n",
       "      <td>Lung cancer</td>\n",
       "      <td>CANCER</td>\n",
       "      <td>0</td>\n",
       "      <td>2</td>\n",
       "      <td>0</td>\n",
       "      <td>11</td>\n",
       "    </tr>\n",
       "    <tr>\n",
       "      <th>1</th>\n",
       "      <td>malignancy</td>\n",
       "      <td>CANCER</td>\n",
       "      <td>12</td>\n",
       "      <td>13</td>\n",
       "      <td>66</td>\n",
       "      <td>76</td>\n",
       "    </tr>\n",
       "    <tr>\n",
       "      <th>2</th>\n",
       "      <td>advanced-stage</td>\n",
       "      <td>CANCER</td>\n",
       "      <td>25</td>\n",
       "      <td>26</td>\n",
       "      <td>154</td>\n",
       "      <td>168</td>\n",
       "    </tr>\n",
       "    <tr>\n",
       "      <th>3</th>\n",
       "      <td>lung cancer patients</td>\n",
       "      <td>CANCER</td>\n",
       "      <td>50</td>\n",
       "      <td>53</td>\n",
       "      <td>319</td>\n",
       "      <td>339</td>\n",
       "    </tr>\n",
       "    <tr>\n",
       "      <th>5</th>\n",
       "      <td>cancer</td>\n",
       "      <td>CANCER</td>\n",
       "      <td>71</td>\n",
       "      <td>72</td>\n",
       "      <td>442</td>\n",
       "      <td>448</td>\n",
       "    </tr>\n",
       "    <tr>\n",
       "      <th>...</th>\n",
       "      <td>...</td>\n",
       "      <td>...</td>\n",
       "      <td>...</td>\n",
       "      <td>...</td>\n",
       "      <td>...</td>\n",
       "      <td>...</td>\n",
       "    </tr>\n",
       "    <tr>\n",
       "      <th>402</th>\n",
       "      <td>lung cancer</td>\n",
       "      <td>CANCER</td>\n",
       "      <td>4018</td>\n",
       "      <td>4020</td>\n",
       "      <td>25087</td>\n",
       "      <td>25098</td>\n",
       "    </tr>\n",
       "    <tr>\n",
       "      <th>404</th>\n",
       "      <td>lung adenocarcinomas</td>\n",
       "      <td>CANCER</td>\n",
       "      <td>4034</td>\n",
       "      <td>4036</td>\n",
       "      <td>25177</td>\n",
       "      <td>25197</td>\n",
       "    </tr>\n",
       "    <tr>\n",
       "      <th>406</th>\n",
       "      <td>lung cancer</td>\n",
       "      <td>CANCER</td>\n",
       "      <td>4059</td>\n",
       "      <td>4061</td>\n",
       "      <td>25312</td>\n",
       "      <td>25323</td>\n",
       "    </tr>\n",
       "    <tr>\n",
       "      <th>407</th>\n",
       "      <td>anti-cancer</td>\n",
       "      <td>CANCER</td>\n",
       "      <td>4069</td>\n",
       "      <td>4070</td>\n",
       "      <td>25374</td>\n",
       "      <td>25385</td>\n",
       "    </tr>\n",
       "    <tr>\n",
       "      <th>413</th>\n",
       "      <td>lung cancer</td>\n",
       "      <td>CANCER</td>\n",
       "      <td>4125</td>\n",
       "      <td>4127</td>\n",
       "      <td>25692</td>\n",
       "      <td>25703</td>\n",
       "    </tr>\n",
       "  </tbody>\n",
       "</table>\n",
       "<p>125 rows × 6 columns</p>\n",
       "</div>"
      ],
      "text/plain": [
       "                     text  label_ start   end start_char end_char\n",
       "0             Lung cancer  CANCER     0     2          0       11\n",
       "1              malignancy  CANCER    12    13         66       76\n",
       "2          advanced-stage  CANCER    25    26        154      168\n",
       "3    lung cancer patients  CANCER    50    53        319      339\n",
       "5                  cancer  CANCER    71    72        442      448\n",
       "..                    ...     ...   ...   ...        ...      ...\n",
       "402           lung cancer  CANCER  4018  4020      25087    25098\n",
       "404  lung adenocarcinomas  CANCER  4034  4036      25177    25197\n",
       "406           lung cancer  CANCER  4059  4061      25312    25323\n",
       "407           anti-cancer  CANCER  4069  4070      25374    25385\n",
       "413           lung cancer  CANCER  4125  4127      25692    25703\n",
       "\n",
       "[125 rows x 6 columns]"
      ]
     },
     "execution_count": 98,
     "metadata": {},
     "output_type": "execute_result"
    }
   ],
   "source": [
    "df[df.label_.isin([\"CANCER\"])]"
   ]
  },
  {
   "cell_type": "markdown",
   "id": "b1eab8e4-b6b5-4b6c-aa6e-68d1f8c88d01",
   "metadata": {},
   "source": [
    "# Genes"
   ]
  },
  {
   "cell_type": "code",
   "execution_count": 54,
   "id": "d0e33e52-a0fc-4a0a-ba67-e29055d7bd82",
   "metadata": {},
   "outputs": [],
   "source": [
    "nlp = spacy.load(\"en_ner_bionlp13cg_md\")"
   ]
  },
  {
   "cell_type": "code",
   "execution_count": 63,
   "id": "405fb04c-647d-4613-bc58-fda42875615c",
   "metadata": {},
   "outputs": [],
   "source": [
    "doc = nlp(text)"
   ]
  },
  {
   "cell_type": "code",
   "execution_count": 56,
   "id": "73ac63ab-68a8-4d9d-93a2-1514dc0c507a",
   "metadata": {},
   "outputs": [
    {
     "name": "stdout",
     "output_type": "stream",
     "text": [
      "bulbar muscular\n",
      "PATHOLOGICAL_FORMATION\n",
      "neuron\n",
      "CELL\n",
      "androgen receptor\n",
      "GENE_OR_GENE_PRODUCT\n",
      "AR\n",
      "GENE_OR_GENE_PRODUCT\n"
     ]
    }
   ],
   "source": [
    "for ent in doc.ents:\n",
    "    print(ent)\n",
    "    print(ent.label_)"
   ]
  },
  {
   "cell_type": "code",
   "execution_count": 41,
   "id": "24c2585b-f9be-4471-9205-52b949d66ef3",
   "metadata": {},
   "outputs": [],
   "source": [
    "x = doc.ents[2]"
   ]
  },
  {
   "cell_type": "code",
   "execution_count": 57,
   "id": "0289cbd1-e50b-4d3f-9298-61d08caf9f8c",
   "metadata": {},
   "outputs": [
    {
     "name": "stdout",
     "output_type": "stream",
     "text": [
      "('AMINO_ACID', 'ANATOMICAL_SYSTEM', 'CANCER', 'CELL', 'CELLULAR_COMPONENT', 'DEVELOPING_ANATOMICAL_STRUCTURE', 'GENE_OR_GENE_PRODUCT', 'IMMATERIAL_ANATOMICAL_ENTITY', 'MULTI_TISSUE_STRUCTURE', 'ORGAN', 'ORGANISM', 'ORGANISM_SUBDIVISION', 'ORGANISM_SUBSTANCE', 'PATHOLOGICAL_FORMATION', 'SIMPLE_CHEMICAL', 'TISSUE')\n"
     ]
    }
   ],
   "source": [
    "print(nlp.get_pipe('ner').labels)"
   ]
  },
  {
   "cell_type": "code",
   "execution_count": null,
   "id": "48799dcd-fca6-416e-8b4c-7344eb3aa357",
   "metadata": {},
   "outputs": [],
   "source": []
  },
  {
   "cell_type": "code",
   "execution_count": 66,
   "id": "734e3ace-f525-4a3a-bf9a-31637699b250",
   "metadata": {},
   "outputs": [],
   "source": [
    "def get_genes(doc, nlp):\n",
    "    genes = dict()\n",
    "    for i, ent in enumerate(doc.ents):\n",
    "        if ent.label_ == \"GENE_OR_GENE_PRODUCT\":\n",
    "            genes[i] = ent.label_\n",
    "    return(genes)"
   ]
  },
  {
   "cell_type": "code",
   "execution_count": 67,
   "id": "188043aa-e93d-416e-937a-99eb93bfb3dc",
   "metadata": {},
   "outputs": [
    {
     "data": {
      "text/plain": [
       "{'undauntedly': 'GENE_OR_GENE_PRODUCT',\n",
       " '“tumor-type': 'GENE_OR_GENE_PRODUCT',\n",
       " '”': 'GENE_OR_GENE_PRODUCT',\n",
       " 'naïve': 'GENE_OR_GENE_PRODUCT',\n",
       " 'immunogenomic-based': 'GENE_OR_GENE_PRODUCT',\n",
       " 'PD-1': 'GENE_OR_GENE_PRODUCT',\n",
       " 'STAT3': 'GENE_OR_GENE_PRODUCT',\n",
       " 'EGFR': 'GENE_OR_GENE_PRODUCT',\n",
       " 'FOXO3a': 'GENE_OR_GENE_PRODUCT',\n",
       " 'TGF-β': 'GENE_OR_GENE_PRODUCT',\n",
       " 'COX-2': 'GENE_OR_GENE_PRODUCT',\n",
       " 'Bcl-2': 'GENE_OR_GENE_PRODUCT',\n",
       " 'PI3KAkt/mTOR': 'GENE_OR_GENE_PRODUCT',\n",
       " 'Fas/FasL': 'GENE_OR_GENE_PRODUCT',\n",
       " 'Cdc42': 'GENE_OR_GENE_PRODUCT',\n",
       " 'E-cadherin': 'GENE_OR_GENE_PRODUCT',\n",
       " 'MMPs': 'GENE_OR_GENE_PRODUCT',\n",
       " 'adiponectin': 'GENE_OR_GENE_PRODUCT',\n",
       " 'anti-PD-1/PD-L1': 'GENE_OR_GENE_PRODUCT',\n",
       " 'PDLIM2': 'GENE_OR_GENE_PRODUCT',\n",
       " 'NF-κB/RelA': 'GENE_OR_GENE_PRODUCT',\n",
       " 'PDLIM2-independent PD-L1': 'GENE_OR_GENE_PRODUCT',\n",
       " 'PD1': 'GENE_OR_GENE_PRODUCT',\n",
       " 'CTLA4': 'GENE_OR_GENE_PRODUCT',\n",
       " 'PD1/PDL1': 'GENE_OR_GENE_PRODUCT',\n",
       " 'pembrolizumab': 'GENE_OR_GENE_PRODUCT',\n",
       " 'durvalumab': 'GENE_OR_GENE_PRODUCT',\n",
       " 'PD-1/PD-L1': 'GENE_OR_GENE_PRODUCT',\n",
       " 'atezolizumab': 'GENE_OR_GENE_PRODUCT',\n",
       " 'OAK': 'GENE_OR_GENE_PRODUCT',\n",
       " 'PD-L1': 'GENE_OR_GENE_PRODUCT',\n",
       " 'BRAF': 'GENE_OR_GENE_PRODUCT',\n",
       " 'KRAS': 'GENE_OR_GENE_PRODUCT',\n",
       " 'MET': 'GENE_OR_GENE_PRODUCT',\n",
       " 'ERBB2': 'GENE_OR_GENE_PRODUCT',\n",
       " 'RET': 'GENE_OR_GENE_PRODUCT',\n",
       " 'NTRK': 'GENE_OR_GENE_PRODUCT',\n",
       " 'ALK': 'GENE_OR_GENE_PRODUCT',\n",
       " 'ICIs': 'GENE_OR_GENE_PRODUCT',\n",
       " '“hot': 'GENE_OR_GENE_PRODUCT',\n",
       " '“': 'GENE_OR_GENE_PRODUCT',\n",
       " 'MK2': 'GENE_OR_GENE_PRODUCT',\n",
       " 'p53': 'GENE_OR_GENE_PRODUCT',\n",
       " 'XPA': 'GENE_OR_GENE_PRODUCT',\n",
       " 'co-targeting DNA': 'GENE_OR_GENE_PRODUCT',\n",
       " 'DDRs': 'GENE_OR_GENE_PRODUCT',\n",
       " 'DDR': 'GENE_OR_GENE_PRODUCT',\n",
       " 'DNA-PKcs': 'GENE_OR_GENE_PRODUCT',\n",
       " 'DNA-dependent protein kinase': 'GENE_OR_GENE_PRODUCT',\n",
       " 'ATM/ATR': 'GENE_OR_GENE_PRODUCT',\n",
       " 'MRN': 'GENE_OR_GENE_PRODUCT',\n",
       " 'MRE11-RAD50-NBS1': 'GENE_OR_GENE_PRODUCT',\n",
       " 'PARP': 'GENE_OR_GENE_PRODUCT',\n",
       " 'poly[ADP-ribose] polymerase': 'GENE_OR_GENE_PRODUCT',\n",
       " 'MDC1': 'GENE_OR_GENE_PRODUCT',\n",
       " 'Wee1': 'GENE_OR_GENE_PRODUCT',\n",
       " 'LIG4 (': 'GENE_OR_GENE_PRODUCT',\n",
       " 'ligase IV': 'GENE_OR_GENE_PRODUCT',\n",
       " 'CDK1': 'GENE_OR_GENE_PRODUCT',\n",
       " 'BRCA1': 'GENE_OR_GENE_PRODUCT',\n",
       " 'BRCA1 C': 'GENE_OR_GENE_PRODUCT',\n",
       " 'CHK1': 'GENE_OR_GENE_PRODUCT',\n",
       " 'HIF-1 (': 'GENE_OR_GENE_PRODUCT',\n",
       " 'hypoxia-inducible factor-1': 'GENE_OR_GENE_PRODUCT',\n",
       " 'epidermal growth factor receptor': 'GENE_OR_GENE_PRODUCT',\n",
       " '∼15': 'GENE_OR_GENE_PRODUCT',\n",
       " 'EGFR tyrosine': 'GENE_OR_GENE_PRODUCT',\n",
       " 'EGFR TKIs': 'GENE_OR_GENE_PRODUCT',\n",
       " 'TP53': 'GENE_OR_GENE_PRODUCT',\n",
       " 'RB1': 'GENE_OR_GENE_PRODUCT',\n",
       " 'EMT-associated': 'GENE_OR_GENE_PRODUCT',\n",
       " 'microbiome-induced': 'GENE_OR_GENE_PRODUCT',\n",
       " 'haze (hereafter,': 'GENE_OR_GENE_PRODUCT',\n",
       " 'smohaze': 'GENE_OR_GENE_PRODUCT',\n",
       " 'multi-targets-based': 'GENE_OR_GENE_PRODUCT',\n",
       " 'smohaze-induced': 'GENE_OR_GENE_PRODUCT',\n",
       " 'WEE1 kinase': 'GENE_OR_GENE_PRODUCT',\n",
       " 'WEE1/PKMYT1': 'GENE_OR_GENE_PRODUCT',\n",
       " 'pseudo-oncogenes': 'GENE_OR_GENE_PRODUCT',\n",
       " 'WEE1/PKMYT1 kinases': 'GENE_OR_GENE_PRODUCT',\n",
       " 'YTHDF1': 'GENE_OR_GENE_PRODUCT',\n",
       " 'high-altitude': 'GENE_OR_GENE_PRODUCT',\n",
       " 'CDK2': 'GENE_OR_GENE_PRODUCT',\n",
       " 'CDK4': 'GENE_OR_GENE_PRODUCT',\n",
       " 'cyclin D1': 'GENE_OR_GENE_PRODUCT',\n",
       " 'Keap1-Nrf2-AKR1C1': 'GENE_OR_GENE_PRODUCT',\n",
       " 'NSCLC.Background': 'GENE_OR_GENE_PRODUCT',\n",
       " '273H': 'GENE_OR_GENE_PRODUCT',\n",
       " 'FVB/N-SPC-TP53-273H': 'GENE_OR_GENE_PRODUCT',\n",
       " 'A/J-SPC-TP53-273H': 'GENE_OR_GENE_PRODUCT',\n",
       " 'TP53-': 'GENE_OR_GENE_PRODUCT',\n",
       " 'FVB-SPC-TP53-273H': 'GENE_OR_GENE_PRODUCT'}"
      ]
     },
     "execution_count": 67,
     "metadata": {},
     "output_type": "execute_result"
    }
   ],
   "source": [
    "get_genes(doc, nlp)"
   ]
  },
  {
   "cell_type": "code",
   "execution_count": 65,
   "id": "b219d154-54e1-4569-b212-03eb5ad2d33a",
   "metadata": {},
   "outputs": [
    {
     "data": {
      "text/plain": [
       "\"Lung cancer is the number one cause of cancer-related deaths. The malignancy is characterized by dismal prognosis and poor clinical outcome mostly due to advanced-stage at diagnosis, thereby inflicting a heavy burden on public health worldwide. Recent breakthroughs in immunotherapy have greatly benefited a subset  of lung cancer patients, and more importantly, they are undauntedly bringing forth a paradigm shift in the drugs approved for cancer treatment, by introducing “tumor-type agnostic therapies”. Yet, and to fulfill immunotherapy's potential of personalized cancer treatment, demarcating the immune and genomic landscape of cancers at their earliest possible stages will be crucial to identify ideal targets for early treatment and to predict how a particular patient will fare with immunotherapy. Recent genomic surveys of premalignant lung cancer have shed  light on early alterations in the evolution of lung cancer. More recently, the advent of immunogenomic technologies has provided prodigious opportunities to study the multidimensional landscape of lung tumors as well as their microenvironment at the molecular, genomic, and cellular resolution. In this review, we will summarize the current state of immune-based therapies for cancer, with a focus on lung malignancy, and highlight learning outcomes from clinical and preclinical studies investigating the naïve immune biology of lung cancer. The review also collates immunogenomic-based evidence from seminal reports which  collectively warrant future investigations of premalignancy, the tumor-adjacent normal-appearing lung tissue, pulmonary inflammatory conditions such as chronic obstructive pulmonary disease, as well as systemic microbiome imbalance. Such future directions enable novel insights into the evolution of lung cancers and, thus, can provide a low-hanging fruit of targets for early immune-based treatment of this fatal malignancy.The immune system plays a dual role in tumor evolution—it can identify and control nascent tumor cells in a process called immunosurveillance and can promote tumor progression through immunosuppression via various mechanisms. Thus, bilateral host-protective and tumor-promoting actions of immunity are integrated  as cancer immunoediting. In this decade, immune checkpoint inhibitors, specifically programmed cell death 1 (PD-1) pathway inhibitors, have changed the  treatment paradigm of advanced non-small cell lung cancer (NSCLC). These agents are approved for the treatment of patients with NSCLC and demonstrate impressive  clinical activity and durable responses in some patients. However, for many NSCLC patients, the efficacy of immune checkpoint inhibitors is limited. To optimize the full utility of the immune system for eradicating cancer, a broader understanding of cancer immunosurveillance and immunoediting is essential. In this review, we discuss the fundamental knowledge of the phenomena and provide an overview of the next-generation immunotherapies in the pipeline.Lung cancer is among the most common cancers with a high mortality rate worldwide. Despite the significant advances in diagnostic and therapeutic approaches, lung cancer prognoses and survival rates remain poor due to late diagnosis, drug resistance, and adverse effects. Therefore, new intervention therapies, such as the use of natural compounds with decreased toxicities, have been considered in lung cancer therapy. Curcumin, a natural occurring polyphenol  derived from turmeric (Curcuma longa) has been studied extensively in recent years for its therapeutic effects. It has been shown that curcumin demonstrates anti-cancer effects in lung cancer through various mechanisms, including inhibition of cell proliferation, invasion, and metastasis, induction of apoptosis, epigenetic alterations, and regulation of microRNA expression. Several in vitro and in vivo studies have shown that these mechanisms are modulated by multiple molecular targets such as STAT3, EGFR, FOXO3a, TGF-β, eIF2α, COX-2, Bcl-2, PI3KAkt/mTOR, ROS, Fas/FasL, Cdc42, E-cadherin, MMPs, and adiponectin. In  addition, limitations, strategies to overcome curcumin bioavailability, and potential side effects as well as clinical trials were also reviewed.Most cancers are resistant to anti-PD-1/PD-L1 and chemotherapy. Herein we identify PDLIM2 as a tumor suppressor particularly important for lung cancer therapeutic responses. While PDLIM2 is epigenetically repressed in human lung cancer, associating with therapeutic resistance and poor prognosis, its global or lung epithelial-specific deletion in mice causes increased lung cancer development, chemoresistance, and complete resistance to anti-PD-1 and epigenetic drugs. PDLIM2 epigenetic restoration or ectopic expression shows antitumor activity, and synergizes with anti-PD-1, notably, with chemotherapy for complete  remission of most lung cancers. Mechanistically, through repressing NF-κB/RelA and STAT3, PDLIM2 increases expression of genes involved in antigen presentation  and T-cell activation while repressing multidrug resistance genes and cancer-related genes, thereby rendering cancer cells vulnerable to immune attacks and therapies. We identify PDLIM2-independent PD-L1 induction by chemotherapeutic and epigenetic drugs as another mechanism for their synergy with anti-PD-1. These findings establish a rationale to use combination therapies for cancer treatment.Manipulation of the immune response is a game changer in lung cancer treatment, revolutionizing management. PD1 and CTLA4 are dynamically expressed on different  T cell subsets that can either disrupt or sustain tumor growth. Monoclonal antibodies (MoAbs) against PD1/PDL1 and CTLA4 have shown that inhibitory signals  can be impaired, blocking T cell activation and function. MoAbs, used as both single-agents or in combination with standard therapy for the treatment of advanced non-small cell lung cancer (NSCLC), have exhibited advantages in terms of overall survival and response rate; nivolumab, pembrolizumab, atezolizumab and more recently, durvalumab, have already been approved for lung cancer treatment and more compounds are in the pipeline. A better understanding of signaling elicited by these antibodies on T cell subsets, as well as identification of biological determinants of sensitivity, resistance and correlates of efficacy, will help to define the mechanisms of antitumor responses. In addition, the relevance of T regulatory cells (Treg) involved in immune responses in cancer is  attracting increasing interest. A major challenge for future research is to understand why a durable response to immune checkpoint inhibitors (ICIs) occurs only in subsets of patients and the mechanisms of resistance after an initial response. This review will explore current understanding and future direction of  research on ICI treatment in lung cancer and the impact of tumor immune microenvironment n influencing clinical responses.Recent research on cancer-associated microbial communities has elucidated the interplay between bacteria, immune cells, and tumor cells; the bacterial pathways involved in the induction of carcinogenesis; and their clinical significance. Although accumulating evidence shows that a dysbiotic condition is associated with lung carcinogenesis, the underlying mechanisms remain unclear. Microorganisms possibly trigger tumor initiation and progression, presumably via  the production of bacterial toxins and other pro-inflammatory factors. The purpose of this review is to discuss the basic role of the airway microbiome in carcinogenesis and the underlying molecular mechanisms, with the aim of developing anticancer strategies involving the airway microbiota. In addition, the mechanisms via which the microbiome acts as a modulator of immunotherapies in lung cancer are summarized.In recent years, the evolution of treatments has made it possible to significantly improve the outcomes of patients with non-small cell lung cancer (NSCLC). In particular, while molecular targeted therapies are effective in specific patient sub-groups, immune checkpoint inhibitors (ICIs) have greatly influenced the outcomes of a large proportion of NSCLC patients. While nivolumab  activity was initially assessed irrespective of predictive biomarkers, subsequent pivotal studies involving other PD-1/PD-L1 inhibitors in pre-treated advanced NSCLC (atezolizumab within the OAK study and pembrolizumab in the Keynote 010 study) reported the first correlations between clinical outcomes and PD-L1 expression. However, PD-L1 could not be sufficient on its own to select patients  who may benefit from immunotherapy. Many studies have tried to discover more precise markers that are derived from tumor tissue or from peripheral blood. This review aims to analyze any characteristics of the immunogram that could be used as a predictive biomarker for response to ICIs. Furthermore, we describe the most important genetic alteration that might predict the activity of immunotherapy.Small cell lung cancer (SCLC) accounts for approximately 10–15% of all lung cancers. The prognosis is poor with median survival in the advanced stage remaining at around 12 months. Despite applying every known therapeutic approach, no major breakthrough has improved the overall survival in the last 30 years. Historically, experiments performed on conventional cell lines may have limitations of not accurately reflecting the complex biological and genomic heterogeneity of this disease. However, additional knowledge gained from recently developed genetically engineered mouse models (GEMMs) and patient derived xenografts (PDXs) have made encouraging inroads. Whole genome sequencing (WGS) data reveals a high mutational burden and a number of genetic alterations but low frequency of targetable mutations. Despite several failures, considerable therapeutic opportunities have recently emerged. Potentially promising therapies  include those targeting DNA damage repair, stem cell/renewal and drug resistant mechanisms. Modest success has also been achieved with immune checkpoint inhibitors while therapeutic exploration of various other components of the immune system is underway. However, the complex heterogeneities reflect the need  for accurate bio-markers to translate novel discoveries into clinical benefit. Additionally, the molecular mechanisms that differentiate chemo-sensitive from chemo-refractory disease remain unknown. Obtaining reliable tumour samples by utilising novel techniques such as endobronchial ultrasound guided needle aspiration or adopting to liquid biopsies are becoming popular. This review will  focus on recent technological and therapeutic advancements to surmount this recalcitrant disease.Lung cancer remains a serious oncological problem worldwide. The delayed diagnosis and a prevalence of advanced stages in up to 70% of cases at recognition are still observed. Thanks to targeted therapies and immunotherapy a  significant progress in achieving prolonged survival in some lung cancer patients is reported. A precise histopathological diagnosis, especially the recognition of adenocarcinoma, and a progress in the methods of clinical staging underlie the proper qualification of patients for a tailored therapy. The deep molecular characteristics of lung cancer in liquid biopsy, for example blood, bronchoalveolar lavage fluid (BALF), cell suspension from needle aspirates, are currently available. The molecular characteristic has recently been extended with molecular aberrations of BRAF, KRAS, MET, ERBB2, RET, NTRK next to the well-known EGFR mutations and ALK, ROS-1 relocation. The present paper discusses the usefulness of adequate pathological methods and molecular testing for the identification of a broad spectrum of predictive biomarkers for a molecular-directed lung cancer therapy. Immunotherapy with immune checkpoint inhibitors (ICIs) is approved in the first line therapy of advanced non-small-cell lung cancer. To date only PD-L1 expression on tumor cells has been found to be a marker of response to ICIs. The efficacy of ICIs as well as the susceptibility to immune-related adverse events are highly individual, so immune  biomarkers are widely investigated. The candidates for predictive factors for ICIs immunotherapy include cancer cell antigenicity, presence of regulatory/suppressory molecules on cancer cells, cancer stem cells or on exosomes, and, on the other hand, an immune status of the patient. Cancers with high immune infiltration in the tumor milieu, referred to as “hot” tumors, seem to ensure a better response to ICIs than the “cold” ones. BALF analysis may replace cancer tissue examination, which is of limited access in advanced stages, for the recognition of the nature of immune response in the tumor environment. Tumor mutational burden (TMB) was shown to correlate with a good response to ICIs, especially when combined with other anticancer therapies. The present paper demonstrates the results of recent studies on lung cancer characteristics which bring us closer to the definition of useful prognostic/predictive factors.In response to DNA damage, a synthetic lethal relationship exists between the cell cycle checkpoint kinase MK2 and the tumor suppressor p53. Here, we describe  the concept of augmented synthetic lethality (ASL): depletion of a third gene product enhances a pre-existing synthetic lethal combination. We show that loss of the DNA repair protein XPA markedly augments the synthetic lethality between MK2 and p53, enhancing anti-tumor responses alone and in combination with cisplatin chemotherapy. Delivery of siRNA-peptide nanoplexes co-targeting MK2 and XPA to pre-existing p53-deficient tumors in a highly aggressive, immunocompetent  mouse model of lung adenocarcinoma improves long-term survival and cisplatin response beyond those of the synthetic lethal p53 mutant/MK2 combination alone. These findings establish a mechanism for co-targeting DNA damage-induced cell cycle checkpoints in combination with repair of cisplatin-DNA lesions in vivo using RNAi nanocarriers, and motivate further exploration of ASL as a generalized strategy to improve cancer treatment.Radiotherapy is one of the most common countermeasures for treating a wide range  of tumors. However, the radioresistance of cancer cells is still a major limitation for radiotherapy applications. Efforts are continuously ongoing to explore sensitizing targets and develop radiosensitizers for improving the outcomes of radiotherapy. DNA double-strand breaks are the most lethal lesions induced by ionizing radiation and can trigger a series of cellular DNA damage responses (DDRs), including those helping cells recover from radiation injuries,  such as the activation of DNA damage sensing and early transduction pathways, cell cycle arrest, and DNA repair. Obviously, these protective DDRs confer tumor  radioresistance. Targeting DDR signaling pathways has become an attractive strategy for overcoming tumor radioresistance, and some important advances and breakthroughs have already been achieved in recent years. On the basis of comprehensively reviewing the DDR signal pathways, we provide an update on the novel and promising druggable targets emerging from DDR pathways that can be exploited for radiosensitization. We further discuss recent advances identified from preclinical studies, current clinical trials, and clinical application of chemical inhibitors targeting key DDR proteins, including DNA-PKcs (DNA-dependent protein kinase, catalytic subunit), ATM/ATR (ataxia–telangiectasia mutated and Rad3-related), the MRN (MRE11-RAD50-NBS1) complex, the PARP (poly[ADP-ribose] polymerase) family, MDC1, Wee1, LIG4 (ligase IV), CDK1, BRCA1 (BRCA1 C terminal), CHK1, and HIF-1 (hypoxia-inducible factor-1). Challenges for ionizing radiation-induced signal transduction and targeted therapy are also discussed based on recent achievements in the biological field of radiotherapy.Somatic alterations in the epidermal growth factor receptor gene (EGFR) result in aberrant activation of kinase signaling and occur in ∼15% of non-small cell lung  cancers (NSCLC). Patients diagnosed with EGFR-mutant NSCLC have good initial clinical response to EGFR tyrosine kinase inhibitors (EGFR TKIs), yet tumor recurrence is common and quick to develop. Mechanisms of acquired resistance to EGFR TKIs have been studied extensively over the past decade. Great progress has  been made in understanding two major routes of therapeutic failure: additional genomic alterations in the EGFR gene and activation of alternative kinase signaling (so-called “bypass activation”). Several pharmacological agents aimed at overcoming these modes of EGFR TKI resistance are FDA-approved or under clinical development. Phenotypic transformation, a less common and less well understood mechanism of EGFR TKI resistance is yet to be addressed in the clinic. In the context of acquired EGFR TKI resistance, phenotypic transformation encompasses epithelial to mesenchymal transition (EMT), transformation of adenocarcinoma of the lung (LUAD) to squamous cell carcinoma (SCC) or small cell  lung cancer (SCLC). SCLC transformation, or neuroendocrine differentiation, has been linked to inactivation of TP53 and RB1 signaling. However, the exact mechanism that permits lineage switching needs further investigation. Recent reports indicate that LUAD and SCLC have a common cell of origin, and that trans-differentiation occurs under the right conditions. Options for therapeutic  targeting of EGFR-mutant SCLC are limited currently to conventional genotoxic chemotherapy. Similarly, the basis of EMT-associated resistance is not clear. EMT is a complex process that can be characterized by a spectrum of intermediate states with diverse expression of epithelial and mesenchymal factors. In the context of acquired resistance to EGFR TKIs, EMT frequently co-occurs with bypass activation, making it challenging to determine the exact contribution of EMT to therapeutic failure. Reversibility of EMT-associated resistance points toward its epigenetic origin, with additional adjustments, such as genetic alterations and bypass activation, occurring later during disease progression. This review will discuss the mechanistic basis for EGFR TKI resistance linked to phenotypic transformation, as well as challenges and opportunities in addressing this type of targeted therapy resistance in EGFR-mutant NSCLC.Lung cancer is one of the deadliest forms of cancer affecting society today. Non-coding RNAs, such as microRNAs (miRNAs), long non-coding RNAs (lncRNAs), and  circular RNAs (circRNAs), through the transcriptional, post-transcriptional, and  epigenetic changes they impose, have been found to be dysregulated to affect lung cancer tumorigenesis and metastasis. This review will briefly summarize hallmarks involved in lung cancer initiation and progression. For initiation, these hallmarks include tumor initiating cells, immortalization, activation of oncogenes and inactivation of tumor suppressors. Hallmarks involved in lung cancer progression include metastasis and drug tolerance and resistance. The targeting of these hallmarks with non-coding RNAs can affect vital metabolic and  cell signaling pathways, which as a result can potentially have a role in cancerous and pathological processes. By further understanding non-coding RNAs, researchers can work towards diagnoses and treatments to improve early detection  and clinical response.Chemoprevention of lung cancer is thought to significantly reduce the risk of acquiring these conditions in the subpopulation of patients with underlying health issues, such as chronic obstructive pulmonary disorder and smoking-associated lung problems. Many strategies have been tested in the previous decades, with very few translating to successful clinical trials in specific subpopulations of patients. In this review, we analyze these strategies, as well as new approaches that have emerged throughout the last few years, including synthetic lethality concept and microbiome-induced regulation of lung carcinogenesis. Overall, the continuous effort in the area of lung chemoprevention is required to develop practical therapeutical approaches. Given  the inconsistency of results obtained in clinical trials targeting lung cancer chemoprevention in various subgroups of patients that differ in the underlying health condition, race, and gender, we believe that individualized approaches will have more promise than generalized treatments.Each year there will be an estimated 2.1 million new lung cancer cases and 1.8 million lung cancer deaths worldwide. Tobacco smoke is the No.1 risk factors of lung cancer, accounting for > 85% lung cancer deaths. Air pollution, or haze, comprises ambient air pollution and household air pollution, which are reported to cause 252,000 and 304,000 lung cancer deaths each year, respectively. Tobacco  smoke and haze (hereafter, smohaze) contain fine particles originated from insufficient combustion of biomass or coal, have quite similar carcinogens, and cause similar diseases. Smohaze exert hazardous effects on exposed populations, including induction of a large amount of mutations in the genome, alternative splicing of mRNAs, abnormalities in epigenomics, initiation of tumor-promoting chronic inflammation, and facilitating immune escape of transformed cells. Tackling smohaze and development of multi-targets-based preventive and therapeutic approaches targeting smohaze-induced carcinogenesis are the key to conquer lung cancer in the future.The inhibition of the DNA damage response (DDR) pathway in the treatment of cancer has recently gained interest, and different DDR inhibitors have been developed. Among them, the most promising ones target the WEE1 kinase family, which has a crucial role in cell cycle regulation and DNA damage identification and repair in both nonmalignant and cancer cells. This review recapitulates and discusses the most recent findings on the biological function of WEE1/PKMYT1 during the cell cycle and in the DNA damage repair, with a focus on their dual role as tumor suppressors in nonmalignant cells and pseudo-oncogenes in cancer cells. We here report the available data on the molecular and functional alterations of WEE1/PKMYT1 kinases in both hematological and solid tumors. Moreover, we summarize the preclinical information on 36 chemo/radiotherapy agents, and in particular their effect on cell cycle checkpoints and on the cellular WEE1/PKMYT1-dependent response. Finally, this review outlines the most important pre-clinical and clinical data available on the efficacy of WEE1/PKMYT1 inhibitors in monotherapy and in combination with chemo/radiotherapy agents or with other selective inhibitors currently used or under evaluation for the treatment of cancer patients.Hypoxia occurs naturally at high-altitudes and pathologically in hypoxic solid tumors. Here, we report that genes involved in various human cancers evolved rapidly in Tibetans and six Tibetan domestic mammals compared to reciprocal lowlanders. Furthermore, m6A modified mRNA binding protein YTHDF1, one of evolutionary positively selected genes for high-altitude adaptation is amplified  in various cancers, including non-small cell lung cancer (NSCLC). We show that YTHDF1 deficiency inhibits NSCLC cell proliferation and xenograft tumor formation through regulating the translational efficiency of CDK2, CDK4, and cyclin D1, and that YTHDF1 depletion restrains de novo lung adenocarcinomas (ADC) progression. However, we observe that YTHDF1 high expression correlates with better clinical outcome, with its depletion rendering cancerous cells resistant to cisplatin (DDP) treatment. Mechanistic studies identified the Keap1-Nrf2-AKR1C1 axis as the downstream mediator of YTHDF1. Together, these findings highlight the critical role of YTHDF1 in both hypoxia adaptation and pathogenesis of NSCLC.Background: Lung cancer is the number one cancer killer worldwide. A major drawback in the lung cancer treatment field is the lack of realistic mouse models that replicate the complexity of human malignancy and immune contexture within the tumor microenvironment. Such models are urgently needed. Mutations of the tumor protein p53 are among the most common alterations in human lung cancers. Methods: Previously, we developed a line of lung cancer mouse model where mutant  human TP53-273H is expressed in a lung specific manner in FVB/N background. To investigate whether the human TP53 mutant has a similar oncogenic potential when  it is expressed in another strain of mouse, we crossed the FVB/N-SPC-TP53-273H mice to A/J strain and created A/J-SPC-TP53-273H transgenic mice. We then compared lung tumor formation between A/J-SPC-TP53-273H and FVB/N-SPC-TP53-273H.  Results: We found the TP53-273H mutant gene has a similar oncogenic potential in  lung tumor formation in both mice strains, although A/J strain mice have been found to be a highly susceptible strain in terms of carcinogen-induced lung cancer. Both transgenic lines survived more than 18\\u2009months and developed age related lung adenocarcinomas. With micro CT imaging, we found the FVB-SPC-TP53-273H mice survived more than 8\\u2009weeks after initial detection of lung cancer, providing a sufficient window for evaluating new anti-cancer agents. Conclusions: Oncogenic potential of the most common genetic mutation, TP53-273H,  in human lung cancer is unique when it is expressed in different strains of mice. Our mouse models are useful tools for testing novel immune checkpoint inhibitors  or other therapeutic strategies in the treatment of lung cancer. \""
      ]
     },
     "execution_count": 65,
     "metadata": {},
     "output_type": "execute_result"
    }
   ],
   "source": [
    "text"
   ]
  },
  {
   "cell_type": "code",
   "execution_count": null,
   "id": "9d1d6a74-10a5-417e-9055-bb4f09a0e2c9",
   "metadata": {},
   "outputs": [],
   "source": []
  },
  {
   "cell_type": "markdown",
   "id": "14f890e7-b3f6-4979-89d8-da3c9a8a8b61",
   "metadata": {},
   "source": [
    "# Part of speech tagging"
   ]
  },
  {
   "cell_type": "code",
   "execution_count": 6,
   "id": "d33d2b0a-9ecb-4844-88c3-af9a56a84d35",
   "metadata": {},
   "outputs": [
    {
     "name": "stdout",
     "output_type": "stream",
     "text": [
      ",          PUNCT    ,      punctuation mark, comma\n",
      "demarcating VERB     VBG    verb, gerund or present participle\n",
      "the        DET      DT     determiner\n",
      "immune     ADJ      JJ     adjective (English), other noun-modifier (Chinese)\n",
      "and        CCONJ    CC     conjunction, coordinating\n",
      "genomic    ADJ      JJ     adjective (English), other noun-modifier (Chinese)\n",
      "landscape  NOUN     NN     noun, singular or mass\n",
      "of         ADP      IN     conjunction, subordinating or preposition\n",
      "cancers    NOUN     NNS    noun, plural\n",
      "at         ADP      IN     conjunction, subordinating or preposition\n",
      "their      PRON     PRP$   pronoun, possessive\n",
      "earliest   ADJ      JJS    adjective, superlative\n",
      "possible   ADJ      JJ     adjective (English), other noun-modifier (Chinese)\n",
      "stages     NOUN     NNS    noun, plural\n",
      "will       AUX      MD     verb, modal auxiliary\n",
      "be         VERB     VB     verb, base form\n",
      "crucial    ADJ      JJ     adjective (English), other noun-modifier (Chinese)\n",
      "to         PART     TO     infinitival \"to\"\n",
      "identify   VERB     VB     verb, base form\n",
      "ideal      ADJ      JJ     adjective (English), other noun-modifier (Chinese)\n"
     ]
    }
   ],
   "source": [
    "selection = doc[100:120]\n",
    "\n",
    "for token in selection:\n",
    "    print(f'{token.text:{10}} {token.pos_:{8}} {token.tag_:{6}} {spacy.explain(token.tag_)}')"
   ]
  },
  {
   "cell_type": "markdown",
   "id": "79c91ab1-e21b-4e39-a473-0f953fe9f73a",
   "metadata": {},
   "source": [
    "## Top POS"
   ]
  },
  {
   "cell_type": "code",
   "execution_count": 7,
   "id": "5a07aec3-421d-4dd5-91f4-f7560c1799ed",
   "metadata": {},
   "outputs": [
    {
     "data": {
      "text/plain": [
       "{92: 1224,\n",
       " 87: 134,\n",
       " 90: 297,\n",
       " 93: 28,\n",
       " 85: 491,\n",
       " 97: 552,\n",
       " 100: 399,\n",
       " 84: 555,\n",
       " 89: 155,\n",
       " 86: 149,\n",
       " 103: 46,\n",
       " 95: 48,\n",
       " 94: 39,\n",
       " 96: 214,\n",
       " 98: 26,\n",
       " 101: 4,\n",
       " 99: 25,\n",
       " 91: 1}"
      ]
     },
     "execution_count": 7,
     "metadata": {},
     "output_type": "execute_result"
    }
   ],
   "source": [
    "counts = doc.count_by(spacy.attrs.POS)\n",
    "counts"
   ]
  },
  {
   "cell_type": "code",
   "execution_count": 8,
   "id": "159524c6-117b-4ec8-b910-b8914afdef43",
   "metadata": {},
   "outputs": [
    {
     "data": {
      "text/plain": [
       "('NOUN', 'ADJ')"
      ]
     },
     "execution_count": 8,
     "metadata": {},
     "output_type": "execute_result"
    }
   ],
   "source": [
    "# top 2 POS in doc\n",
    "doc.vocab[92].text, doc.vocab[84].text"
   ]
  },
  {
   "cell_type": "code",
   "execution_count": 9,
   "id": "dea36d30-5d07-4316-9e36-a356c76ce714",
   "metadata": {},
   "outputs": [
    {
     "name": "stdout",
     "output_type": "stream",
     "text": [
      "398. acomp: 21\n",
      "399. advcl: 24\n",
      "400. advmod: 144\n",
      "401. agent: 5\n",
      "402. amod: 565\n",
      "403. appos: 66\n",
      "404. attr: 18\n",
      "405. aux : 95\n",
      "406. auxpass: 46\n",
      "407. cc  : 159\n",
      "408. ccomp: 24\n",
      "410. conj: 214\n",
      "412. csubj: 7\n",
      "414. dep : 5\n",
      "415. det : 275\n",
      "416. dobj: 178\n",
      "417. expl: 1\n",
      "423. mark: 20\n",
      "425. neg : 3\n",
      "426. nmod: 57\n",
      "428. npadvmod: 40\n",
      "429. nsubj: 168\n",
      "430. nsubjpass: 46\n",
      "433. oprd: 2\n",
      "436. parataxis: 1\n",
      "438. pcomp: 30\n",
      "439. pobj: 480\n",
      "440. poss: 13\n",
      "442. preconj: 3\n",
      "443. prep: 477\n",
      "444. prt : 1\n",
      "445. punct: 577\n",
      "446. quantmod: 5\n",
      "447. relcl: 25\n",
      "450. xcomp: 23\n",
      "451. acl : 37\n",
      "3965108062993911700. dative: 2\n",
      "7037928807040764755. compound: 349\n",
      "8110129090154140942. case: 1\n",
      "8206900633647566924. ROOT: 148\n",
      "12837356684637874264. nummod: 32\n"
     ]
    }
   ],
   "source": [
    "# something else in spac\n",
    "\n",
    "# Count the different dependencies:\n",
    "DEP_counts = doc.count_by(spacy.attrs.DEP)\n",
    "\n",
    "for k,v in sorted(DEP_counts.items()):\n",
    "    print(f'{k}. {doc.vocab[k].text:{4}}: {v}')"
   ]
  },
  {
   "cell_type": "markdown",
   "id": "6a309a3b-7614-45f0-9f85-12f4051b659d",
   "metadata": {},
   "source": [
    "## Visualizations"
   ]
  },
  {
   "cell_type": "code",
   "execution_count": 10,
   "id": "6437ceba-d6b2-4770-b0b7-24615f0a6911",
   "metadata": {},
   "outputs": [
    {
     "data": {
      "text/plain": [
       "Such future directions enable novel insights into the evolution of lung cancers and, thus, can provide a low-hanging fruit of targets for early immune-based treatment of this fatal malignancy."
      ]
     },
     "execution_count": 10,
     "metadata": {},
     "output_type": "execute_result"
    }
   ],
   "source": [
    "selection = doc[282:318]\n",
    "selection"
   ]
  },
  {
   "cell_type": "code",
   "execution_count": 11,
   "id": "d76f6d7d-7b1d-439e-9547-1c8cfcd2c126",
   "metadata": {},
   "outputs": [
    {
     "data": {
      "text/html": [
       "<span class=\"tex2jax_ignore\"><svg xmlns=\"http://www.w3.org/2000/svg\" xmlns:xlink=\"http://www.w3.org/1999/xlink\" xml:lang=\"en\" id=\"5209480257ed4009bc2ab9b07363e01e-0\" class=\"displacy\" width=\"3460\" height=\"467.0\" direction=\"ltr\" style=\"max-width: none; height: 467.0px; color: #000000; background: #ffffff; font-family: Arial; direction: ltr\">\n",
       "<text class=\"displacy-token\" fill=\"currentColor\" text-anchor=\"middle\" y=\"377.0\">\n",
       "    <tspan class=\"displacy-word\" fill=\"currentColor\" x=\"50\">Such</tspan>\n",
       "    <tspan class=\"displacy-tag\" dy=\"2em\" fill=\"currentColor\" x=\"50\">ADJ</tspan>\n",
       "</text>\n",
       "\n",
       "<text class=\"displacy-token\" fill=\"currentColor\" text-anchor=\"middle\" y=\"377.0\">\n",
       "    <tspan class=\"displacy-word\" fill=\"currentColor\" x=\"160\">future</tspan>\n",
       "    <tspan class=\"displacy-tag\" dy=\"2em\" fill=\"currentColor\" x=\"160\">ADJ</tspan>\n",
       "</text>\n",
       "\n",
       "<text class=\"displacy-token\" fill=\"currentColor\" text-anchor=\"middle\" y=\"377.0\">\n",
       "    <tspan class=\"displacy-word\" fill=\"currentColor\" x=\"270\">directions</tspan>\n",
       "    <tspan class=\"displacy-tag\" dy=\"2em\" fill=\"currentColor\" x=\"270\">NOUN</tspan>\n",
       "</text>\n",
       "\n",
       "<text class=\"displacy-token\" fill=\"currentColor\" text-anchor=\"middle\" y=\"377.0\">\n",
       "    <tspan class=\"displacy-word\" fill=\"currentColor\" x=\"380\">enable</tspan>\n",
       "    <tspan class=\"displacy-tag\" dy=\"2em\" fill=\"currentColor\" x=\"380\">VERB</tspan>\n",
       "</text>\n",
       "\n",
       "<text class=\"displacy-token\" fill=\"currentColor\" text-anchor=\"middle\" y=\"377.0\">\n",
       "    <tspan class=\"displacy-word\" fill=\"currentColor\" x=\"490\">novel</tspan>\n",
       "    <tspan class=\"displacy-tag\" dy=\"2em\" fill=\"currentColor\" x=\"490\">ADJ</tspan>\n",
       "</text>\n",
       "\n",
       "<text class=\"displacy-token\" fill=\"currentColor\" text-anchor=\"middle\" y=\"377.0\">\n",
       "    <tspan class=\"displacy-word\" fill=\"currentColor\" x=\"600\">insights</tspan>\n",
       "    <tspan class=\"displacy-tag\" dy=\"2em\" fill=\"currentColor\" x=\"600\">NOUN</tspan>\n",
       "</text>\n",
       "\n",
       "<text class=\"displacy-token\" fill=\"currentColor\" text-anchor=\"middle\" y=\"377.0\">\n",
       "    <tspan class=\"displacy-word\" fill=\"currentColor\" x=\"710\">into</tspan>\n",
       "    <tspan class=\"displacy-tag\" dy=\"2em\" fill=\"currentColor\" x=\"710\">ADP</tspan>\n",
       "</text>\n",
       "\n",
       "<text class=\"displacy-token\" fill=\"currentColor\" text-anchor=\"middle\" y=\"377.0\">\n",
       "    <tspan class=\"displacy-word\" fill=\"currentColor\" x=\"820\">the</tspan>\n",
       "    <tspan class=\"displacy-tag\" dy=\"2em\" fill=\"currentColor\" x=\"820\">DET</tspan>\n",
       "</text>\n",
       "\n",
       "<text class=\"displacy-token\" fill=\"currentColor\" text-anchor=\"middle\" y=\"377.0\">\n",
       "    <tspan class=\"displacy-word\" fill=\"currentColor\" x=\"930\">evolution</tspan>\n",
       "    <tspan class=\"displacy-tag\" dy=\"2em\" fill=\"currentColor\" x=\"930\">NOUN</tspan>\n",
       "</text>\n",
       "\n",
       "<text class=\"displacy-token\" fill=\"currentColor\" text-anchor=\"middle\" y=\"377.0\">\n",
       "    <tspan class=\"displacy-word\" fill=\"currentColor\" x=\"1040\">of</tspan>\n",
       "    <tspan class=\"displacy-tag\" dy=\"2em\" fill=\"currentColor\" x=\"1040\">ADP</tspan>\n",
       "</text>\n",
       "\n",
       "<text class=\"displacy-token\" fill=\"currentColor\" text-anchor=\"middle\" y=\"377.0\">\n",
       "    <tspan class=\"displacy-word\" fill=\"currentColor\" x=\"1150\">lung</tspan>\n",
       "    <tspan class=\"displacy-tag\" dy=\"2em\" fill=\"currentColor\" x=\"1150\">NOUN</tspan>\n",
       "</text>\n",
       "\n",
       "<text class=\"displacy-token\" fill=\"currentColor\" text-anchor=\"middle\" y=\"377.0\">\n",
       "    <tspan class=\"displacy-word\" fill=\"currentColor\" x=\"1260\">cancers</tspan>\n",
       "    <tspan class=\"displacy-tag\" dy=\"2em\" fill=\"currentColor\" x=\"1260\">NOUN</tspan>\n",
       "</text>\n",
       "\n",
       "<text class=\"displacy-token\" fill=\"currentColor\" text-anchor=\"middle\" y=\"377.0\">\n",
       "    <tspan class=\"displacy-word\" fill=\"currentColor\" x=\"1370\">and,</tspan>\n",
       "    <tspan class=\"displacy-tag\" dy=\"2em\" fill=\"currentColor\" x=\"1370\">CCONJ</tspan>\n",
       "</text>\n",
       "\n",
       "<text class=\"displacy-token\" fill=\"currentColor\" text-anchor=\"middle\" y=\"377.0\">\n",
       "    <tspan class=\"displacy-word\" fill=\"currentColor\" x=\"1480\">thus,</tspan>\n",
       "    <tspan class=\"displacy-tag\" dy=\"2em\" fill=\"currentColor\" x=\"1480\">ADV</tspan>\n",
       "</text>\n",
       "\n",
       "<text class=\"displacy-token\" fill=\"currentColor\" text-anchor=\"middle\" y=\"377.0\">\n",
       "    <tspan class=\"displacy-word\" fill=\"currentColor\" x=\"1590\">can</tspan>\n",
       "    <tspan class=\"displacy-tag\" dy=\"2em\" fill=\"currentColor\" x=\"1590\">AUX</tspan>\n",
       "</text>\n",
       "\n",
       "<text class=\"displacy-token\" fill=\"currentColor\" text-anchor=\"middle\" y=\"377.0\">\n",
       "    <tspan class=\"displacy-word\" fill=\"currentColor\" x=\"1700\">provide</tspan>\n",
       "    <tspan class=\"displacy-tag\" dy=\"2em\" fill=\"currentColor\" x=\"1700\">VERB</tspan>\n",
       "</text>\n",
       "\n",
       "<text class=\"displacy-token\" fill=\"currentColor\" text-anchor=\"middle\" y=\"377.0\">\n",
       "    <tspan class=\"displacy-word\" fill=\"currentColor\" x=\"1810\">a</tspan>\n",
       "    <tspan class=\"displacy-tag\" dy=\"2em\" fill=\"currentColor\" x=\"1810\">DET</tspan>\n",
       "</text>\n",
       "\n",
       "<text class=\"displacy-token\" fill=\"currentColor\" text-anchor=\"middle\" y=\"377.0\">\n",
       "    <tspan class=\"displacy-word\" fill=\"currentColor\" x=\"1920\">low-</tspan>\n",
       "    <tspan class=\"displacy-tag\" dy=\"2em\" fill=\"currentColor\" x=\"1920\">ADV</tspan>\n",
       "</text>\n",
       "\n",
       "<text class=\"displacy-token\" fill=\"currentColor\" text-anchor=\"middle\" y=\"377.0\">\n",
       "    <tspan class=\"displacy-word\" fill=\"currentColor\" x=\"2030\">hanging</tspan>\n",
       "    <tspan class=\"displacy-tag\" dy=\"2em\" fill=\"currentColor\" x=\"2030\">VERB</tspan>\n",
       "</text>\n",
       "\n",
       "<text class=\"displacy-token\" fill=\"currentColor\" text-anchor=\"middle\" y=\"377.0\">\n",
       "    <tspan class=\"displacy-word\" fill=\"currentColor\" x=\"2140\">fruit</tspan>\n",
       "    <tspan class=\"displacy-tag\" dy=\"2em\" fill=\"currentColor\" x=\"2140\">NOUN</tspan>\n",
       "</text>\n",
       "\n",
       "<text class=\"displacy-token\" fill=\"currentColor\" text-anchor=\"middle\" y=\"377.0\">\n",
       "    <tspan class=\"displacy-word\" fill=\"currentColor\" x=\"2250\">of</tspan>\n",
       "    <tspan class=\"displacy-tag\" dy=\"2em\" fill=\"currentColor\" x=\"2250\">ADP</tspan>\n",
       "</text>\n",
       "\n",
       "<text class=\"displacy-token\" fill=\"currentColor\" text-anchor=\"middle\" y=\"377.0\">\n",
       "    <tspan class=\"displacy-word\" fill=\"currentColor\" x=\"2360\">targets</tspan>\n",
       "    <tspan class=\"displacy-tag\" dy=\"2em\" fill=\"currentColor\" x=\"2360\">NOUN</tspan>\n",
       "</text>\n",
       "\n",
       "<text class=\"displacy-token\" fill=\"currentColor\" text-anchor=\"middle\" y=\"377.0\">\n",
       "    <tspan class=\"displacy-word\" fill=\"currentColor\" x=\"2470\">for</tspan>\n",
       "    <tspan class=\"displacy-tag\" dy=\"2em\" fill=\"currentColor\" x=\"2470\">ADP</tspan>\n",
       "</text>\n",
       "\n",
       "<text class=\"displacy-token\" fill=\"currentColor\" text-anchor=\"middle\" y=\"377.0\">\n",
       "    <tspan class=\"displacy-word\" fill=\"currentColor\" x=\"2580\">early</tspan>\n",
       "    <tspan class=\"displacy-tag\" dy=\"2em\" fill=\"currentColor\" x=\"2580\">ADJ</tspan>\n",
       "</text>\n",
       "\n",
       "<text class=\"displacy-token\" fill=\"currentColor\" text-anchor=\"middle\" y=\"377.0\">\n",
       "    <tspan class=\"displacy-word\" fill=\"currentColor\" x=\"2690\">immune-</tspan>\n",
       "    <tspan class=\"displacy-tag\" dy=\"2em\" fill=\"currentColor\" x=\"2690\">NOUN</tspan>\n",
       "</text>\n",
       "\n",
       "<text class=\"displacy-token\" fill=\"currentColor\" text-anchor=\"middle\" y=\"377.0\">\n",
       "    <tspan class=\"displacy-word\" fill=\"currentColor\" x=\"2800\">based</tspan>\n",
       "    <tspan class=\"displacy-tag\" dy=\"2em\" fill=\"currentColor\" x=\"2800\">VERB</tspan>\n",
       "</text>\n",
       "\n",
       "<text class=\"displacy-token\" fill=\"currentColor\" text-anchor=\"middle\" y=\"377.0\">\n",
       "    <tspan class=\"displacy-word\" fill=\"currentColor\" x=\"2910\">treatment</tspan>\n",
       "    <tspan class=\"displacy-tag\" dy=\"2em\" fill=\"currentColor\" x=\"2910\">NOUN</tspan>\n",
       "</text>\n",
       "\n",
       "<text class=\"displacy-token\" fill=\"currentColor\" text-anchor=\"middle\" y=\"377.0\">\n",
       "    <tspan class=\"displacy-word\" fill=\"currentColor\" x=\"3020\">of</tspan>\n",
       "    <tspan class=\"displacy-tag\" dy=\"2em\" fill=\"currentColor\" x=\"3020\">ADP</tspan>\n",
       "</text>\n",
       "\n",
       "<text class=\"displacy-token\" fill=\"currentColor\" text-anchor=\"middle\" y=\"377.0\">\n",
       "    <tspan class=\"displacy-word\" fill=\"currentColor\" x=\"3130\">this</tspan>\n",
       "    <tspan class=\"displacy-tag\" dy=\"2em\" fill=\"currentColor\" x=\"3130\">DET</tspan>\n",
       "</text>\n",
       "\n",
       "<text class=\"displacy-token\" fill=\"currentColor\" text-anchor=\"middle\" y=\"377.0\">\n",
       "    <tspan class=\"displacy-word\" fill=\"currentColor\" x=\"3240\">fatal</tspan>\n",
       "    <tspan class=\"displacy-tag\" dy=\"2em\" fill=\"currentColor\" x=\"3240\">ADJ</tspan>\n",
       "</text>\n",
       "\n",
       "<text class=\"displacy-token\" fill=\"currentColor\" text-anchor=\"middle\" y=\"377.0\">\n",
       "    <tspan class=\"displacy-word\" fill=\"currentColor\" x=\"3350\">malignancy.</tspan>\n",
       "    <tspan class=\"displacy-tag\" dy=\"2em\" fill=\"currentColor\" x=\"3350\">NOUN</tspan>\n",
       "</text>\n",
       "\n",
       "<g class=\"displacy-arrow\">\n",
       "    <path class=\"displacy-arc\" id=\"arrow-5209480257ed4009bc2ab9b07363e01e-0-0\" stroke-width=\"2px\" d=\"M70,332.0 C70,222.0 250.0,222.0 250.0,332.0\" fill=\"none\" stroke=\"currentColor\"/>\n",
       "    <text dy=\"1.25em\" style=\"font-size: 0.8em; letter-spacing: 1px\">\n",
       "        <textPath xlink:href=\"#arrow-5209480257ed4009bc2ab9b07363e01e-0-0\" class=\"displacy-label\" startOffset=\"50%\" side=\"left\" fill=\"currentColor\" text-anchor=\"middle\">amod</textPath>\n",
       "    </text>\n",
       "    <path class=\"displacy-arrowhead\" d=\"M70,334.0 L62,322.0 78,322.0\" fill=\"currentColor\"/>\n",
       "</g>\n",
       "\n",
       "<g class=\"displacy-arrow\">\n",
       "    <path class=\"displacy-arc\" id=\"arrow-5209480257ed4009bc2ab9b07363e01e-0-1\" stroke-width=\"2px\" d=\"M180,332.0 C180,277.0 245.0,277.0 245.0,332.0\" fill=\"none\" stroke=\"currentColor\"/>\n",
       "    <text dy=\"1.25em\" style=\"font-size: 0.8em; letter-spacing: 1px\">\n",
       "        <textPath xlink:href=\"#arrow-5209480257ed4009bc2ab9b07363e01e-0-1\" class=\"displacy-label\" startOffset=\"50%\" side=\"left\" fill=\"currentColor\" text-anchor=\"middle\">amod</textPath>\n",
       "    </text>\n",
       "    <path class=\"displacy-arrowhead\" d=\"M180,334.0 L172,322.0 188,322.0\" fill=\"currentColor\"/>\n",
       "</g>\n",
       "\n",
       "<g class=\"displacy-arrow\">\n",
       "    <path class=\"displacy-arc\" id=\"arrow-5209480257ed4009bc2ab9b07363e01e-0-2\" stroke-width=\"2px\" d=\"M290,332.0 C290,277.0 355.0,277.0 355.0,332.0\" fill=\"none\" stroke=\"currentColor\"/>\n",
       "    <text dy=\"1.25em\" style=\"font-size: 0.8em; letter-spacing: 1px\">\n",
       "        <textPath xlink:href=\"#arrow-5209480257ed4009bc2ab9b07363e01e-0-2\" class=\"displacy-label\" startOffset=\"50%\" side=\"left\" fill=\"currentColor\" text-anchor=\"middle\">nsubj</textPath>\n",
       "    </text>\n",
       "    <path class=\"displacy-arrowhead\" d=\"M290,334.0 L282,322.0 298,322.0\" fill=\"currentColor\"/>\n",
       "</g>\n",
       "\n",
       "<g class=\"displacy-arrow\">\n",
       "    <path class=\"displacy-arc\" id=\"arrow-5209480257ed4009bc2ab9b07363e01e-0-3\" stroke-width=\"2px\" d=\"M510,332.0 C510,277.0 575.0,277.0 575.0,332.0\" fill=\"none\" stroke=\"currentColor\"/>\n",
       "    <text dy=\"1.25em\" style=\"font-size: 0.8em; letter-spacing: 1px\">\n",
       "        <textPath xlink:href=\"#arrow-5209480257ed4009bc2ab9b07363e01e-0-3\" class=\"displacy-label\" startOffset=\"50%\" side=\"left\" fill=\"currentColor\" text-anchor=\"middle\">amod</textPath>\n",
       "    </text>\n",
       "    <path class=\"displacy-arrowhead\" d=\"M510,334.0 L502,322.0 518,322.0\" fill=\"currentColor\"/>\n",
       "</g>\n",
       "\n",
       "<g class=\"displacy-arrow\">\n",
       "    <path class=\"displacy-arc\" id=\"arrow-5209480257ed4009bc2ab9b07363e01e-0-4\" stroke-width=\"2px\" d=\"M400,332.0 C400,222.0 580.0,222.0 580.0,332.0\" fill=\"none\" stroke=\"currentColor\"/>\n",
       "    <text dy=\"1.25em\" style=\"font-size: 0.8em; letter-spacing: 1px\">\n",
       "        <textPath xlink:href=\"#arrow-5209480257ed4009bc2ab9b07363e01e-0-4\" class=\"displacy-label\" startOffset=\"50%\" side=\"left\" fill=\"currentColor\" text-anchor=\"middle\">dobj</textPath>\n",
       "    </text>\n",
       "    <path class=\"displacy-arrowhead\" d=\"M580.0,334.0 L588.0,322.0 572.0,322.0\" fill=\"currentColor\"/>\n",
       "</g>\n",
       "\n",
       "<g class=\"displacy-arrow\">\n",
       "    <path class=\"displacy-arc\" id=\"arrow-5209480257ed4009bc2ab9b07363e01e-0-5\" stroke-width=\"2px\" d=\"M620,332.0 C620,277.0 685.0,277.0 685.0,332.0\" fill=\"none\" stroke=\"currentColor\"/>\n",
       "    <text dy=\"1.25em\" style=\"font-size: 0.8em; letter-spacing: 1px\">\n",
       "        <textPath xlink:href=\"#arrow-5209480257ed4009bc2ab9b07363e01e-0-5\" class=\"displacy-label\" startOffset=\"50%\" side=\"left\" fill=\"currentColor\" text-anchor=\"middle\">prep</textPath>\n",
       "    </text>\n",
       "    <path class=\"displacy-arrowhead\" d=\"M685.0,334.0 L693.0,322.0 677.0,322.0\" fill=\"currentColor\"/>\n",
       "</g>\n",
       "\n",
       "<g class=\"displacy-arrow\">\n",
       "    <path class=\"displacy-arc\" id=\"arrow-5209480257ed4009bc2ab9b07363e01e-0-6\" stroke-width=\"2px\" d=\"M840,332.0 C840,277.0 905.0,277.0 905.0,332.0\" fill=\"none\" stroke=\"currentColor\"/>\n",
       "    <text dy=\"1.25em\" style=\"font-size: 0.8em; letter-spacing: 1px\">\n",
       "        <textPath xlink:href=\"#arrow-5209480257ed4009bc2ab9b07363e01e-0-6\" class=\"displacy-label\" startOffset=\"50%\" side=\"left\" fill=\"currentColor\" text-anchor=\"middle\">det</textPath>\n",
       "    </text>\n",
       "    <path class=\"displacy-arrowhead\" d=\"M840,334.0 L832,322.0 848,322.0\" fill=\"currentColor\"/>\n",
       "</g>\n",
       "\n",
       "<g class=\"displacy-arrow\">\n",
       "    <path class=\"displacy-arc\" id=\"arrow-5209480257ed4009bc2ab9b07363e01e-0-7\" stroke-width=\"2px\" d=\"M730,332.0 C730,222.0 910.0,222.0 910.0,332.0\" fill=\"none\" stroke=\"currentColor\"/>\n",
       "    <text dy=\"1.25em\" style=\"font-size: 0.8em; letter-spacing: 1px\">\n",
       "        <textPath xlink:href=\"#arrow-5209480257ed4009bc2ab9b07363e01e-0-7\" class=\"displacy-label\" startOffset=\"50%\" side=\"left\" fill=\"currentColor\" text-anchor=\"middle\">pobj</textPath>\n",
       "    </text>\n",
       "    <path class=\"displacy-arrowhead\" d=\"M910.0,334.0 L918.0,322.0 902.0,322.0\" fill=\"currentColor\"/>\n",
       "</g>\n",
       "\n",
       "<g class=\"displacy-arrow\">\n",
       "    <path class=\"displacy-arc\" id=\"arrow-5209480257ed4009bc2ab9b07363e01e-0-8\" stroke-width=\"2px\" d=\"M950,332.0 C950,277.0 1015.0,277.0 1015.0,332.0\" fill=\"none\" stroke=\"currentColor\"/>\n",
       "    <text dy=\"1.25em\" style=\"font-size: 0.8em; letter-spacing: 1px\">\n",
       "        <textPath xlink:href=\"#arrow-5209480257ed4009bc2ab9b07363e01e-0-8\" class=\"displacy-label\" startOffset=\"50%\" side=\"left\" fill=\"currentColor\" text-anchor=\"middle\">prep</textPath>\n",
       "    </text>\n",
       "    <path class=\"displacy-arrowhead\" d=\"M1015.0,334.0 L1023.0,322.0 1007.0,322.0\" fill=\"currentColor\"/>\n",
       "</g>\n",
       "\n",
       "<g class=\"displacy-arrow\">\n",
       "    <path class=\"displacy-arc\" id=\"arrow-5209480257ed4009bc2ab9b07363e01e-0-9\" stroke-width=\"2px\" d=\"M1170,332.0 C1170,277.0 1235.0,277.0 1235.0,332.0\" fill=\"none\" stroke=\"currentColor\"/>\n",
       "    <text dy=\"1.25em\" style=\"font-size: 0.8em; letter-spacing: 1px\">\n",
       "        <textPath xlink:href=\"#arrow-5209480257ed4009bc2ab9b07363e01e-0-9\" class=\"displacy-label\" startOffset=\"50%\" side=\"left\" fill=\"currentColor\" text-anchor=\"middle\">compound</textPath>\n",
       "    </text>\n",
       "    <path class=\"displacy-arrowhead\" d=\"M1170,334.0 L1162,322.0 1178,322.0\" fill=\"currentColor\"/>\n",
       "</g>\n",
       "\n",
       "<g class=\"displacy-arrow\">\n",
       "    <path class=\"displacy-arc\" id=\"arrow-5209480257ed4009bc2ab9b07363e01e-0-10\" stroke-width=\"2px\" d=\"M1060,332.0 C1060,222.0 1240.0,222.0 1240.0,332.0\" fill=\"none\" stroke=\"currentColor\"/>\n",
       "    <text dy=\"1.25em\" style=\"font-size: 0.8em; letter-spacing: 1px\">\n",
       "        <textPath xlink:href=\"#arrow-5209480257ed4009bc2ab9b07363e01e-0-10\" class=\"displacy-label\" startOffset=\"50%\" side=\"left\" fill=\"currentColor\" text-anchor=\"middle\">pobj</textPath>\n",
       "    </text>\n",
       "    <path class=\"displacy-arrowhead\" d=\"M1240.0,334.0 L1248.0,322.0 1232.0,322.0\" fill=\"currentColor\"/>\n",
       "</g>\n",
       "\n",
       "<g class=\"displacy-arrow\">\n",
       "    <path class=\"displacy-arc\" id=\"arrow-5209480257ed4009bc2ab9b07363e01e-0-11\" stroke-width=\"2px\" d=\"M400,332.0 C400,57.0 1365.0,57.0 1365.0,332.0\" fill=\"none\" stroke=\"currentColor\"/>\n",
       "    <text dy=\"1.25em\" style=\"font-size: 0.8em; letter-spacing: 1px\">\n",
       "        <textPath xlink:href=\"#arrow-5209480257ed4009bc2ab9b07363e01e-0-11\" class=\"displacy-label\" startOffset=\"50%\" side=\"left\" fill=\"currentColor\" text-anchor=\"middle\">cc</textPath>\n",
       "    </text>\n",
       "    <path class=\"displacy-arrowhead\" d=\"M1365.0,334.0 L1373.0,322.0 1357.0,322.0\" fill=\"currentColor\"/>\n",
       "</g>\n",
       "\n",
       "<g class=\"displacy-arrow\">\n",
       "    <path class=\"displacy-arc\" id=\"arrow-5209480257ed4009bc2ab9b07363e01e-0-12\" stroke-width=\"2px\" d=\"M1500,332.0 C1500,222.0 1680.0,222.0 1680.0,332.0\" fill=\"none\" stroke=\"currentColor\"/>\n",
       "    <text dy=\"1.25em\" style=\"font-size: 0.8em; letter-spacing: 1px\">\n",
       "        <textPath xlink:href=\"#arrow-5209480257ed4009bc2ab9b07363e01e-0-12\" class=\"displacy-label\" startOffset=\"50%\" side=\"left\" fill=\"currentColor\" text-anchor=\"middle\">advmod</textPath>\n",
       "    </text>\n",
       "    <path class=\"displacy-arrowhead\" d=\"M1500,334.0 L1492,322.0 1508,322.0\" fill=\"currentColor\"/>\n",
       "</g>\n",
       "\n",
       "<g class=\"displacy-arrow\">\n",
       "    <path class=\"displacy-arc\" id=\"arrow-5209480257ed4009bc2ab9b07363e01e-0-13\" stroke-width=\"2px\" d=\"M1610,332.0 C1610,277.0 1675.0,277.0 1675.0,332.0\" fill=\"none\" stroke=\"currentColor\"/>\n",
       "    <text dy=\"1.25em\" style=\"font-size: 0.8em; letter-spacing: 1px\">\n",
       "        <textPath xlink:href=\"#arrow-5209480257ed4009bc2ab9b07363e01e-0-13\" class=\"displacy-label\" startOffset=\"50%\" side=\"left\" fill=\"currentColor\" text-anchor=\"middle\">aux</textPath>\n",
       "    </text>\n",
       "    <path class=\"displacy-arrowhead\" d=\"M1610,334.0 L1602,322.0 1618,322.0\" fill=\"currentColor\"/>\n",
       "</g>\n",
       "\n",
       "<g class=\"displacy-arrow\">\n",
       "    <path class=\"displacy-arc\" id=\"arrow-5209480257ed4009bc2ab9b07363e01e-0-14\" stroke-width=\"2px\" d=\"M400,332.0 C400,2.0 1700.0,2.0 1700.0,332.0\" fill=\"none\" stroke=\"currentColor\"/>\n",
       "    <text dy=\"1.25em\" style=\"font-size: 0.8em; letter-spacing: 1px\">\n",
       "        <textPath xlink:href=\"#arrow-5209480257ed4009bc2ab9b07363e01e-0-14\" class=\"displacy-label\" startOffset=\"50%\" side=\"left\" fill=\"currentColor\" text-anchor=\"middle\">conj</textPath>\n",
       "    </text>\n",
       "    <path class=\"displacy-arrowhead\" d=\"M1700.0,334.0 L1708.0,322.0 1692.0,322.0\" fill=\"currentColor\"/>\n",
       "</g>\n",
       "\n",
       "<g class=\"displacy-arrow\">\n",
       "    <path class=\"displacy-arc\" id=\"arrow-5209480257ed4009bc2ab9b07363e01e-0-15\" stroke-width=\"2px\" d=\"M1830,332.0 C1830,167.0 2125.0,167.0 2125.0,332.0\" fill=\"none\" stroke=\"currentColor\"/>\n",
       "    <text dy=\"1.25em\" style=\"font-size: 0.8em; letter-spacing: 1px\">\n",
       "        <textPath xlink:href=\"#arrow-5209480257ed4009bc2ab9b07363e01e-0-15\" class=\"displacy-label\" startOffset=\"50%\" side=\"left\" fill=\"currentColor\" text-anchor=\"middle\">det</textPath>\n",
       "    </text>\n",
       "    <path class=\"displacy-arrowhead\" d=\"M1830,334.0 L1822,322.0 1838,322.0\" fill=\"currentColor\"/>\n",
       "</g>\n",
       "\n",
       "<g class=\"displacy-arrow\">\n",
       "    <path class=\"displacy-arc\" id=\"arrow-5209480257ed4009bc2ab9b07363e01e-0-16\" stroke-width=\"2px\" d=\"M1940,332.0 C1940,277.0 2005.0,277.0 2005.0,332.0\" fill=\"none\" stroke=\"currentColor\"/>\n",
       "    <text dy=\"1.25em\" style=\"font-size: 0.8em; letter-spacing: 1px\">\n",
       "        <textPath xlink:href=\"#arrow-5209480257ed4009bc2ab9b07363e01e-0-16\" class=\"displacy-label\" startOffset=\"50%\" side=\"left\" fill=\"currentColor\" text-anchor=\"middle\">advmod</textPath>\n",
       "    </text>\n",
       "    <path class=\"displacy-arrowhead\" d=\"M1940,334.0 L1932,322.0 1948,322.0\" fill=\"currentColor\"/>\n",
       "</g>\n",
       "\n",
       "<g class=\"displacy-arrow\">\n",
       "    <path class=\"displacy-arc\" id=\"arrow-5209480257ed4009bc2ab9b07363e01e-0-17\" stroke-width=\"2px\" d=\"M2050,332.0 C2050,277.0 2115.0,277.0 2115.0,332.0\" fill=\"none\" stroke=\"currentColor\"/>\n",
       "    <text dy=\"1.25em\" style=\"font-size: 0.8em; letter-spacing: 1px\">\n",
       "        <textPath xlink:href=\"#arrow-5209480257ed4009bc2ab9b07363e01e-0-17\" class=\"displacy-label\" startOffset=\"50%\" side=\"left\" fill=\"currentColor\" text-anchor=\"middle\">amod</textPath>\n",
       "    </text>\n",
       "    <path class=\"displacy-arrowhead\" d=\"M2050,334.0 L2042,322.0 2058,322.0\" fill=\"currentColor\"/>\n",
       "</g>\n",
       "\n",
       "<g class=\"displacy-arrow\">\n",
       "    <path class=\"displacy-arc\" id=\"arrow-5209480257ed4009bc2ab9b07363e01e-0-18\" stroke-width=\"2px\" d=\"M1720,332.0 C1720,112.0 2130.0,112.0 2130.0,332.0\" fill=\"none\" stroke=\"currentColor\"/>\n",
       "    <text dy=\"1.25em\" style=\"font-size: 0.8em; letter-spacing: 1px\">\n",
       "        <textPath xlink:href=\"#arrow-5209480257ed4009bc2ab9b07363e01e-0-18\" class=\"displacy-label\" startOffset=\"50%\" side=\"left\" fill=\"currentColor\" text-anchor=\"middle\">dobj</textPath>\n",
       "    </text>\n",
       "    <path class=\"displacy-arrowhead\" d=\"M2130.0,334.0 L2138.0,322.0 2122.0,322.0\" fill=\"currentColor\"/>\n",
       "</g>\n",
       "\n",
       "<g class=\"displacy-arrow\">\n",
       "    <path class=\"displacy-arc\" id=\"arrow-5209480257ed4009bc2ab9b07363e01e-0-19\" stroke-width=\"2px\" d=\"M2160,332.0 C2160,277.0 2225.0,277.0 2225.0,332.0\" fill=\"none\" stroke=\"currentColor\"/>\n",
       "    <text dy=\"1.25em\" style=\"font-size: 0.8em; letter-spacing: 1px\">\n",
       "        <textPath xlink:href=\"#arrow-5209480257ed4009bc2ab9b07363e01e-0-19\" class=\"displacy-label\" startOffset=\"50%\" side=\"left\" fill=\"currentColor\" text-anchor=\"middle\">prep</textPath>\n",
       "    </text>\n",
       "    <path class=\"displacy-arrowhead\" d=\"M2225.0,334.0 L2233.0,322.0 2217.0,322.0\" fill=\"currentColor\"/>\n",
       "</g>\n",
       "\n",
       "<g class=\"displacy-arrow\">\n",
       "    <path class=\"displacy-arc\" id=\"arrow-5209480257ed4009bc2ab9b07363e01e-0-20\" stroke-width=\"2px\" d=\"M2270,332.0 C2270,277.0 2335.0,277.0 2335.0,332.0\" fill=\"none\" stroke=\"currentColor\"/>\n",
       "    <text dy=\"1.25em\" style=\"font-size: 0.8em; letter-spacing: 1px\">\n",
       "        <textPath xlink:href=\"#arrow-5209480257ed4009bc2ab9b07363e01e-0-20\" class=\"displacy-label\" startOffset=\"50%\" side=\"left\" fill=\"currentColor\" text-anchor=\"middle\">pobj</textPath>\n",
       "    </text>\n",
       "    <path class=\"displacy-arrowhead\" d=\"M2335.0,334.0 L2343.0,322.0 2327.0,322.0\" fill=\"currentColor\"/>\n",
       "</g>\n",
       "\n",
       "<g class=\"displacy-arrow\">\n",
       "    <path class=\"displacy-arc\" id=\"arrow-5209480257ed4009bc2ab9b07363e01e-0-21\" stroke-width=\"2px\" d=\"M2160,332.0 C2160,167.0 2455.0,167.0 2455.0,332.0\" fill=\"none\" stroke=\"currentColor\"/>\n",
       "    <text dy=\"1.25em\" style=\"font-size: 0.8em; letter-spacing: 1px\">\n",
       "        <textPath xlink:href=\"#arrow-5209480257ed4009bc2ab9b07363e01e-0-21\" class=\"displacy-label\" startOffset=\"50%\" side=\"left\" fill=\"currentColor\" text-anchor=\"middle\">prep</textPath>\n",
       "    </text>\n",
       "    <path class=\"displacy-arrowhead\" d=\"M2455.0,334.0 L2463.0,322.0 2447.0,322.0\" fill=\"currentColor\"/>\n",
       "</g>\n",
       "\n",
       "<g class=\"displacy-arrow\">\n",
       "    <path class=\"displacy-arc\" id=\"arrow-5209480257ed4009bc2ab9b07363e01e-0-22\" stroke-width=\"2px\" d=\"M2600,332.0 C2600,167.0 2895.0,167.0 2895.0,332.0\" fill=\"none\" stroke=\"currentColor\"/>\n",
       "    <text dy=\"1.25em\" style=\"font-size: 0.8em; letter-spacing: 1px\">\n",
       "        <textPath xlink:href=\"#arrow-5209480257ed4009bc2ab9b07363e01e-0-22\" class=\"displacy-label\" startOffset=\"50%\" side=\"left\" fill=\"currentColor\" text-anchor=\"middle\">amod</textPath>\n",
       "    </text>\n",
       "    <path class=\"displacy-arrowhead\" d=\"M2600,334.0 L2592,322.0 2608,322.0\" fill=\"currentColor\"/>\n",
       "</g>\n",
       "\n",
       "<g class=\"displacy-arrow\">\n",
       "    <path class=\"displacy-arc\" id=\"arrow-5209480257ed4009bc2ab9b07363e01e-0-23\" stroke-width=\"2px\" d=\"M2710,332.0 C2710,277.0 2775.0,277.0 2775.0,332.0\" fill=\"none\" stroke=\"currentColor\"/>\n",
       "    <text dy=\"1.25em\" style=\"font-size: 0.8em; letter-spacing: 1px\">\n",
       "        <textPath xlink:href=\"#arrow-5209480257ed4009bc2ab9b07363e01e-0-23\" class=\"displacy-label\" startOffset=\"50%\" side=\"left\" fill=\"currentColor\" text-anchor=\"middle\">npadvmod</textPath>\n",
       "    </text>\n",
       "    <path class=\"displacy-arrowhead\" d=\"M2710,334.0 L2702,322.0 2718,322.0\" fill=\"currentColor\"/>\n",
       "</g>\n",
       "\n",
       "<g class=\"displacy-arrow\">\n",
       "    <path class=\"displacy-arc\" id=\"arrow-5209480257ed4009bc2ab9b07363e01e-0-24\" stroke-width=\"2px\" d=\"M2820,332.0 C2820,277.0 2885.0,277.0 2885.0,332.0\" fill=\"none\" stroke=\"currentColor\"/>\n",
       "    <text dy=\"1.25em\" style=\"font-size: 0.8em; letter-spacing: 1px\">\n",
       "        <textPath xlink:href=\"#arrow-5209480257ed4009bc2ab9b07363e01e-0-24\" class=\"displacy-label\" startOffset=\"50%\" side=\"left\" fill=\"currentColor\" text-anchor=\"middle\">amod</textPath>\n",
       "    </text>\n",
       "    <path class=\"displacy-arrowhead\" d=\"M2820,334.0 L2812,322.0 2828,322.0\" fill=\"currentColor\"/>\n",
       "</g>\n",
       "\n",
       "<g class=\"displacy-arrow\">\n",
       "    <path class=\"displacy-arc\" id=\"arrow-5209480257ed4009bc2ab9b07363e01e-0-25\" stroke-width=\"2px\" d=\"M2490,332.0 C2490,112.0 2900.0,112.0 2900.0,332.0\" fill=\"none\" stroke=\"currentColor\"/>\n",
       "    <text dy=\"1.25em\" style=\"font-size: 0.8em; letter-spacing: 1px\">\n",
       "        <textPath xlink:href=\"#arrow-5209480257ed4009bc2ab9b07363e01e-0-25\" class=\"displacy-label\" startOffset=\"50%\" side=\"left\" fill=\"currentColor\" text-anchor=\"middle\">pobj</textPath>\n",
       "    </text>\n",
       "    <path class=\"displacy-arrowhead\" d=\"M2900.0,334.0 L2908.0,322.0 2892.0,322.0\" fill=\"currentColor\"/>\n",
       "</g>\n",
       "\n",
       "<g class=\"displacy-arrow\">\n",
       "    <path class=\"displacy-arc\" id=\"arrow-5209480257ed4009bc2ab9b07363e01e-0-26\" stroke-width=\"2px\" d=\"M2930,332.0 C2930,277.0 2995.0,277.0 2995.0,332.0\" fill=\"none\" stroke=\"currentColor\"/>\n",
       "    <text dy=\"1.25em\" style=\"font-size: 0.8em; letter-spacing: 1px\">\n",
       "        <textPath xlink:href=\"#arrow-5209480257ed4009bc2ab9b07363e01e-0-26\" class=\"displacy-label\" startOffset=\"50%\" side=\"left\" fill=\"currentColor\" text-anchor=\"middle\">prep</textPath>\n",
       "    </text>\n",
       "    <path class=\"displacy-arrowhead\" d=\"M2995.0,334.0 L3003.0,322.0 2987.0,322.0\" fill=\"currentColor\"/>\n",
       "</g>\n",
       "\n",
       "<g class=\"displacy-arrow\">\n",
       "    <path class=\"displacy-arc\" id=\"arrow-5209480257ed4009bc2ab9b07363e01e-0-27\" stroke-width=\"2px\" d=\"M3150,332.0 C3150,222.0 3330.0,222.0 3330.0,332.0\" fill=\"none\" stroke=\"currentColor\"/>\n",
       "    <text dy=\"1.25em\" style=\"font-size: 0.8em; letter-spacing: 1px\">\n",
       "        <textPath xlink:href=\"#arrow-5209480257ed4009bc2ab9b07363e01e-0-27\" class=\"displacy-label\" startOffset=\"50%\" side=\"left\" fill=\"currentColor\" text-anchor=\"middle\">det</textPath>\n",
       "    </text>\n",
       "    <path class=\"displacy-arrowhead\" d=\"M3150,334.0 L3142,322.0 3158,322.0\" fill=\"currentColor\"/>\n",
       "</g>\n",
       "\n",
       "<g class=\"displacy-arrow\">\n",
       "    <path class=\"displacy-arc\" id=\"arrow-5209480257ed4009bc2ab9b07363e01e-0-28\" stroke-width=\"2px\" d=\"M3260,332.0 C3260,277.0 3325.0,277.0 3325.0,332.0\" fill=\"none\" stroke=\"currentColor\"/>\n",
       "    <text dy=\"1.25em\" style=\"font-size: 0.8em; letter-spacing: 1px\">\n",
       "        <textPath xlink:href=\"#arrow-5209480257ed4009bc2ab9b07363e01e-0-28\" class=\"displacy-label\" startOffset=\"50%\" side=\"left\" fill=\"currentColor\" text-anchor=\"middle\">amod</textPath>\n",
       "    </text>\n",
       "    <path class=\"displacy-arrowhead\" d=\"M3260,334.0 L3252,322.0 3268,322.0\" fill=\"currentColor\"/>\n",
       "</g>\n",
       "\n",
       "<g class=\"displacy-arrow\">\n",
       "    <path class=\"displacy-arc\" id=\"arrow-5209480257ed4009bc2ab9b07363e01e-0-29\" stroke-width=\"2px\" d=\"M3040,332.0 C3040,167.0 3335.0,167.0 3335.0,332.0\" fill=\"none\" stroke=\"currentColor\"/>\n",
       "    <text dy=\"1.25em\" style=\"font-size: 0.8em; letter-spacing: 1px\">\n",
       "        <textPath xlink:href=\"#arrow-5209480257ed4009bc2ab9b07363e01e-0-29\" class=\"displacy-label\" startOffset=\"50%\" side=\"left\" fill=\"currentColor\" text-anchor=\"middle\">pobj</textPath>\n",
       "    </text>\n",
       "    <path class=\"displacy-arrowhead\" d=\"M3335.0,334.0 L3343.0,322.0 3327.0,322.0\" fill=\"currentColor\"/>\n",
       "</g>\n",
       "</svg></span>"
      ],
      "text/plain": [
       "<IPython.core.display.HTML object>"
      ]
     },
     "metadata": {},
     "output_type": "display_data"
    }
   ],
   "source": [
    "displacy.render(selection, style='dep', jupyter=True, options={'distance': 110})"
   ]
  },
  {
   "cell_type": "markdown",
   "id": "fecaca44-683b-422c-9a80-93f886d11002",
   "metadata": {},
   "source": [
    "# Abbreviations"
   ]
  },
  {
   "cell_type": "code",
   "execution_count": null,
   "id": "3004046d-c313-4ba6-bb88-03fa48e37690",
   "metadata": {},
   "outputs": [],
   "source": []
  }
 ],
 "metadata": {
  "kernelspec": {
   "display_name": "Scispacy (playgrounds)",
   "language": "python",
   "name": "scispacy"
  },
  "language_info": {
   "codemirror_mode": {
    "name": "ipython",
    "version": 3
   },
   "file_extension": ".py",
   "mimetype": "text/x-python",
   "name": "python",
   "nbconvert_exporter": "python",
   "pygments_lexer": "ipython3",
   "version": "3.8.9"
  }
 },
 "nbformat": 4,
 "nbformat_minor": 5
}
