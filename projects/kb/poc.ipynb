{
 "cells": [
  {
   "cell_type": "markdown",
   "id": "61ac8681-f3ce-4e30-85f3-faa8197a9fbf",
   "metadata": {},
   "source": [
    "# Link detected entities to knowledge base\n",
    "\n",
    "https://github.com/allenai/scispacy#entitylinker"
   ]
  },
  {
   "cell_type": "code",
   "execution_count": 8,
   "id": "8389e402-e1ad-4f9e-873d-cee1a8af57c0",
   "metadata": {},
   "outputs": [],
   "source": [
    "import spacy\n",
    "import scispacy\n",
    "\n",
    "from scispacy.linking import EntityLinker"
   ]
  },
  {
   "cell_type": "code",
   "execution_count": 11,
   "id": "c9a45dad-7c34-4926-81d9-fe8bfe5b4f10",
   "metadata": {},
   "outputs": [],
   "source": [
    "nlp = spacy.load(\"en_core_sci_sm\")"
   ]
  },
  {
   "cell_type": "code",
   "execution_count": 12,
   "id": "bd0f5e2b-3126-435a-bb69-1a22c8096f98",
   "metadata": {},
   "outputs": [
    {
     "name": "stdout",
     "output_type": "stream",
     "text": [
      "https://s3-us-west-2.amazonaws.com/ai2-s2-scispacy/data/linkers/2020-10-09/umls/concept_aliases.json not found in cache, downloading to /var/folders/zq/1bf8yt3x24z5phgvm_s3yj300000gn/T/tmppex12gl2\n",
      "Finished download, copying /var/folders/zq/1bf8yt3x24z5phgvm_s3yj300000gn/T/tmppex12gl2 to cache at /Users/paczuskp/.scispacy/datasets/1428ec15d3b1061731ea273c03699130b3d6b90948993e74bda66af605ff8e2a.aeb7a686c654df6bccb6c2c23d3eda3eb381daaefda4592b58158d0bee53b352.concept_aliases.json\n",
      "https://s3-us-west-2.amazonaws.com/ai2-s2-scispacy/data/kbs/2020-10-09/umls_2020_aa_cat0129.jsonl not found in cache, downloading to /var/folders/zq/1bf8yt3x24z5phgvm_s3yj300000gn/T/tmpic34tkri\n",
      "Finished download, copying /var/folders/zq/1bf8yt3x24z5phgvm_s3yj300000gn/T/tmpic34tkri to cache at /Users/paczuskp/.scispacy/datasets/4d7fb8fcae1035d1e0a47d9072b43d5a628057d35497fbfb2499b4b7b2dd4dd7.05ec7eef12f336d4666da85b7fa69b9401883a7dd4244473f7b88b413ccbba03.umls_2020_aa_cat0129.jsonl\n",
      "https://s3-us-west-2.amazonaws.com/ai2-s2-scispacy/data/umls_semantic_type_tree.tsv not found in cache, downloading to /var/folders/zq/1bf8yt3x24z5phgvm_s3yj300000gn/T/tmpa_oznei8\n",
      "Finished download, copying /var/folders/zq/1bf8yt3x24z5phgvm_s3yj300000gn/T/tmpa_oznei8 to cache at /Users/paczuskp/.scispacy/datasets/21a1012c532c3a431d60895c509f5b4d45b0f8966c4178b892190a302b21836f.330707f4efe774134872b9f77f0e3208c1d30f50800b3b39a6b8ec21d9adf1b7.umls_semantic_type_tree.tsv\n"
     ]
    },
    {
     "data": {
      "text/plain": [
       "<scispacy.linking.EntityLinker at 0x1324aef70>"
      ]
     },
     "execution_count": 12,
     "metadata": {},
     "output_type": "execute_result"
    }
   ],
   "source": [
    "# \"This line takes a while, because we have to download ~1GB of data\n",
    "# and load a large JSON file (the knowledge base). Be patient!\"\n",
    "\n",
    "nlp.add_pipe(\"scispacy_linker\",\n",
    "             config={\"resolve_abbreviations\": True, \"linker_name\": \"umls\"})"
   ]
  },
  {
   "cell_type": "code",
   "execution_count": 13,
   "id": "019ea82b-3408-49a4-9de9-4625f13fdc6c",
   "metadata": {},
   "outputs": [
    {
     "name": "stderr",
     "output_type": "stream",
     "text": [
      "/Users/paczuskp/Envs/scispacy/lib/python3.8/site-packages/scispacy/candidate_generation.py:284: VisibleDeprecationWarning: Creating an ndarray from ragged nested sequences (which is a list-or-tuple of lists-or-tuples-or ndarrays with different lengths or shapes) is deprecated. If you meant to do this, you must specify 'dtype=object' when creating the ndarray.\n",
      "  extended_neighbors[empty_vectors_boolean_flags] = numpy.array(neighbors)[:-1]\n",
      "/Users/paczuskp/Envs/scispacy/lib/python3.8/site-packages/scispacy/candidate_generation.py:285: VisibleDeprecationWarning: Creating an ndarray from ragged nested sequences (which is a list-or-tuple of lists-or-tuples-or ndarrays with different lengths or shapes) is deprecated. If you meant to do this, you must specify 'dtype=object' when creating the ndarray.\n",
      "  extended_distances[empty_vectors_boolean_flags] = numpy.array(distances)[:-1]\n"
     ]
    }
   ],
   "source": [
    "doc = nlp(\"Spinal and bulbar muscular atrophy (SBMA) is an \\\n",
    "           inherited motor neuron disease caused by the expansion \\\n",
    "           of a polyglutamine tract within the androgen receptor (AR). \\\n",
    "           SBMA can be caused by this easily.\")"
   ]
  },
  {
   "cell_type": "code",
   "execution_count": 14,
   "id": "9bdac147-7779-4e41-a93a-96115f564bfb",
   "metadata": {},
   "outputs": [
    {
     "name": "stdout",
     "output_type": "stream",
     "text": [
      "Name:  bulbar\n"
     ]
    }
   ],
   "source": [
    "# Let's look at a random entity!\n",
    "entity = doc.ents[1]\n",
    "\n",
    "print(\"Name: \", entity)"
   ]
  },
  {
   "cell_type": "code",
   "execution_count": 16,
   "id": "2acf95f1-f292-4f90-9b2c-3d2b5245fa00",
   "metadata": {},
   "outputs": [
    {
     "name": "stdout",
     "output_type": "stream",
     "text": [
      "CUI: C1947952, Name: anatomical bulb\n",
      "Definition: A rounded dilation or expansion in a canal, vessel, or organ.\n",
      "TUI(s): T017\n",
      "Aliases: (total: 2): \n",
      "\t Bulbar, Bulb\n",
      "CUI: C0032372, Name: Poliomyelitis, Bulbar\n",
      "Definition: A form of paralytic poliomyelitis affecting neurons of the MEDULLA OBLONGATA of the brain stem. Clinical features include impaired respiration, HYPERTENSION, alterations of vasomotor control, and dysphagia. Weakness and atrophy of the limbs and trunk due to spinal cord involvement is usually associated. (From Adams et al., Principles of Neurology, 6th ed, p765)\n",
      "TUI(s): T047\n",
      "Aliases (abbreviated, total: 23): \n",
      "\t Acute bulbar polioencephalitis, Bulbar Polio, Poliomyelitis, Medullary Involvement, BULBAR POLIO, Acute paralytic poliomyelitis specified as bulbar, Polio, Bulbar, Bulbar Poliomyelitis, Anterior acute poliomyelitis, Acute infantile paralysis, Acute paralytic poliomyelitis, bulbar\n",
      "CUI: C2586323, Name: Structure of fascial sheath of eyeball\n",
      "Definition: Sheath of the eyeball consisting of fascia extending from the OPTIC NERVE to the corneal limbus.\n",
      "TUI(s): T023\n",
      "Aliases (abbreviated, total: 20): \n",
      "\t Eyeball, sheath, Vaginal bulbi, Capsule, Tenon, Bulbar sheath, Tenon's capsule, Fascia bulbi, Tenons Capsule, Structure of fascial sheath of eyeball, tenon capsule, Sheath of eyeball\n",
      "CUI: C1744560, Name: Bulbar urethra\n",
      "Definition: The portion of the penile urethra that spans the bulb of the penis.\n",
      "TUI(s): T023\n",
      "Aliases: (total: 5): \n",
      "\t Structure of bulbar urethra, Bulbar urethra, Bulbar Portion of the Urethra, Structure of bulbar urethra (body structure), Bulbar Urethra\n",
      "CUI: C0030442, Name: Progressive bulbar palsy\n",
      "Definition: A motor neuron disease marked by progressive weakness of the muscles innervated by cranial nerves of the lower brain stem. Clinical manifestations include dysarthria, dysphagia, facial weakness, tongue weakness, and fasciculations of the tongue and facial muscles. The adult form of the disease is marked initially by bulbar weakness which progresses to involve motor neurons throughout the neuroaxis. Eventually this condition may become indistinguishable from AMYOTROPHIC LATERAL SCLEROSIS. Fazio-Londe syndrome is an inherited form of this illness which occurs in children and young adults. (Adams et al., Principles of Neurology, 6th ed, p1091; Brain 1992 Dec;115(Pt 6):1889-1900)\n",
      "TUI(s): T047\n",
      "Aliases (abbreviated, total: 13): \n",
      "\t bulbar palsy progressive, Palsies, Progressive Bulbar, Progressive Bulbar Palsy, Bulbar Palsy, Progressive, Progressive bulbar palsy (disorder), PBP - Progressive bulbar palsy, Bulbar paralysis, Progressive Bulbar Palsies, Bulbar palsy, Progressive bulbar palsy\n"
     ]
    }
   ],
   "source": [
    "linker = nlp.get_pipe(\"scispacy_linker\")\n",
    "for umls_ent in entity._.kb_ents:\n",
    "    print(linker.kb.cui_to_entity[umls_ent[0]])"
   ]
  },
  {
   "cell_type": "code",
   "execution_count": null,
   "id": "399d0437-1bf4-45c5-addc-06c04d81cab1",
   "metadata": {},
   "outputs": [],
   "source": []
  }
 ],
 "metadata": {
  "kernelspec": {
   "display_name": "Scispacy (playgrounds)",
   "language": "python",
   "name": "scispacy"
  },
  "language_info": {
   "codemirror_mode": {
    "name": "ipython",
    "version": 3
   },
   "file_extension": ".py",
   "mimetype": "text/x-python",
   "name": "python",
   "nbconvert_exporter": "python",
   "pygments_lexer": "ipython3",
   "version": "3.8.9"
  }
 },
 "nbformat": 4,
 "nbformat_minor": 5
}
