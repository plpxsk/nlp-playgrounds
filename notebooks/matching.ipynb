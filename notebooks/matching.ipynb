{
 "cells": [
  {
   "cell_type": "markdown",
   "id": "b0f9822e-1ca1-421f-be99-f6b71cb74578",
   "metadata": {},
   "source": [
    "# Matching\n",
    "\n",
    "Rule-based matching with `spacy`\n",
    "\n",
    "### ! Interactive matcher explorer\n",
    "\n",
    "https://explosion.ai/demos/matcher"
   ]
  },
  {
   "cell_type": "code",
   "execution_count": 1,
   "id": "845fb3b2-807a-4eae-a972-5fe3daa0344c",
   "metadata": {},
   "outputs": [],
   "source": [
    "import spacy"
   ]
  },
  {
   "cell_type": "code",
   "execution_count": 2,
   "id": "e7537f19-7ee3-4c56-a0bd-51c9e74eec9d",
   "metadata": {},
   "outputs": [],
   "source": [
    "nlp = spacy.load('en_core_web_sm')"
   ]
  },
  {
   "cell_type": "code",
   "execution_count": 8,
   "id": "b12efa55-fd57-4069-87cc-c863bc12c3b6",
   "metadata": {},
   "outputs": [],
   "source": [
    "def load_data(p):\n",
    "    with open(p) as f:\n",
    "        x = f.read()\n",
    "    x = x.replace(\"\\n\\n\", \" \")\n",
    "    x = x.replace(\"\\n\", \" \")\n",
    "    return(x)"
   ]
  },
  {
   "cell_type": "code",
   "execution_count": 30,
   "id": "acff134f-05eb-403f-ab3a-773c3b5bcfec",
   "metadata": {},
   "outputs": [],
   "source": [
    "p = \"../data/abstracts_manual.txt\"\n",
    "text = load_data(p)\n",
    "abstracts = nlp(text)"
   ]
  },
  {
   "cell_type": "markdown",
   "id": "0198f704-811a-4c8f-8797-32261319ecfd",
   "metadata": {},
   "source": [
    "# Match Playgrounds"
   ]
  },
  {
   "cell_type": "code",
   "execution_count": 12,
   "id": "5a7d1c19-66f5-426f-b1c4-22ba32011493",
   "metadata": {},
   "outputs": [],
   "source": [
    "from spacy.matcher import Matcher"
   ]
  },
  {
   "cell_type": "markdown",
   "id": "517a8253-29b9-4fcd-bf77-ecf02175ac21",
   "metadata": {},
   "source": [
    "### Example"
   ]
  },
  {
   "cell_type": "code",
   "execution_count": 68,
   "id": "d592eba8-023d-4a1d-9032-34e7b9ceddc9",
   "metadata": {},
   "outputs": [],
   "source": [
    "pattern = [\n",
    "    {\"LEMMA\": \"love\", \"POS\": \"VERB\"},\n",
    "    {\"POS\": \"NOUN\"}\n",
    "]\n",
    "\n",
    "doc = nlp(\"I loved dogs but now I love cats more.\")"
   ]
  },
  {
   "cell_type": "code",
   "execution_count": 69,
   "id": "7aff9bd5-2825-426e-b964-c434debcc3fb",
   "metadata": {},
   "outputs": [],
   "source": [
    "matcher = Matcher(nlp.vocab)\n",
    "matcher.add(\"amor\", [pattern])\n",
    "\n",
    "matches = matcher(doc)"
   ]
  },
  {
   "cell_type": "code",
   "execution_count": 71,
   "id": "45588dd7-ff77-4f60-8464-a3670da1e86c",
   "metadata": {},
   "outputs": [
    {
     "name": "stdout",
     "output_type": "stream",
     "text": [
      "I loved dogs but now I love cats more. \n",
      "\n",
      "loved dogs\n",
      "love cats\n"
     ]
    }
   ],
   "source": [
    "print(doc, \"\\n\")\n",
    "# extract the matched text\n",
    "for _, start, end in matches:\n",
    "    matched_span = doc[start:end]\n",
    "    print(matched_span.text)"
   ]
  },
  {
   "cell_type": "markdown",
   "id": "88db6981-a790-4df8-a165-64ee1993eea3",
   "metadata": {},
   "source": [
    "### Example"
   ]
  },
  {
   "cell_type": "code",
   "execution_count": 62,
   "id": "a276b988-ae5a-4b34-9ae6-97d76abb06eb",
   "metadata": {},
   "outputs": [
    {
     "data": {
      "text/plain": [
       "('cancer', 'cancer')"
      ]
     },
     "execution_count": 62,
     "metadata": {},
     "output_type": "execute_result"
    }
   ],
   "source": [
    "# first, confirm appropriate lemma\n",
    "word = \"cancer\"\n",
    "\n",
    "lemma = nlp(word)[0].lemma_\n",
    "\n",
    "word, lemma"
   ]
  },
  {
   "cell_type": "code",
   "execution_count": 63,
   "id": "313a7ee1-fc04-498a-9fe8-d43684c970f7",
   "metadata": {},
   "outputs": [
    {
     "name": "stdout",
     "output_type": "stream",
     "text": [
      "cancer patients\n",
      "cancer treatment\n",
      "cancer treatment\n",
      "cancer immunoediting\n",
      "cancer immunosurveillance\n",
      "cancer prognoses\n",
      "cancer therapy\n",
      "cancer effects\n",
      "cancer development\n",
      "cancer cells\n",
      "cancer treatment\n",
      "cancer treatment\n",
      "cancer treatment\n",
      "cancer patients\n",
      "cancer therapy\n",
      "cancer cell\n",
      "cancer cells\n",
      "cancer stem\n",
      "cancer tissue\n",
      "cancer characteristics\n",
      "cancer treatment\n",
      "cancer cells\n",
      "cancer tumorigenesis\n",
      "cancer initiation\n",
      "cancer progression\n",
      "cancer chemoprevention\n",
      "cancer cases\n",
      "cancer deaths\n",
      "cancer deaths\n",
      "cancer deaths\n",
      "cancer cells\n",
      "cancer cells\n",
      "cancer patients\n",
      "cancer killer\n",
      "cancer treatment\n",
      "cancer mouse\n",
      "cancer agents\n"
     ]
    }
   ],
   "source": [
    "# set up pattern\n",
    "pattern = [{\"TEXT\": lemma}, {\"POS\": \"NOUN\"}]\n",
    "\n",
    "matcher = Matcher(nlp.vocab)\n",
    "matcher.add(\"my_patten\", [pattern])\n",
    "\n",
    "# process matches\n",
    "matches = matcher(abstracts)\n",
    "\n",
    "# extract the matched text\n",
    "for _, start, end in matches:\n",
    "    matched_span = abstracts[start:end]\n",
    "    print(matched_span.text)"
   ]
  },
  {
   "cell_type": "markdown",
   "id": "beeb482f-04ea-46b6-a5df-8ef9e335cd3a",
   "metadata": {},
   "source": [
    "### Example"
   ]
  },
  {
   "cell_type": "code",
   "execution_count": 64,
   "id": "7764a40a-0457-4f4a-b101-129ae55b319c",
   "metadata": {},
   "outputs": [
    {
     "data": {
      "text/plain": [
       "('summarize', 'summarize')"
      ]
     },
     "execution_count": 64,
     "metadata": {},
     "output_type": "execute_result"
    }
   ],
   "source": [
    "# first, confirm appropriate lemma\n",
    "word = \"summarize\"\n",
    "\n",
    "lemma = nlp(word)[0].lemma_\n",
    "\n",
    "word, lemma"
   ]
  },
  {
   "cell_type": "code",
   "execution_count": 65,
   "id": "723ed338-4ea1-4a7a-a4d3-1351067ce92c",
   "metadata": {},
   "outputs": [
    {
     "name": "stdout",
     "output_type": "stream",
     "text": [
      "summarize hallmarks\n"
     ]
    }
   ],
   "source": [
    "# set up pattern\n",
    "pattern = [\n",
    "    {\"LEMMA\": lemma},\n",
    "    {\"POS\": \"DET\", \"OP\": \"?\"},  # optional: match 0 or 1 times\n",
    "    {\"POS\": \"NOUN\"}\n",
    "]\n",
    "\n",
    "# process matches\n",
    "matcher = Matcher(nlp.vocab)\n",
    "matcher.add(\"my_patten\", [pattern])\n",
    "matches = matcher(abstracts)\n",
    "\n",
    "# extract the matched text\n",
    "for _, start, end in matches:\n",
    "    matched_span = abstracts[start:end]\n",
    "    print(matched_span.text)"
   ]
  },
  {
   "cell_type": "markdown",
   "id": "c557111e-18e9-45df-af06-b47fb88ead31",
   "metadata": {},
   "source": [
    "# Dependency matching\n",
    "\n",
    "More complex\n",
    "\n",
    "https://spacy.io/usage/rule-based-matching#dependencymatcher"
   ]
  },
  {
   "cell_type": "code",
   "execution_count": 66,
   "id": "eb2c5d80-9b73-47da-8fc9-53997a95685d",
   "metadata": {},
   "outputs": [],
   "source": [
    "from spacy.matcher import DependencyMatcher"
   ]
  },
  {
   "cell_type": "code",
   "execution_count": null,
   "id": "01ba70bc-3325-4a89-854a-fdb460187d10",
   "metadata": {},
   "outputs": [],
   "source": [
    "pattern = [\n",
    "    \n",
    "]"
   ]
  }
 ],
 "metadata": {
  "kernelspec": {
   "display_name": "nlp-playgrounds",
   "language": "python",
   "name": "nlp-playgrounds"
  },
  "language_info": {
   "codemirror_mode": {
    "name": "ipython",
    "version": 3
   },
   "file_extension": ".py",
   "mimetype": "text/x-python",
   "name": "python",
   "nbconvert_exporter": "python",
   "pygments_lexer": "ipython3",
   "version": "3.8.9"
  }
 },
 "nbformat": 4,
 "nbformat_minor": 5
}
