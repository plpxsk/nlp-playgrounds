{
 "cells": [
  {
   "cell_type": "markdown",
   "metadata": {},
   "source": [
    "# Spelling playground\n",
    "\n",
    "Source: [Peter Norvig](http://norvig.com/spell-correct.html)\n",
    "\n",
    "`big.txt` is \"a concatenation of public domain book excerpts from Project Gutenberg and lists of most frequent words from Wiktionary and the British National Corpus.\""
   ]
  },
  {
   "cell_type": "code",
   "execution_count": 1,
   "metadata": {},
   "outputs": [],
   "source": [
    "import re\n",
    "from collections import Counter"
   ]
  },
  {
   "cell_type": "code",
   "execution_count": 2,
   "metadata": {},
   "outputs": [],
   "source": [
    "def words(text): return re.findall(r'\\w+', text.lower())"
   ]
  },
  {
   "cell_type": "code",
   "execution_count": 66,
   "metadata": {},
   "outputs": [],
   "source": [
    "# Load big text file with many English words\n",
    "# Download from http://norvig.com/big.txt\n",
    "WORDS = Counter(words(open('../big.txt').read()))\n",
    "#WORDS = Counter(words(open('../data/test.txt').read()))"
   ]
  },
  {
   "cell_type": "code",
   "execution_count": 67,
   "metadata": {},
   "outputs": [],
   "source": [
    "def P(word, N=sum(WORDS.values())): \n",
    "    \"Probability of `word`.\"\n",
    "    return WORDS[word] / N\n",
    "\n",
    "def correction(word): \n",
    "    \"Most probable spelling correction for word.\"\n",
    "    return max(candidates(word), key=P)\n",
    "\n",
    "def candidates(word): \n",
    "    \"Generate possible spelling corrections for word.\"\n",
    "    return (known([word]) or known(edits1(word)) or known(edits2(word)) or [word])\n",
    "\n",
    "def known(words): \n",
    "    \"The subset of `words` that appear in the dictionary of WORDS.\"\n",
    "    return set(w for w in words if w in WORDS)\n",
    "\n",
    "def edits1(word):\n",
    "    \"All edits that are one edit away from `word`.\"\n",
    "    letters    = 'abcdefghijklmnopqrstuvwxyz'\n",
    "    splits     = [(word[:i], word[i:])    for i in range(len(word) + 1)]\n",
    "    deletes    = [L + R[1:]               for L, R in splits if R]\n",
    "    transposes = [L + R[1] + R[0] + R[2:] for L, R in splits if len(R)>1]\n",
    "    replaces   = [L + c + R[1:]           for L, R in splits if R for c in letters]\n",
    "    inserts    = [L + c + R               for L, R in splits for c in letters]\n",
    "    return set(deletes + transposes + replaces + inserts)\n",
    "\n",
    "def edits2(word): \n",
    "    \"All edits that are two edits away from `word`.\"\n",
    "    return (e2 for e1 in edits1(word) for e2 in edits1(e1))"
   ]
  },
  {
   "cell_type": "markdown",
   "metadata": {},
   "source": [
    "# Example"
   ]
  },
  {
   "cell_type": "code",
   "execution_count": 68,
   "metadata": {},
   "outputs": [
    {
     "data": {
      "text/plain": [
       "'spring'"
      ]
     },
     "execution_count": 68,
     "metadata": {},
     "output_type": "execute_result"
    }
   ],
   "source": [
    "correction('spling')"
   ]
  },
  {
   "cell_type": "code",
   "execution_count": 69,
   "metadata": {},
   "outputs": [
    {
     "data": {
      "text/plain": [
       "{'sling', 'splint', 'spring', 'spying'}"
      ]
     },
     "execution_count": 69,
     "metadata": {},
     "output_type": "execute_result"
    }
   ],
   "source": [
    "candidates('spling')"
   ]
  },
  {
   "cell_type": "code",
   "execution_count": 70,
   "metadata": {},
   "outputs": [
    {
     "name": "stdout",
     "output_type": "stream",
     "text": [
      "splint 1.5238641609559111e-05\n",
      "spring 6.274734780406692e-05\n",
      "sling 1.7927813658304835e-06\n",
      "spying 8.963906829152417e-07\n"
     ]
    }
   ],
   "source": [
    "for x in candidates('spling'):\n",
    "    print(x, P(x))"
   ]
  },
  {
   "cell_type": "code",
   "execution_count": 71,
   "metadata": {},
   "outputs": [
    {
     "data": {
      "text/plain": [
       "{'sling', 'splint', 'spring', 'spying'}"
      ]
     },
     "execution_count": 71,
     "metadata": {},
     "output_type": "execute_result"
    }
   ],
   "source": [
    "known(edits1('spling'))"
   ]
  },
  {
   "cell_type": "markdown",
   "metadata": {},
   "source": [
    "# Example"
   ]
  },
  {
   "cell_type": "code",
   "execution_count": 73,
   "metadata": {},
   "outputs": [
    {
     "data": {
      "text/plain": [
       "'corrected'"
      ]
     },
     "execution_count": 73,
     "metadata": {},
     "output_type": "execute_result"
    }
   ],
   "source": [
    "correction('korrcted')"
   ]
  },
  {
   "cell_type": "code",
   "execution_count": 74,
   "metadata": {},
   "outputs": [
    {
     "data": {
      "text/plain": [
       "{'corrected'}"
      ]
     },
     "execution_count": 74,
     "metadata": {},
     "output_type": "execute_result"
    }
   ],
   "source": [
    "candidates('korrcted')"
   ]
  },
  {
   "cell_type": "code",
   "execution_count": 76,
   "metadata": {},
   "outputs": [
    {
     "data": {
      "text/plain": [
       "1.2549469560813385e-05"
      ]
     },
     "execution_count": 76,
     "metadata": {},
     "output_type": "execute_result"
    }
   ],
   "source": [
    "P('corrected')"
   ]
  },
  {
   "cell_type": "code",
   "execution_count": 77,
   "metadata": {},
   "outputs": [
    {
     "data": {
      "text/plain": [
       "0.07154004401278254"
      ]
     },
     "execution_count": 77,
     "metadata": {},
     "output_type": "execute_result"
    }
   ],
   "source": [
    "P('the')"
   ]
  },
  {
   "cell_type": "code",
   "execution_count": 78,
   "metadata": {},
   "outputs": [
    {
     "data": {
      "text/plain": [
       "[('the', 79809), ('of', 40024), ('and', 38312), ('to', 28765), ('in', 22023)]"
      ]
     },
     "execution_count": 78,
     "metadata": {},
     "output_type": "execute_result"
    }
   ],
   "source": [
    "WORDS.most_common(5)"
   ]
  },
  {
   "cell_type": "code",
   "execution_count": 65,
   "metadata": {},
   "outputs": [
    {
     "data": {
      "text/plain": [
       "2736"
      ]
     },
     "execution_count": 65,
     "metadata": {},
     "output_type": "execute_result"
    }
   ],
   "source": [
    "len(WORDS)"
   ]
  },
  {
   "cell_type": "markdown",
   "metadata": {},
   "source": [
    "# Medical Examples"
   ]
  },
  {
   "cell_type": "code",
   "execution_count": 16,
   "metadata": {},
   "outputs": [
    {
     "data": {
      "text/plain": [
       "(130046, 2736)"
      ]
     },
     "execution_count": 16,
     "metadata": {},
     "output_type": "execute_result"
    }
   ],
   "source": [
    "TRAIN = Counter(words(open('../data/train.txt').read()))\n",
    "TEST = Counter(words(open('../data/test.txt').read()))\n",
    "\n",
    "len(TRAIN), len(TEST)"
   ]
  },
  {
   "cell_type": "code",
   "execution_count": 17,
   "metadata": {},
   "outputs": [
    {
     "data": {
      "text/plain": [
       "[('of', 149453),\n",
       " ('and', 86792),\n",
       " ('the', 76629),\n",
       " ('au', 60815),\n",
       " ('fau', 60445),\n",
       " ('ad', 58283),\n",
       " ('in', 50447),\n",
       " ('university', 35441),\n",
       " ('cancer', 35338),\n",
       " ('a', 32975),\n",
       " ('to', 29119),\n",
       " ('2020', 25324),\n",
       " ('department', 25241),\n",
       " ('is', 21990),\n",
       " ('for', 21419),\n",
       " ('with', 20943),\n",
       " ('10', 20320),\n",
       " ('medical', 20084),\n",
       " ('medicine', 17516),\n",
       " ('hospital', 16090)]"
      ]
     },
     "execution_count": 17,
     "metadata": {},
     "output_type": "execute_result"
    }
   ],
   "source": [
    "TRAIN.most_common(20)"
   ]
  },
  {
   "cell_type": "code",
   "execution_count": 18,
   "metadata": {},
   "outputs": [
    {
     "data": {
      "text/plain": [
       "[('the', 310),\n",
       " ('of', 305),\n",
       " ('and', 221),\n",
       " ('in', 218),\n",
       " ('a', 202),\n",
       " ('j', 174),\n",
       " ('to', 172),\n",
       " ('m', 163),\n",
       " ('s', 139),\n",
       " ('t', 138),\n",
       " ('cancer', 136),\n",
       " ('tumor', 124),\n",
       " ('crossref', 115),\n",
       " ('cell', 103),\n",
       " ('resistance', 101),\n",
       " ('cells', 100),\n",
       " ('c', 84),\n",
       " ('1', 80),\n",
       " ('with', 78),\n",
       " ('e', 74)]"
      ]
     },
     "execution_count": 18,
     "metadata": {},
     "output_type": "execute_result"
    }
   ],
   "source": [
    "TEST.most_common(20)"
   ]
  },
  {
   "cell_type": "code",
   "execution_count": 19,
   "metadata": {},
   "outputs": [
    {
     "data": {
      "text/plain": [
       "[('the', 79809),\n",
       " ('of', 40024),\n",
       " ('and', 38312),\n",
       " ('to', 28765),\n",
       " ('in', 22023),\n",
       " ('a', 21124),\n",
       " ('that', 12512),\n",
       " ('he', 12401),\n",
       " ('was', 11410),\n",
       " ('it', 10681)]"
      ]
     },
     "execution_count": 19,
     "metadata": {},
     "output_type": "execute_result"
    }
   ],
   "source": [
    "WORDS.most_common(10)"
   ]
  },
  {
   "cell_type": "code",
   "execution_count": 20,
   "metadata": {},
   "outputs": [],
   "source": [
    "def get_most_common_words(K=20):\n",
    "    return([word for word, count in WORDS.most_common(K)])    "
   ]
  },
  {
   "cell_type": "code",
   "execution_count": 21,
   "metadata": {},
   "outputs": [],
   "source": [
    "most_common = get_most_common_words(50)"
   ]
  },
  {
   "cell_type": "code",
   "execution_count": 22,
   "metadata": {},
   "outputs": [
    {
     "data": {
      "text/plain": [
       "['j',\n",
       " 'm',\n",
       " 't',\n",
       " 'cancer',\n",
       " 'tumor',\n",
       " 'crossref',\n",
       " 'cell',\n",
       " 'resistance',\n",
       " 'cells',\n",
       " 'c',\n",
       " '1',\n",
       " 'e']"
      ]
     },
     "execution_count": 22,
     "metadata": {},
     "output_type": "execute_result"
    }
   ],
   "source": [
    "[word for word, count in TEST.most_common(20) if word not in most_common]"
   ]
  },
  {
   "cell_type": "code",
   "execution_count": 23,
   "metadata": {},
   "outputs": [
    {
     "data": {
      "text/plain": [
       "[('of', 109429),\n",
       " ('au', 60797),\n",
       " ('fau', 60445),\n",
       " ('ad', 58282),\n",
       " ('and', 48480),\n",
       " ('university', 35410),\n",
       " ('cancer', 35184),\n",
       " ('in', 28424),\n",
       " ('2020', 25324),\n",
       " ('department', 25207),\n",
       " ('10', 20226),\n",
       " ('medical', 20062),\n",
       " ('medicine', 17490),\n",
       " ('hospital', 16044),\n",
       " ('cell', 15898),\n",
       " ('0000', 15749),\n",
       " ('phst', 15529),\n",
       " ('china', 15465),\n",
       " ('doi', 14947),\n",
       " ('for', 14478)]"
      ]
     },
     "execution_count": 23,
     "metadata": {},
     "output_type": "execute_result"
    }
   ],
   "source": [
    "(TRAIN - WORDS).most_common(20)"
   ]
  },
  {
   "cell_type": "code",
   "execution_count": 24,
   "metadata": {},
   "outputs": [
    {
     "data": {
      "text/plain": [
       "[('tumor', 123),\n",
       " ('crossref', 115),\n",
       " ('cell', 91),\n",
       " ('j', 85),\n",
       " ('immunotherapy', 62),\n",
       " ('al', 57),\n",
       " ('resistance', 54),\n",
       " ('immune', 48),\n",
       " ('pubmed', 47),\n",
       " ('et', 39),\n",
       " ('pd', 37),\n",
       " ('2018', 34),\n",
       " ('therapy', 34),\n",
       " ('mechanisms', 33),\n",
       " ('antigen', 33),\n",
       " ('melanoma', 27),\n",
       " ('signaling', 25),\n",
       " ('2016', 23),\n",
       " ('tumors', 21),\n",
       " ('pathway', 21)]"
      ]
     },
     "execution_count": 24,
     "metadata": {},
     "output_type": "execute_result"
    }
   ],
   "source": [
    "(TEST - WORDS).most_common(20)"
   ]
  },
  {
   "cell_type": "code",
   "execution_count": 25,
   "metadata": {},
   "outputs": [
    {
     "data": {
      "text/plain": [
       "[('of', 149148),\n",
       " ('and', 86571),\n",
       " ('the', 76319),\n",
       " ('au', 60815),\n",
       " ('fau', 60445),\n",
       " ('ad', 58283),\n",
       " ('in', 50229),\n",
       " ('university', 35440),\n",
       " ('cancer', 35202),\n",
       " ('a', 32773)]"
      ]
     },
     "execution_count": 25,
     "metadata": {},
     "output_type": "execute_result"
    }
   ],
   "source": [
    "(TRAIN - TEST).most_common(10)"
   ]
  },
  {
   "cell_type": "code",
   "execution_count": 26,
   "metadata": {},
   "outputs": [
    {
     "data": {
      "text/plain": [
       "[('of', 149453),\n",
       " ('and', 86792),\n",
       " ('the', 76629),\n",
       " ('au', 60815),\n",
       " ('fau', 60445),\n",
       " ('ad', 58283),\n",
       " ('in', 50447),\n",
       " ('university', 35441),\n",
       " ('cancer', 35338),\n",
       " ('a', 32975)]"
      ]
     },
     "execution_count": 26,
     "metadata": {},
     "output_type": "execute_result"
    }
   ],
   "source": [
    "(TRAIN | TEST).most_common(10)"
   ]
  },
  {
   "cell_type": "markdown",
   "metadata": {},
   "source": [
    "# Tests"
   ]
  },
  {
   "cell_type": "code",
   "execution_count": 27,
   "metadata": {},
   "outputs": [
    {
     "name": "stdout",
     "output_type": "stream",
     "text": [
      "unit_tests pass\n"
     ]
    }
   ],
   "source": [
    "# some numbers changed... easter egg on bottom of big.txt ?\n",
    "def unit_tests():\n",
    "    assert correction('speling') == 'spelling'              # insert\n",
    "    assert correction('korrectud') == 'corrected'           # replace 2\n",
    "    assert correction('bycycle') == 'bicycle'               # replace\n",
    "    assert correction('inconvient') == 'inconvenient'       # insert 2\n",
    "    assert correction('arrainged') == 'arranged'            # delete\n",
    "    assert correction('peotry') =='poetry'                  # transpose\n",
    "    assert correction('peotryy') =='poetry'                 # transpose + delete\n",
    "    assert correction('word') == 'word'                     # known\n",
    "    assert correction('quintessential') == 'quintessential' # unknown\n",
    "    assert words('This is a TEST.') == ['this', 'is', 'a', 'test']\n",
    "    assert Counter(words('This is a test. 123; A TEST this is.')) == (\n",
    "           Counter({'123': 1, 'a': 2, 'is': 2, 'test': 2, 'this': 2}))\n",
    "    assert len(WORDS) == 32198\n",
    "    assert sum(WORDS.values()) == 1115585\n",
    "    assert WORDS.most_common(10) == [\n",
    "     ('the', 79809),\n",
    "     ('of', 40024),\n",
    "     ('and', 38312),\n",
    "     ('to', 28765),\n",
    "     ('in', 22023),\n",
    "     ('a', 21124),\n",
    "     ('that', 12512),\n",
    "     ('he', 12401),\n",
    "     ('was', 11410),\n",
    "     ('it', 10681)]\n",
    "    assert WORDS['the'] == 79809\n",
    "    assert P('quintessential') == 0\n",
    "    assert 0.07 < P('the') < 0.08\n",
    "    return 'unit_tests pass'\n",
    "\n",
    "def spelltest(tests, verbose=False):\n",
    "    \"Run correction(wrong) on all (right, wrong) pairs; report results.\"\n",
    "    import time\n",
    "    start = time.clock()\n",
    "    good, unknown = 0, 0\n",
    "    n = len(tests)\n",
    "    for right, wrong in tests:\n",
    "        w = correction(wrong)\n",
    "        good += (w == right)\n",
    "        if w != right:\n",
    "            unknown += (right not in WORDS)\n",
    "            if verbose:\n",
    "                print('correction({}) => {} ({}); expected {} ({})'\n",
    "                      .format(wrong, w, WORDS[w], right, WORDS[right]))\n",
    "    dt = time.clock() - start\n",
    "    print('{:.0%} of {} correct ({:.0%} unknown) at {:.0f} words per second '\n",
    "          .format(good / n, n, unknown / n, n / dt))\n",
    "    \n",
    "def Testset(lines):\n",
    "    \"Parse 'right: wrong1 wrong2' lines into [('right', 'wrong1'), ('right', 'wrong2')] pairs.\"\n",
    "    return [(right, wrong)\n",
    "            for (right, wrongs) in (line.split(':') for line in lines)\n",
    "            for wrong in wrongs.split()]\n",
    "\n",
    "print(unit_tests())"
   ]
  },
  {
   "cell_type": "code",
   "execution_count": null,
   "metadata": {},
   "outputs": [],
   "source": []
  }
 ],
 "metadata": {
  "kernelspec": {
   "display_name": "Python 3 (ipykernel)",
   "language": "python",
   "name": "python3"
  },
  "language_info": {
   "codemirror_mode": {
    "name": "ipython",
    "version": 3
   },
   "file_extension": ".py",
   "mimetype": "text/x-python",
   "name": "python",
   "nbconvert_exporter": "python",
   "pygments_lexer": "ipython3",
   "version": "3.8.9"
  }
 },
 "nbformat": 4,
 "nbformat_minor": 4
}
