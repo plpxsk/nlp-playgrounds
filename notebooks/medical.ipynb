{
 "cells": [
  {
   "cell_type": "markdown",
   "metadata": {},
   "source": [
    "# Medical NLP\n",
    "\n",
    "Playgrounds via https://www.fast.ai/2019/07/08/fastai-nlp/"
   ]
  },
  {
   "cell_type": "markdown",
   "metadata": {},
   "source": [
    "`2-svd-nmf-topic-modeling`"
   ]
  },
  {
   "cell_type": "code",
   "execution_count": 99,
   "metadata": {},
   "outputs": [],
   "source": [
    "import numpy as np\n",
    "from scipy import linalg\n",
    "\n",
    "from sklearn.feature_extraction.text import CountVectorizer, TfidfVectorizer\n",
    "from sklearn import decomposition\n",
    "import nltk"
   ]
  },
  {
   "cell_type": "code",
   "execution_count": 85,
   "metadata": {},
   "outputs": [
    {
     "name": "stderr",
     "output_type": "stream",
     "text": [
      "Matplotlib is building the font cache; this may take a moment.\n"
     ]
    }
   ],
   "source": [
    "import matplotlib.pyplot as plt\n",
    "%matplotlib inline"
   ]
  },
  {
   "cell_type": "markdown",
   "metadata": {},
   "source": [
    "# Data"
   ]
  },
  {
   "cell_type": "code",
   "execution_count": 72,
   "metadata": {},
   "outputs": [],
   "source": [
    "def get_abstracts():\n",
    "    with open(\"../data/abstracts_manual.txt\") as f:\n",
    "        x = f.read()\n",
    "    x = x.split(\"\\n\\n\")\n",
    "    x = [i.replace(\"\\n\", \" \") for i in x]\n",
    "    return(x)"
   ]
  },
  {
   "cell_type": "code",
   "execution_count": 73,
   "metadata": {},
   "outputs": [
    {
     "data": {
      "text/plain": [
       "18"
      ]
     },
     "execution_count": 73,
     "metadata": {},
     "output_type": "execute_result"
    }
   ],
   "source": [
    "abstracts = get_abstracts()\n",
    "\n",
    "len(abstracts)"
   ]
  },
  {
   "cell_type": "markdown",
   "metadata": {},
   "source": [
    "# Create document-term matrix\n",
    "\n",
    "- rows: documents\n",
    "- columns: vocabulary (excludes stopwords)\n",
    "- cells: 0/1 for vocab no/yes"
   ]
  },
  {
   "cell_type": "code",
   "execution_count": 74,
   "metadata": {},
   "outputs": [],
   "source": [
    "vectorizer = CountVectorizer(stop_words='english')"
   ]
  },
  {
   "cell_type": "code",
   "execution_count": 75,
   "metadata": {},
   "outputs": [
    {
     "data": {
      "text/plain": [
       "(18, 1059)"
      ]
     },
     "execution_count": 75,
     "metadata": {},
     "output_type": "execute_result"
    }
   ],
   "source": [
    "vectors = vectorizer.fit_transform(abstracts).todense()\n",
    "vectors.shape"
   ]
  },
  {
   "cell_type": "code",
   "execution_count": 77,
   "metadata": {},
   "outputs": [
    {
     "data": {
      "text/plain": [
       "array(['fruit', 'fulfill', 'function', 'functional', 'fundamental'],\n",
       "      dtype=object)"
      ]
     },
     "execution_count": 77,
     "metadata": {},
     "output_type": "execute_result"
    }
   ],
   "source": [
    "vocab = np.array(vectorizer.get_feature_names_out())\n",
    "\n",
    "vocab[400:405]"
   ]
  },
  {
   "cell_type": "code",
   "execution_count": 180,
   "metadata": {},
   "outputs": [
    {
     "data": {
      "text/plain": [
       "array(['adjacent', 'advanced', 'advent', 'agnostic', 'alterations',\n",
       "       'appearing', 'approved', 'benefited', 'biology', 'breakthroughs',\n",
       "       'bringing', 'burden', 'cause', 'cellular', 'characterized',\n",
       "       'chronic', 'collates', 'collectively', 'conditions', 'crucial',\n",
       "       'current', 'deaths', 'demarcating', 'diagnosis', 'directions',\n",
       "       'disease', 'dismal', 'drugs', 'earliest', 'enable', 'evidence',\n",
       "       'fare', 'fatal', 'focus', 'forth', 'fruit', 'fulfill', 'greatly',\n",
       "       'hanging', 'health', 'heavy', 'highlight', 'ideal', 'identify',\n",
       "       'imbalance', 'importantly', 'inflammatory', 'inflicting',\n",
       "       'insights', 'introducing', 'investigating', 'investigations',\n",
       "       'learning', 'light', 'low', 'microbiome', 'microenvironment',\n",
       "       'molecular', 'multidimensional', 'naïve', 'normal', 'novel',\n",
       "       'number', 'obstructive', 'opportunities', 'outcome', 'outcomes',\n",
       "       'paradigm', 'particular', 'patient', 'patients', 'personalized',\n",
       "       'poor', 'possible', 'potential', 'preclinical', 'predict',\n",
       "       'premalignancy', 'premalignant', 'prodigious', 'prognosis',\n",
       "       'provide', 'provided', 'public', 'recently', 'related', 'reports',\n",
       "       'resolution', 'seminal', 'shed', 'shift', 'stage', 'stages',\n",
       "       'state', 'studies', 'study', 'subset', 'summarize', 'surveys',\n",
       "       'systemic', 'technologies', 'tissue', 'tumors', 'type',\n",
       "       'undauntedly', 'warrant', 'worldwide'], dtype=object)"
      ]
     },
     "execution_count": 180,
     "metadata": {},
     "output_type": "execute_result"
    }
   ],
   "source": [
    "# show vocab from a selected document\n",
    "document_index = 0\n",
    "\n",
    "index_of_vocab_in_document = np.asarray(vectors[document_index]).flatten()==1\n",
    "vectorizer.get_feature_names_out()[index_of_vocab_in_document]"
   ]
  },
  {
   "cell_type": "code",
   "execution_count": 182,
   "metadata": {},
   "outputs": [
    {
     "data": {
      "text/plain": [
       "\"Lung cancer is the number one cause of cancer-related deaths. The malignancy is characterized by dismal prognosis and poor clinical outcome mostly due to advanced-stage at diagnosis, thereby inflicting a heavy burden on public health worldwide. Recent breakthroughs in immunotherapy have greatly benefited a subset  of lung cancer patients, and more importantly, they are undauntedly bringing forth a paradigm shift in the drugs approved for cancer treatment, by introducing “tumor-type agnostic therapies”. Yet, and to fulfill immunotherapy's potential of personalized cancer treatment, demarcating the immune and genomic landscape of cancers at their earliest possible stages will be crucial to identify ideal targets for early treatment and to predict how a particular patient will fare with immunotherapy. Recent genomic surveys of premalignant lung cancer have shed  light on early alterations in the evolution of lung cancer. More recently, the advent of immunogenomic technologies has provided prodigious opportunities to study the multidimensional landscape of lung tumors as well as their microenvironment at the molecular, genomic, and cellular resolution. In this review, we will summarize the current state of immune-based therapies for cancer, with a focus on lung malignancy, and highlight learning outcomes from clinical and preclinical studies investigating the naïve immune biology of lung cancer. The review also collates immunogenomic-based evidence from seminal reports which  collectively warrant future investigations of premalignancy, the tumor-adjacent normal-appearing lung tissue, pulmonary inflammatory conditions such as chronic obstructive pulmonary disease, as well as systemic microbiome imbalance. Such future directions enable novel insights into the evolution of lung cancers and, thus, can provide a low-hanging fruit of targets for early immune-based treatment of this fatal malignancy.\""
      ]
     },
     "execution_count": 182,
     "metadata": {},
     "output_type": "execute_result"
    }
   ],
   "source": [
    "abstracts[document_index]"
   ]
  },
  {
   "cell_type": "markdown",
   "metadata": {},
   "source": [
    "### Get topics with SVD"
   ]
  },
  {
   "cell_type": "code",
   "execution_count": 190,
   "metadata": {},
   "outputs": [
    {
     "data": {
      "text/plain": [
       "(18, 1059)"
      ]
     },
     "execution_count": 190,
     "metadata": {},
     "output_type": "execute_result"
    }
   ],
   "source": [
    "# number of documents, number of words excl stop words\n",
    "len(abstracts), len(vocab)"
   ]
  },
  {
   "cell_type": "code",
   "execution_count": 191,
   "metadata": {},
   "outputs": [
    {
     "data": {
      "text/plain": [
       "(18, 1059)"
      ]
     },
     "execution_count": 191,
     "metadata": {},
     "output_type": "execute_result"
    }
   ],
   "source": [
    "# document-term matrix\n",
    "vectors.shape"
   ]
  },
  {
   "cell_type": "code",
   "execution_count": 115,
   "metadata": {},
   "outputs": [
    {
     "data": {
      "text/plain": [
       "((18, 18), (18,), (18, 1059))"
      ]
     },
     "execution_count": 115,
     "metadata": {},
     "output_type": "execute_result"
    }
   ],
   "source": [
    "U, s, Vh = linalg.svd(vectors, full_matrices=False)\n",
    "\n",
    "U.shape, s.shape, Vh.shape"
   ]
  },
  {
   "cell_type": "code",
   "execution_count": 87,
   "metadata": {},
   "outputs": [
    {
     "data": {
      "text/plain": [
       "array([38.47294266, 25.03227296, 21.04217857, 18.15915546, 15.64644518,\n",
       "       14.38984124, 13.78320562, 13.40697519, 13.08663461, 12.82269295,\n",
       "       12.1978841 , 11.70776251, 11.53264448, 11.30279558, 10.7879368 ,\n",
       "        9.71836512,  9.38083575,  8.54191855])"
      ]
     },
     "execution_count": 87,
     "metadata": {},
     "output_type": "execute_result"
    }
   ],
   "source": [
    "s"
   ]
  },
  {
   "cell_type": "code",
   "execution_count": 86,
   "metadata": {},
   "outputs": [
    {
     "data": {
      "image/png": "[encoded data removed]",
      "text/plain": [
       "<Figure size 432x288 with 1 Axes>"
      ]
     },
     "metadata": {
      "needs_background": "light"
     },
     "output_type": "display_data"
    }
   ],
   "source": [
    "plt.plot(s);"
   ]
  },
  {
   "cell_type": "code",
   "execution_count": 92,
   "metadata": {},
   "outputs": [],
   "source": [
    "num_top_words=8\n",
    "\n",
    "def show_topics(a):\n",
    "    top_words = lambda t: [vocab[i] for i in np.argsort(t)[:-num_top_words-1:-1]]\n",
    "    topic_words = ([top_words(t) for t in a])\n",
    "    return [' '.join(t) for t in topic_words]"
   ]
  },
  {
   "cell_type": "code",
   "execution_count": 201,
   "metadata": {},
   "outputs": [
    {
     "data": {
      "text/plain": [
       "['peptide nanoplexes immunocompetent rnai aggressive product term exists',\n",
       " 'cancer lung 273h immune mice tp53 spc human',\n",
       " 'cell immune response icis cells molecular dna patients',\n",
       " 'dna ddr radiotherapy damage pathways wee1 cycle repair',\n",
       " 'lung based early targets genomic cancer pdlim2 deaths',\n",
       " 'pd pdlim2 anti combination cell genes synthetic epigenetic',\n",
       " 'treatment immune cell review mechanisms disease recently inhibitors',\n",
       " 'therapeutic disease pd despite therapies novel complex cancers',\n",
       " 'pd nsclc inhibitors treatment outcomes patients ythdf1 l1',\n",
       " 'rnas non hallmarks coding ythdf1 mechanisms cells involved',\n",
       " 'cancer wee1 pdlim2 pkmyt1 resistance pd anti epigenetic',\n",
       " 'rnas coding hallmarks non include transcriptional affect early',\n",
       " 'immune responses pathways mechanisms rnas subsets non understanding',\n",
       " 'patients inhibitors pd nsclc outcomes approaches l1 chemoprevention',\n",
       " 'effects curcumin strategies trials approaches chemoprevention mechanisms underlying',\n",
       " 'effects curcumin outcomes studies nsclc natural shown study',\n",
       " 'tumor mechanisms immunoediting immunosurveillance immune immunotherapies discuss effects',\n",
       " 'patients chemoprevention approaches immunoediting immunosurveillance various trials health']"
      ]
     },
     "execution_count": 201,
     "metadata": {},
     "output_type": "execute_result"
    }
   ],
   "source": [
    "# in order: abstracts 10, 18, ...\n",
    "show_topics(Vh[:18])"
   ]
  },
  {
   "cell_type": "code",
   "execution_count": null,
   "metadata": {},
   "outputs": [],
   "source": []
  },
  {
   "cell_type": "code",
   "execution_count": null,
   "metadata": {},
   "outputs": [],
   "source": []
  },
  {
   "cell_type": "markdown",
   "metadata": {},
   "source": [
    "### Get topics with NMF"
   ]
  },
  {
   "cell_type": "code",
   "execution_count": 209,
   "metadata": {},
   "outputs": [],
   "source": [
    "d=3  # num topics"
   ]
  },
  {
   "cell_type": "code",
   "execution_count": 329,
   "metadata": {},
   "outputs": [
    {
     "name": "stderr",
     "output_type": "stream",
     "text": [
      "/Users/paczuskp/Envs/nlp-playgrounds/lib/python3.8/site-packages/sklearn/decomposition/_nmf.py:289: FutureWarning: The 'init' value, when 'init=None' and n_components is less than n_samples and n_features, will be changed from 'nndsvd' to 'nndsvda' in 1.1 (renaming of 0.26).\n",
      "  warnings.warn(\n"
     ]
    },
    {
     "data": {
      "text/plain": [
       "((18, 3), (3, 1059))"
      ]
     },
     "execution_count": 329,
     "metadata": {},
     "output_type": "execute_result"
    }
   ],
   "source": [
    "clf = decomposition.NMF(n_components=d, random_state=1)\n",
    "\n",
    "W1 = clf.fit_transform(np.asarray(vectors))\n",
    "H1 = clf.components_\n",
    "\n",
    "W1.shape, H1.shape"
   ]
  },
  {
   "cell_type": "code",
   "execution_count": 330,
   "metadata": {},
   "outputs": [
    {
     "data": {
      "text/plain": [
       "['cancer lung immune tumor cell response icis molecular',\n",
       " 'egfr resistance emt activation transformation cell sclc tki',\n",
       " 'lung cancer tp53 273h mice human spc mouse']"
      ]
     },
     "execution_count": 330,
     "metadata": {},
     "output_type": "execute_result"
    }
   ],
   "source": [
    "show_topics(H1)"
   ]
  },
  {
   "cell_type": "code",
   "execution_count": 331,
   "metadata": {},
   "outputs": [
    {
     "data": {
      "text/plain": [
       "array([[2.17720004, 0.        , 0.7166273 ],\n",
       "       [1.20511165, 0.09130238, 0.        ],\n",
       "       [0.86660877, 0.30381109, 0.41883758],\n",
       "       [1.1182086 , 0.31377201, 0.61794207],\n",
       "       [1.68592413, 0.30186042, 0.        ],\n",
       "       [0.63009331, 0.02531604, 0.07273609],\n",
       "       [0.88423196, 0.05403301, 0.        ],\n",
       "       [0.79229431, 0.37830103, 0.        ],\n",
       "       [3.1748937 , 0.        , 0.        ],\n",
       "       [0.57311873, 0.13458006, 0.03050993],\n",
       "       [0.68846852, 0.23501579, 0.        ],\n",
       "       [0.        , 5.22955419, 0.        ],\n",
       "       [0.9743455 , 0.16714631, 0.29705978],\n",
       "       [0.53034079, 0.04284913, 0.48145664],\n",
       "       [0.90215609, 0.        , 0.83104029],\n",
       "       [1.13235704, 0.04513192, 0.        ],\n",
       "       [0.53461128, 0.18881508, 0.08906987],\n",
       "       [0.        , 0.        , 5.6164572 ]])"
      ]
     },
     "execution_count": 331,
     "metadata": {},
     "output_type": "execute_result"
    }
   ],
   "source": [
    "# cluster membership: find highest value in each document (row)\n",
    "W1"
   ]
  },
  {
   "cell_type": "code",
   "execution_count": 336,
   "metadata": {},
   "outputs": [
    {
     "data": {
      "text/plain": [
       "array([0, 0, 0, 0, 0, 0, 0, 0, 0, 0, 0, 1, 0, 0, 0, 0, 0, 2])"
      ]
     },
     "execution_count": 336,
     "metadata": {},
     "output_type": "execute_result"
    }
   ],
   "source": [
    "cluster_membership_index = np.argmax(W1, axis=1)\n",
    "cluster_membership_index"
   ]
  },
  {
   "cell_type": "code",
   "execution_count": 337,
   "metadata": {},
   "outputs": [
    {
     "data": {
      "text/plain": [
       "(array([ 0,  1,  2,  3,  4,  5,  6,  7,  8,  9, 10, 12, 13, 14, 15, 16]),)"
      ]
     },
     "execution_count": 337,
     "metadata": {},
     "output_type": "execute_result"
    }
   ],
   "source": [
    "# tuple?\n",
    "np.where(cluster_membership_index==0)"
   ]
  },
  {
   "cell_type": "code",
   "execution_count": 333,
   "metadata": {},
   "outputs": [],
   "source": [
    "def get_members_for_cluster(W1, i):\n",
    "    cluster_membership_index = np.argmax(W1, axis=1)\n",
    "    members = np.where(cluster_membership_index==i)\n",
    "    members = np.array(members).flatten()\n",
    "    return(members)"
   ]
  },
  {
   "cell_type": "code",
   "execution_count": 334,
   "metadata": {},
   "outputs": [
    {
     "name": "stdout",
     "output_type": "stream",
     "text": [
      "[0 0 0 0 0 0 0 0 0 0 0 1 0 0 0 0 0 2]\n",
      "Cluster 0: [ 0  1  2  3  4  5  6  7  8  9 10 12 13 14 15 16]\n",
      "Cluster 1: [11]\n",
      "Cluster 2: [17]\n"
     ]
    }
   ],
   "source": [
    "cluster_membership_index = np.argmax(W1, axis=1)\n",
    "\n",
    "for i in range(d):\n",
    "    m = get_members_for_cluster(W1, i)\n",
    "    print(f\"Cluster {i}: {m}\")"
   ]
  },
  {
   "cell_type": "code",
   "execution_count": 354,
   "metadata": {},
   "outputs": [
    {
     "data": {
      "text/plain": [
       "['Recent research on cancer-associated microbial communities has elucidated the interplay between bacteria, immune cells, and tumor cells; the bacterial pathways involved in the induction of carcinogenesis; and their clinical significance. Although accumulating evidence shows that a dysbiotic condition is associated with lung carcinogenesis, the underlying mechanisms remain unclear. Microorganisms possibly trigger tumor initiation and progression, presumably via  the production of bacterial toxins and other pro-inflammatory factors. The purpose of this review is to discuss the basic role of the airway microbiome in carcinogenesis and the underlying molecular mechanisms, with the aim of developing anticancer strategies involving the airway microbiota. In addition, the mechanisms via which the microbiome acts as a modulator of immunotherapies in lung cancer are summarized.',\n",
       " 'Small cell lung cancer (SCLC) accounts for approximately 10–15% of all lung cancers. The prognosis is poor with median survival in the advanced stage remaining at around 12 months. Despite applying every known therapeutic approach, no major breakthrough has improved the overall survival in the last 30 years. Historically, experiments performed on conventional cell lines may have limitations of not accurately reflecting the complex biological and genomic heterogeneity of this disease. However, additional knowledge gained from recently developed genetically engineered mouse models (GEMMs) and patient derived xenografts (PDXs) have made encouraging inroads. Whole genome sequencing (WGS) data reveals a high mutational burden and a number of genetic alterations but low frequency of targetable mutations. Despite several failures, considerable therapeutic opportunities have recently emerged. Potentially promising therapies  include those targeting DNA damage repair, stem cell/renewal and drug resistant mechanisms. Modest success has also been achieved with immune checkpoint inhibitors while therapeutic exploration of various other components of the immune system is underway. However, the complex heterogeneities reflect the need  for accurate bio-markers to translate novel discoveries into clinical benefit. Additionally, the molecular mechanisms that differentiate chemo-sensitive from chemo-refractory disease remain unknown. Obtaining reliable tumour samples by utilising novel techniques such as endobronchial ultrasound guided needle aspiration or adopting to liquid biopsies are becoming popular. This review will  focus on recent technological and therapeutic advancements to surmount this recalcitrant disease.',\n",
       " 'Radiotherapy is one of the most common countermeasures for treating a wide range  of tumors. However, the radioresistance of cancer cells is still a major limitation for radiotherapy applications. Efforts are continuously ongoing to explore sensitizing targets and develop radiosensitizers for improving the outcomes of radiotherapy. DNA double-strand breaks are the most lethal lesions induced by ionizing radiation and can trigger a series of cellular DNA damage responses (DDRs), including those helping cells recover from radiation injuries,  such as the activation of DNA damage sensing and early transduction pathways, cell cycle arrest, and DNA repair. Obviously, these protective DDRs confer tumor  radioresistance. Targeting DDR signaling pathways has become an attractive strategy for overcoming tumor radioresistance, and some important advances and breakthroughs have already been achieved in recent years. On the basis of comprehensively reviewing the DDR signal pathways, we provide an update on the novel and promising druggable targets emerging from DDR pathways that can be exploited for radiosensitization. We further discuss recent advances identified from preclinical studies, current clinical trials, and clinical application of chemical inhibitors targeting key DDR proteins, including DNA-PKcs (DNA-dependent protein kinase, catalytic subunit), ATM/ATR (ataxia–telangiectasia mutated and Rad3-related), the MRN (MRE11-RAD50-NBS1) complex, the PARP (poly[ADP-ribose] polymerase) family, MDC1, Wee1, LIG4 (ligase IV), CDK1, BRCA1 (BRCA1 C terminal), CHK1, and HIF-1 (hypoxia-inducible factor-1). Challenges for ionizing radiation-induced signal transduction and targeted therapy are also discussed based on recent achievements in the biological field of radiotherapy.']"
      ]
     },
     "execution_count": 354,
     "metadata": {},
     "output_type": "execute_result"
    }
   ],
   "source": [
    "[abstracts[x] for x in [5, 7, 10]]"
   ]
  },
  {
   "cell_type": "markdown",
   "metadata": {},
   "source": [
    "### Get topics with TF-IDF"
   ]
  },
  {
   "cell_type": "code",
   "execution_count": 321,
   "metadata": {},
   "outputs": [
    {
     "name": "stderr",
     "output_type": "stream",
     "text": [
      "/Users/paczuskp/Envs/nlp-playgrounds/lib/python3.8/site-packages/sklearn/decomposition/_nmf.py:289: FutureWarning: The 'init' value, when 'init=None' and n_components is less than n_samples and n_features, will be changed from 'nndsvd' to 'nndsvda' in 1.1 (renaming of 0.26).\n",
      "  warnings.warn(\n"
     ]
    },
    {
     "data": {
      "text/plain": [
       "((18, 3), (3, 1059))"
      ]
     },
     "execution_count": 321,
     "metadata": {},
     "output_type": "execute_result"
    }
   ],
   "source": [
    "vectorizer_tfidf = TfidfVectorizer(stop_words='english')\n",
    "vectors_tfidf = vectorizer_tfidf.fit_transform(abstracts) # (documents, vocab)\n",
    "\n",
    "# increase iters for convergence\n",
    "clf = decomposition.NMF(n_components=d, random_state=1, max_iter=800)\n",
    "\n",
    "W1 = clf.fit_transform(vectors_tfidf)\n",
    "H1 = clf.components_\n",
    "\n",
    "W1.shape, H1.shape"
   ]
  },
  {
   "cell_type": "code",
   "execution_count": 322,
   "metadata": {},
   "outputs": [
    {
     "data": {
      "text/plain": [
       "['immune pd cancer nsclc icis patients lung treatment',\n",
       " 'dna wee1 damage ddr radiotherapy cycle pkmyt1 synthetic',\n",
       " 'lung cancer effects carcinogenesis approaches mechanisms underlying therapeutic']"
      ]
     },
     "execution_count": 322,
     "metadata": {},
     "output_type": "execute_result"
    }
   ],
   "source": [
    "show_topics(H1)"
   ]
  },
  {
   "cell_type": "code",
   "execution_count": 323,
   "metadata": {},
   "outputs": [
    {
     "data": {
      "text/plain": [
       "array([[0.25843708, 0.        , 0.29999615],\n",
       "       [0.47254607, 0.        , 0.        ],\n",
       "       [0.        , 0.        , 0.57922006],\n",
       "       [0.29840532, 0.        , 0.10764621],\n",
       "       [0.4260182 , 0.03581871, 0.01811018],\n",
       "       [0.        , 0.        , 0.48100115],\n",
       "       [0.50049112, 0.        , 0.        ],\n",
       "       [0.02374477, 0.21574509, 0.28619313],\n",
       "       [0.48159316, 0.        , 0.01512005],\n",
       "       [0.        , 0.58257313, 0.        ],\n",
       "       [0.        , 0.68907034, 0.        ],\n",
       "       [0.06304803, 0.02917146, 0.2710684 ],\n",
       "       [0.02597813, 0.00911979, 0.33058655],\n",
       "       [0.        , 0.        , 0.52794392],\n",
       "       [0.        , 0.        , 0.49730509],\n",
       "       [0.05108084, 0.70136619, 0.        ],\n",
       "       [0.20923005, 0.03286954, 0.00141869],\n",
       "       [0.00914124, 0.        , 0.42890102]])"
      ]
     },
     "execution_count": 323,
     "metadata": {},
     "output_type": "execute_result"
    }
   ],
   "source": [
    "W1"
   ]
  },
  {
   "cell_type": "code",
   "execution_count": 324,
   "metadata": {},
   "outputs": [
    {
     "name": "stdout",
     "output_type": "stream",
     "text": [
      "[2 0 2 0 0 2 0 2 0 1 1 2 2 2 2 1 0 2]\n",
      "Cluster 0: [ 1  3  4  6  8 16]\n",
      "Cluster 1: [ 9 10 15]\n",
      "Cluster 2: [ 0  2  5  7 11 12 13 14 17]\n"
     ]
    }
   ],
   "source": [
    "cluster_membership_index = np.argmax(W1, axis=1)\n",
    "print(cluster_membership_index)\n",
    "\n",
    "for i in range(d):\n",
    "    members = np.where(cluster_membership_index==i)\n",
    "    members = np.array(members).flatten()\n",
    "    print(f\"Cluster {i}: {members}\")"
   ]
  },
  {
   "cell_type": "code",
   "execution_count": 325,
   "metadata": {},
   "outputs": [],
   "source": []
  },
  {
   "cell_type": "code",
   "execution_count": 327,
   "metadata": {},
   "outputs": [
    {
     "data": {
      "text/plain": [
       "array([ 9, 10, 15])"
      ]
     },
     "execution_count": 327,
     "metadata": {},
     "output_type": "execute_result"
    }
   ],
   "source": [
    "get_members_for_cluster(W1, 1)"
   ]
  },
  {
   "cell_type": "code",
   "execution_count": null,
   "metadata": {},
   "outputs": [],
   "source": [
    "def get_cluster_membership_index(W1):\n",
    "    return(np.argmax(W1, axis=1))    "
   ]
  },
  {
   "cell_type": "markdown",
   "metadata": {},
   "source": [
    "# Temp: data"
   ]
  },
  {
   "cell_type": "code",
   "execution_count": 7,
   "metadata": {},
   "outputs": [],
   "source": [
    "from sklearn.datasets import fetch_20newsgroups"
   ]
  },
  {
   "cell_type": "code",
   "execution_count": 9,
   "metadata": {},
   "outputs": [],
   "source": [
    "categories = ['alt.atheism', 'talk.religion.misc', 'comp.graphics', 'sci.space']\n",
    "remove = ('headers', 'footers', 'quotes')\n",
    "newsgroups_train = fetch_20newsgroups(subset='train', categories=categories, remove=remove)\n",
    "newsgroups_test = fetch_20newsgroups(subset='test', categories=categories, remove=remove)"
   ]
  },
  {
   "cell_type": "code",
   "execution_count": 55,
   "metadata": {},
   "outputs": [
    {
     "data": {
      "text/plain": [
       "2034"
      ]
     },
     "execution_count": 55,
     "metadata": {},
     "output_type": "execute_result"
    }
   ],
   "source": [
    "len(newsgroups_train.data)"
   ]
  },
  {
   "cell_type": "code",
   "execution_count": 33,
   "metadata": {},
   "outputs": [
    {
     "name": "stdout",
     "output_type": "stream",
     "text": [
      "Hi,\n",
      "\n",
      "I've noticed that if you only save a model (with all your mapping planes\n",
      "positioned carefully) to a .3DS file that when you reload it after restarting\n",
      "3DS, they are given a default position and orientation.  But if you save\n",
      "to a .PRJ file their positions/orientation are preserved.  Does anyone\n",
      "know why this information is not stored in the .3DS file?  Nothing is\n",
      "explicitly said in the manual about saving texture rules in the .PRJ file. \n",
      "I'd like to be able to read the texture rule information, does anyone have \n",
      "the format for the .PRJ file?\n",
      "\n",
      "Is the .CEL file format available from somewhere?\n",
      "\n",
      "Rych\n",
      "\n",
      "\n",
      "Seems to be, barring evidence to the contrary, that Koresh was simply\n",
      "another deranged fanatic who thought it neccessary to take a whole bunch of\n",
      "folks with him, children and all, to satisfy his delusional mania. Jim\n",
      "Jones, circa 1993.\n",
      "\n",
      "\n",
      "Nope - fruitcakes like Koresh have been demonstrating such evil corruption\n",
      "for centuries.\n",
      "\n",
      " >In article <1993Apr19.020359.26996@sq.sq.com>, msb@sq.sq.com (Mark Brader) \n",
      "\n",
      "MB>                                                             So the\n",
      "MB> 1970 figure seems unlikely to actually be anything but a perijove.\n",
      "\n",
      "JG>Sorry, _perijoves_...I'm not used to talking this language.\n",
      "\n",
      "Couldn't we just say periapsis or apoapsis?\n",
      "\n",
      " \n"
     ]
    }
   ],
   "source": [
    "print(\"\\n\".join(newsgroups_train.data[:3]))"
   ]
  },
  {
   "cell_type": "code",
   "execution_count": 37,
   "metadata": {},
   "outputs": [
    {
     "data": {
      "text/plain": [
       "array([1, 3, 2])"
      ]
     },
     "execution_count": 37,
     "metadata": {},
     "output_type": "execute_result"
    }
   ],
   "source": [
    "newsgroups_train.target[:3]"
   ]
  },
  {
   "cell_type": "code",
   "execution_count": 35,
   "metadata": {},
   "outputs": [
    {
     "data": {
      "text/plain": [
       "['alt.atheism', 'comp.graphics', 'sci.space', 'talk.religion.misc']"
      ]
     },
     "execution_count": 35,
     "metadata": {},
     "output_type": "execute_result"
    }
   ],
   "source": [
    "newsgroups_train.target_names"
   ]
  },
  {
   "cell_type": "code",
   "execution_count": null,
   "metadata": {},
   "outputs": [],
   "source": []
  }
 ],
 "metadata": {
  "kernelspec": {
   "display_name": "nlp-playgrounds",
   "language": "python",
   "name": "nlp-playgrounds"
  },
  "language_info": {
   "codemirror_mode": {
    "name": "ipython",
    "version": 3
   },
   "file_extension": ".py",
   "mimetype": "text/x-python",
   "name": "python",
   "nbconvert_exporter": "python",
   "pygments_lexer": "ipython3",
   "version": "3.8.9"
  }
 },
 "nbformat": 4,
 "nbformat_minor": 4
}
