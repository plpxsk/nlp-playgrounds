{
 "cells": [
  {
   "cell_type": "markdown",
   "id": "539aa834-f558-4157-8419-b6fbe7eb2c12",
   "metadata": {},
   "source": [
    "# NLP POCs"
   ]
  },
  {
   "cell_type": "code",
   "execution_count": 1,
   "id": "40ebbf34-1428-488a-a92d-69d149c22196",
   "metadata": {},
   "outputs": [],
   "source": [
    "# Perform standard imports\n",
    "import spacy\n",
    "nlp = spacy.load('en_core_web_sm')\n",
    "\n",
    "# Import the displaCy library\n",
    "from spacy import displacy"
   ]
  },
  {
   "cell_type": "code",
   "execution_count": 2,
   "id": "c1a58c6d-d9ad-428c-a7c6-f43e3bc4bfab",
   "metadata": {},
   "outputs": [],
   "source": [
    "def load_data(p):\n",
    "    with open(p) as f:\n",
    "        x = f.read()\n",
    "    x = x.replace(\"\\n\\n\", \" \")\n",
    "    x = x.replace(\"\\n\", \" \")\n",
    "    return(x)"
   ]
  },
  {
   "cell_type": "code",
   "execution_count": 3,
   "id": "8efd4851-54ce-4f20-bd3c-f6a33c5c5464",
   "metadata": {},
   "outputs": [],
   "source": [
    "p = \"../data/abstracts_manual.txt\"\n",
    "text = load_data(p)"
   ]
  },
  {
   "cell_type": "code",
   "execution_count": null,
   "id": "bde47673-36f6-4847-9264-cacabfbd690c",
   "metadata": {},
   "outputs": [],
   "source": [
    "# Matching"
   ]
  }
 ],
 "metadata": {
  "kernelspec": {
   "display_name": "nlp-playgrounds",
   "language": "python",
   "name": "nlp-playgrounds"
  },
  "language_info": {
   "codemirror_mode": {
    "name": "ipython",
    "version": 3
   },
   "file_extension": ".py",
   "mimetype": "text/x-python",
   "name": "python",
   "nbconvert_exporter": "python",
   "pygments_lexer": "ipython3",
   "version": "3.8.9"
  }
 },
 "nbformat": 4,
 "nbformat_minor": 5
}
